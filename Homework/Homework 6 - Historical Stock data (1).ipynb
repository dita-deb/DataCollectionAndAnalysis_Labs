{
 "cells": [
  {
   "cell_type": "markdown",
   "id": "cccda0e2",
   "metadata": {},
   "source": [
    "## Stock Market Daily Changes "
   ]
  },
  {
   "cell_type": "markdown",
   "id": "6eda6a5e",
   "metadata": {},
   "source": [
    "__As discussed in class, the percentage daily change of the stock market index, tracked over a long period of time, can be modeled as a random process with normal distribution. In this exercise, you will download real market data of a particular stock (or an index, such as Dow Jones or S&P500) and find out if that is the case.__\n",
    "\n",
    "__To access Nasdaq's historical data, please visit their website (https://www.nasdaq.com/market-activity/quotes/historical) and select one of the 10 most popular stocks listed on the page or enter the ticker symbol of your favorite stock. Once you have selected your stock, click on the provided link, then choose the \"MAX\" option, which typically provides data spanning over a 10-year period. Finally, download the CSV file to access the data.__\n",
    "\n",
    "__Which stock did you pick? Please make sure to include the CSV file when submitting the homework.__\n",
    "\n",
    "__NOTE: You cannot pick AAPL.__"
   ]
  },
  {
   "cell_type": "code",
   "execution_count": 11,
   "id": "dcae75ca",
   "metadata": {},
   "outputs": [],
   "source": [
    "import pandas as pd\n",
    "import numpy as np"
   ]
  },
  {
   "cell_type": "code",
   "execution_count": 12,
   "id": "216a3081",
   "metadata": {},
   "outputs": [],
   "source": [
    "import matplotlib.pyplot as plt "
   ]
  },
  {
   "cell_type": "markdown",
   "id": "7ea4fd4b",
   "metadata": {},
   "source": [
    "## Step 1: Read the stock historical data "
   ]
  },
  {
   "cell_type": "code",
   "execution_count": 44,
   "id": "eddc8422",
   "metadata": {},
   "outputs": [],
   "source": [
    "df = pd.read_csv('HistoricalData_AAPL_10years.csv')"
   ]
  },
  {
   "cell_type": "markdown",
   "id": "5a29b4ee",
   "metadata": {},
   "source": [
    "<h2>Step 2: df.info( ): details of the DataFrame - shape, row index, column labels, dtypes</h2>"
   ]
  },
  {
   "cell_type": "code",
   "execution_count": 45,
   "id": "cb035a83",
   "metadata": {},
   "outputs": [
    {
     "name": "stdout",
     "output_type": "stream",
     "text": [
      "<class 'pandas.core.frame.DataFrame'>\n",
      "RangeIndex: 2518 entries, 0 to 2517\n",
      "Data columns (total 6 columns):\n",
      " #   Column      Non-Null Count  Dtype \n",
      "---  ------      --------------  ----- \n",
      " 0   Date        2518 non-null   object\n",
      " 1   Close/Last  2518 non-null   object\n",
      " 2   Volume      2518 non-null   int64 \n",
      " 3   Open        2518 non-null   object\n",
      " 4   High        2518 non-null   object\n",
      " 5   Low         2518 non-null   object\n",
      "dtypes: int64(1), object(5)\n",
      "memory usage: 118.2+ KB\n"
     ]
    }
   ],
   "source": [
    "df.info()"
   ]
  },
  {
   "cell_type": "markdown",
   "id": "c087d6af",
   "metadata": {},
   "source": [
    "### Display the dataframe index and column labels"
   ]
  },
  {
   "cell_type": "code",
   "execution_count": 46,
   "id": "9444e040",
   "metadata": {},
   "outputs": [
    {
     "data": {
      "text/plain": [
       "RangeIndex(start=0, stop=2518, step=1)"
      ]
     },
     "execution_count": 46,
     "metadata": {},
     "output_type": "execute_result"
    }
   ],
   "source": [
    "df.index"
   ]
  },
  {
   "cell_type": "code",
   "execution_count": 47,
   "id": "1efc0fe7",
   "metadata": {},
   "outputs": [
    {
     "data": {
      "text/plain": [
       "Index(['Date', 'Close/Last', 'Volume', 'Open', 'High', 'Low'], dtype='object')"
      ]
     },
     "execution_count": 47,
     "metadata": {},
     "output_type": "execute_result"
    }
   ],
   "source": [
    "df.columns"
   ]
  },
  {
   "cell_type": "code",
   "execution_count": 48,
   "id": "5b37e211",
   "metadata": {},
   "outputs": [
    {
     "data": {
      "text/plain": [
       "(2518, 6)"
      ]
     },
     "execution_count": 48,
     "metadata": {},
     "output_type": "execute_result"
    }
   ],
   "source": [
    "df.shape"
   ]
  },
  {
   "cell_type": "markdown",
   "id": "a1982e09",
   "metadata": {},
   "source": [
    "### There are a total of 2518 trading days in this historical data."
   ]
  },
  {
   "cell_type": "markdown",
   "id": "24854dec",
   "metadata": {},
   "source": [
    "## Step 3: Display the first 5 rows of the dataframe"
   ]
  },
  {
   "cell_type": "code",
   "execution_count": 49,
   "id": "4396226e",
   "metadata": {},
   "outputs": [
    {
     "data": {
      "text/html": [
       "<div>\n",
       "<style scoped>\n",
       "    .dataframe tbody tr th:only-of-type {\n",
       "        vertical-align: middle;\n",
       "    }\n",
       "\n",
       "    .dataframe tbody tr th {\n",
       "        vertical-align: top;\n",
       "    }\n",
       "\n",
       "    .dataframe thead th {\n",
       "        text-align: right;\n",
       "    }\n",
       "</style>\n",
       "<table border=\"1\" class=\"dataframe\">\n",
       "  <thead>\n",
       "    <tr style=\"text-align: right;\">\n",
       "      <th></th>\n",
       "      <th>Date</th>\n",
       "      <th>Close/Last</th>\n",
       "      <th>Volume</th>\n",
       "      <th>Open</th>\n",
       "      <th>High</th>\n",
       "      <th>Low</th>\n",
       "    </tr>\n",
       "  </thead>\n",
       "  <tbody>\n",
       "    <tr>\n",
       "      <th>0</th>\n",
       "      <td>03/22/2024</td>\n",
       "      <td>$172.28</td>\n",
       "      <td>71160140</td>\n",
       "      <td>$171.76</td>\n",
       "      <td>$173.05</td>\n",
       "      <td>$170.06</td>\n",
       "    </tr>\n",
       "    <tr>\n",
       "      <th>1</th>\n",
       "      <td>03/21/2024</td>\n",
       "      <td>$171.37</td>\n",
       "      <td>106181300</td>\n",
       "      <td>$177.05</td>\n",
       "      <td>$177.49</td>\n",
       "      <td>$170.84</td>\n",
       "    </tr>\n",
       "    <tr>\n",
       "      <th>2</th>\n",
       "      <td>03/20/2024</td>\n",
       "      <td>$178.67</td>\n",
       "      <td>53423100</td>\n",
       "      <td>$175.72</td>\n",
       "      <td>$178.67</td>\n",
       "      <td>$175.09</td>\n",
       "    </tr>\n",
       "    <tr>\n",
       "      <th>3</th>\n",
       "      <td>03/19/2024</td>\n",
       "      <td>$176.08</td>\n",
       "      <td>55215240</td>\n",
       "      <td>$174.34</td>\n",
       "      <td>$176.605</td>\n",
       "      <td>$173.03</td>\n",
       "    </tr>\n",
       "    <tr>\n",
       "      <th>4</th>\n",
       "      <td>03/18/2024</td>\n",
       "      <td>$173.72</td>\n",
       "      <td>75604180</td>\n",
       "      <td>$175.57</td>\n",
       "      <td>$177.71</td>\n",
       "      <td>$173.52</td>\n",
       "    </tr>\n",
       "  </tbody>\n",
       "</table>\n",
       "</div>"
      ],
      "text/plain": [
       "         Date Close/Last     Volume     Open      High      Low\n",
       "0  03/22/2024    $172.28   71160140  $171.76   $173.05  $170.06\n",
       "1  03/21/2024    $171.37  106181300  $177.05   $177.49  $170.84\n",
       "2  03/20/2024    $178.67   53423100  $175.72   $178.67  $175.09\n",
       "3  03/19/2024    $176.08   55215240  $174.34  $176.605  $173.03\n",
       "4  03/18/2024    $173.72   75604180  $175.57   $177.71  $173.52"
      ]
     },
     "execution_count": 49,
     "metadata": {},
     "output_type": "execute_result"
    }
   ],
   "source": [
    "## Display the first 5 rows of data\n",
    "\n",
    "df.head()"
   ]
  },
  {
   "cell_type": "markdown",
   "id": "5d39fbee",
   "metadata": {},
   "source": [
    "## Step 4: Data cleaning before data analysis\n",
    "\n",
    "<h3>Step 4.1: Remove the dollar signs in the price columns and convert them to float</h3>"
   ]
  },
  {
   "cell_type": "code",
   "execution_count": 50,
   "id": "a0fac366",
   "metadata": {},
   "outputs": [
    {
     "data": {
      "text/plain": [
       "0        171.76\n",
       "1        177.05\n",
       "2        175.72\n",
       "3        174.34\n",
       "4        175.57\n",
       "         ...   \n",
       "2513    19.2257\n",
       "2514    19.2863\n",
       "2515    19.5186\n",
       "2516    19.3393\n",
       "2517    19.2293\n",
       "Name: Open, Length: 2518, dtype: object"
      ]
     },
     "execution_count": 50,
     "metadata": {},
     "output_type": "execute_result"
    }
   ],
   "source": [
    "df['Open'].str.strip(\"$\")"
   ]
  },
  {
   "cell_type": "code",
   "execution_count": 51,
   "id": "24de849a",
   "metadata": {},
   "outputs": [],
   "source": [
    "col = ['Close/Last', 'Open', 'High', 'Low']\n",
    "\n",
    "for c in col:\n",
    "    df[c] = df[c].str.strip('$')"
   ]
  },
  {
   "cell_type": "code",
   "execution_count": 52,
   "id": "05e13a39",
   "metadata": {},
   "outputs": [
    {
     "data": {
      "text/html": [
       "<div>\n",
       "<style scoped>\n",
       "    .dataframe tbody tr th:only-of-type {\n",
       "        vertical-align: middle;\n",
       "    }\n",
       "\n",
       "    .dataframe tbody tr th {\n",
       "        vertical-align: top;\n",
       "    }\n",
       "\n",
       "    .dataframe thead th {\n",
       "        text-align: right;\n",
       "    }\n",
       "</style>\n",
       "<table border=\"1\" class=\"dataframe\">\n",
       "  <thead>\n",
       "    <tr style=\"text-align: right;\">\n",
       "      <th></th>\n",
       "      <th>Date</th>\n",
       "      <th>Close/Last</th>\n",
       "      <th>Volume</th>\n",
       "      <th>Open</th>\n",
       "      <th>High</th>\n",
       "      <th>Low</th>\n",
       "    </tr>\n",
       "  </thead>\n",
       "  <tbody>\n",
       "    <tr>\n",
       "      <th>0</th>\n",
       "      <td>03/22/2024</td>\n",
       "      <td>172.28</td>\n",
       "      <td>71160140</td>\n",
       "      <td>171.76</td>\n",
       "      <td>173.05</td>\n",
       "      <td>170.06</td>\n",
       "    </tr>\n",
       "    <tr>\n",
       "      <th>1</th>\n",
       "      <td>03/21/2024</td>\n",
       "      <td>171.37</td>\n",
       "      <td>106181300</td>\n",
       "      <td>177.05</td>\n",
       "      <td>177.49</td>\n",
       "      <td>170.84</td>\n",
       "    </tr>\n",
       "    <tr>\n",
       "      <th>2</th>\n",
       "      <td>03/20/2024</td>\n",
       "      <td>178.67</td>\n",
       "      <td>53423100</td>\n",
       "      <td>175.72</td>\n",
       "      <td>178.67</td>\n",
       "      <td>175.09</td>\n",
       "    </tr>\n",
       "    <tr>\n",
       "      <th>3</th>\n",
       "      <td>03/19/2024</td>\n",
       "      <td>176.08</td>\n",
       "      <td>55215240</td>\n",
       "      <td>174.34</td>\n",
       "      <td>176.605</td>\n",
       "      <td>173.03</td>\n",
       "    </tr>\n",
       "    <tr>\n",
       "      <th>4</th>\n",
       "      <td>03/18/2024</td>\n",
       "      <td>173.72</td>\n",
       "      <td>75604180</td>\n",
       "      <td>175.57</td>\n",
       "      <td>177.71</td>\n",
       "      <td>173.52</td>\n",
       "    </tr>\n",
       "  </tbody>\n",
       "</table>\n",
       "</div>"
      ],
      "text/plain": [
       "         Date Close/Last     Volume    Open     High     Low\n",
       "0  03/22/2024     172.28   71160140  171.76   173.05  170.06\n",
       "1  03/21/2024     171.37  106181300  177.05   177.49  170.84\n",
       "2  03/20/2024     178.67   53423100  175.72   178.67  175.09\n",
       "3  03/19/2024     176.08   55215240  174.34  176.605  173.03\n",
       "4  03/18/2024     173.72   75604180  175.57   177.71  173.52"
      ]
     },
     "execution_count": 52,
     "metadata": {},
     "output_type": "execute_result"
    }
   ],
   "source": [
    "df.head()"
   ]
  },
  {
   "cell_type": "markdown",
   "id": "16186d07",
   "metadata": {},
   "source": [
    "### We need to convert the string to float using either astype() or pd.to_numeric"
   ]
  },
  {
   "cell_type": "code",
   "execution_count": 53,
   "id": "4dea3147",
   "metadata": {},
   "outputs": [
    {
     "name": "stdout",
     "output_type": "stream",
     "text": [
      "<class 'pandas.core.frame.DataFrame'>\n",
      "RangeIndex: 2518 entries, 0 to 2517\n",
      "Data columns (total 6 columns):\n",
      " #   Column      Non-Null Count  Dtype  \n",
      "---  ------      --------------  -----  \n",
      " 0   Date        2518 non-null   object \n",
      " 1   Close/Last  2518 non-null   float64\n",
      " 2   Volume      2518 non-null   int64  \n",
      " 3   Open        2518 non-null   float64\n",
      " 4   High        2518 non-null   float64\n",
      " 5   Low         2518 non-null   float64\n",
      "dtypes: float64(4), int64(1), object(1)\n",
      "memory usage: 118.2+ KB\n"
     ]
    }
   ],
   "source": [
    "df[col] = df[col].astype(float)\n",
    "\n",
    "df.info()"
   ]
  },
  {
   "cell_type": "markdown",
   "id": "3aee0cce",
   "metadata": {},
   "source": [
    "### Step 4.2: The Date column needs to be converted to datetime format first"
   ]
  },
  {
   "cell_type": "code",
   "execution_count": 54,
   "id": "9d0577b4",
   "metadata": {},
   "outputs": [
    {
     "name": "stdout",
     "output_type": "stream",
     "text": [
      "<class 'pandas.core.frame.DataFrame'>\n",
      "RangeIndex: 2518 entries, 0 to 2517\n",
      "Data columns (total 6 columns):\n",
      " #   Column      Non-Null Count  Dtype         \n",
      "---  ------      --------------  -----         \n",
      " 0   Date        2518 non-null   datetime64[ns]\n",
      " 1   Close/Last  2518 non-null   float64       \n",
      " 2   Volume      2518 non-null   int64         \n",
      " 3   Open        2518 non-null   float64       \n",
      " 4   High        2518 non-null   float64       \n",
      " 5   Low         2518 non-null   float64       \n",
      "dtypes: datetime64[ns](1), float64(4), int64(1)\n",
      "memory usage: 118.2 KB\n"
     ]
    }
   ],
   "source": [
    "df.Date = pd.to_datetime(df.Date)\n",
    "df.info()"
   ]
  },
  {
   "cell_type": "markdown",
   "id": "1931741e",
   "metadata": {},
   "source": [
    "## Step 5: Examine the column data statistics using df.describe()"
   ]
  },
  {
   "cell_type": "code",
   "execution_count": 55,
   "id": "645d5767",
   "metadata": {},
   "outputs": [
    {
     "data": {
      "text/html": [
       "<div>\n",
       "<style scoped>\n",
       "    .dataframe tbody tr th:only-of-type {\n",
       "        vertical-align: middle;\n",
       "    }\n",
       "\n",
       "    .dataframe tbody tr th {\n",
       "        vertical-align: top;\n",
       "    }\n",
       "\n",
       "    .dataframe thead th {\n",
       "        text-align: right;\n",
       "    }\n",
       "</style>\n",
       "<table border=\"1\" class=\"dataframe\">\n",
       "  <thead>\n",
       "    <tr style=\"text-align: right;\">\n",
       "      <th></th>\n",
       "      <th>Date</th>\n",
       "      <th>Close/Last</th>\n",
       "      <th>Volume</th>\n",
       "      <th>Open</th>\n",
       "      <th>High</th>\n",
       "      <th>Low</th>\n",
       "    </tr>\n",
       "  </thead>\n",
       "  <tbody>\n",
       "    <tr>\n",
       "      <th>count</th>\n",
       "      <td>2518</td>\n",
       "      <td>2518.000000</td>\n",
       "      <td>2.518000e+03</td>\n",
       "      <td>2518.000000</td>\n",
       "      <td>2518.000000</td>\n",
       "      <td>2518.000000</td>\n",
       "    </tr>\n",
       "    <tr>\n",
       "      <th>mean</th>\n",
       "      <td>2019-03-22 06:45:27.879269120</td>\n",
       "      <td>81.576623</td>\n",
       "      <td>1.304073e+08</td>\n",
       "      <td>81.512308</td>\n",
       "      <td>82.388298</td>\n",
       "      <td>80.683663</td>\n",
       "    </tr>\n",
       "    <tr>\n",
       "      <th>min</th>\n",
       "      <td>2014-03-24 00:00:00</td>\n",
       "      <td>18.498600</td>\n",
       "      <td>2.404834e+07</td>\n",
       "      <td>18.501800</td>\n",
       "      <td>18.610400</td>\n",
       "      <td>18.261800</td>\n",
       "    </tr>\n",
       "    <tr>\n",
       "      <th>25%</th>\n",
       "      <td>2016-09-20 06:00:00</td>\n",
       "      <td>31.336550</td>\n",
       "      <td>7.894942e+07</td>\n",
       "      <td>31.394375</td>\n",
       "      <td>31.604375</td>\n",
       "      <td>31.095350</td>\n",
       "    </tr>\n",
       "    <tr>\n",
       "      <th>50%</th>\n",
       "      <td>2019-03-23 12:00:00</td>\n",
       "      <td>50.753750</td>\n",
       "      <td>1.092608e+08</td>\n",
       "      <td>50.772500</td>\n",
       "      <td>51.151250</td>\n",
       "      <td>50.365000</td>\n",
       "    </tr>\n",
       "    <tr>\n",
       "      <th>75%</th>\n",
       "      <td>2021-09-20 18:00:00</td>\n",
       "      <td>141.110000</td>\n",
       "      <td>1.604801e+08</td>\n",
       "      <td>141.021250</td>\n",
       "      <td>143.032500</td>\n",
       "      <td>138.362500</td>\n",
       "    </tr>\n",
       "    <tr>\n",
       "      <th>max</th>\n",
       "      <td>2024-03-22 00:00:00</td>\n",
       "      <td>198.110000</td>\n",
       "      <td>7.583531e+08</td>\n",
       "      <td>198.020000</td>\n",
       "      <td>199.620000</td>\n",
       "      <td>197.000000</td>\n",
       "    </tr>\n",
       "    <tr>\n",
       "      <th>std</th>\n",
       "      <td>NaN</td>\n",
       "      <td>57.609022</td>\n",
       "      <td>7.658538e+07</td>\n",
       "      <td>57.559038</td>\n",
       "      <td>58.186513</td>\n",
       "      <td>56.966585</td>\n",
       "    </tr>\n",
       "  </tbody>\n",
       "</table>\n",
       "</div>"
      ],
      "text/plain": [
       "                                Date   Close/Last        Volume         Open  \\\n",
       "count                           2518  2518.000000  2.518000e+03  2518.000000   \n",
       "mean   2019-03-22 06:45:27.879269120    81.576623  1.304073e+08    81.512308   \n",
       "min              2014-03-24 00:00:00    18.498600  2.404834e+07    18.501800   \n",
       "25%              2016-09-20 06:00:00    31.336550  7.894942e+07    31.394375   \n",
       "50%              2019-03-23 12:00:00    50.753750  1.092608e+08    50.772500   \n",
       "75%              2021-09-20 18:00:00   141.110000  1.604801e+08   141.021250   \n",
       "max              2024-03-22 00:00:00   198.110000  7.583531e+08   198.020000   \n",
       "std                              NaN    57.609022  7.658538e+07    57.559038   \n",
       "\n",
       "              High          Low  \n",
       "count  2518.000000  2518.000000  \n",
       "mean     82.388298    80.683663  \n",
       "min      18.610400    18.261800  \n",
       "25%      31.604375    31.095350  \n",
       "50%      51.151250    50.365000  \n",
       "75%     143.032500   138.362500  \n",
       "max     199.620000   197.000000  \n",
       "std      58.186513    56.966585  "
      ]
     },
     "execution_count": 55,
     "metadata": {},
     "output_type": "execute_result"
    }
   ],
   "source": [
    "df.describe()"
   ]
  },
  {
   "cell_type": "markdown",
   "id": "e27568a4",
   "metadata": {},
   "source": [
    "### Note that df.describe() returns a DataFrame"
   ]
  },
  {
   "cell_type": "code",
   "execution_count": 56,
   "id": "70d0e64b",
   "metadata": {},
   "outputs": [
    {
     "data": {
      "text/plain": [
       "pandas.core.frame.DataFrame"
      ]
     },
     "execution_count": 56,
     "metadata": {},
     "output_type": "execute_result"
    }
   ],
   "source": [
    "df1 = df.describe()\n",
    "type(df1)"
   ]
  },
  {
   "cell_type": "markdown",
   "id": "d2fe3a2a",
   "metadata": {},
   "source": [
    "### Find the largest trading volumn"
   ]
  },
  {
   "cell_type": "code",
   "execution_count": 57,
   "id": "2c31fbe8",
   "metadata": {},
   "outputs": [
    {
     "data": {
      "text/plain": [
       "758353097.0"
      ]
     },
     "execution_count": 57,
     "metadata": {},
     "output_type": "execute_result"
    }
   ],
   "source": [
    "df1.loc['max', 'Volume']"
   ]
  },
  {
   "cell_type": "markdown",
   "id": "d2e1a448",
   "metadata": {},
   "source": [
    "### Find the all-time high in closing price"
   ]
  },
  {
   "cell_type": "code",
   "execution_count": 58,
   "id": "c0ff2477",
   "metadata": {},
   "outputs": [
    {
     "data": {
      "text/plain": [
       "198.11"
      ]
     },
     "execution_count": 58,
     "metadata": {},
     "output_type": "execute_result"
    }
   ],
   "source": [
    "df1.loc['max', 'Close/Last']"
   ]
  },
  {
   "cell_type": "markdown",
   "id": "f2414989",
   "metadata": {},
   "source": [
    "### Which date(s) did the all-time high in closing price occur? "
   ]
  },
  {
   "cell_type": "code",
   "execution_count": null,
   "id": "895ad176",
   "metadata": {},
   "outputs": [],
   "source": []
  },
  {
   "cell_type": "markdown",
   "id": "8dafe8cf",
   "metadata": {},
   "source": [
    "## Step 6: Plot the historical performance chart "
   ]
  },
  {
   "cell_type": "markdown",
   "id": "3eb114bc",
   "metadata": {},
   "source": [
    "### 10-Year Historical Price Plot"
   ]
  },
  {
   "cell_type": "code",
   "execution_count": 59,
   "id": "f9a0ec22",
   "metadata": {},
   "outputs": [
    {
     "data": {
      "image/png": "[encoded data removed]",
      "text/plain": [
       "<Figure size 1200x600 with 1 Axes>"
      ]
     },
     "metadata": {},
     "output_type": "display_data"
    }
   ],
   "source": [
    "plt.figure(figsize=(12,6))\n",
    "\n",
    "plt.plot(df.Date, df['Close/Last'], 'g', label='Stock Price')\n",
    "\n",
    "plt.xticks(rotation=30)     # rotate the xtick labels by 30% for better viewing\n",
    "plt.ylabel('Stock Price')\n",
    "plt.xlabel('Date')\n",
    "\n",
    "plt.title('Daily Stock Closing Price for AAPL from 2013 ro 2023')  \n",
    "plt.grid()\n",
    "\n",
    "plt.show()"
   ]
  },
  {
   "cell_type": "markdown",
   "id": "f47985b0",
   "metadata": {},
   "source": [
    "## Step 7: Data Analysis: the statistical distribution of the daily price change"
   ]
  },
  {
   "cell_type": "markdown",
   "id": "c8de57e3",
   "metadata": {},
   "source": [
    "### Add 2 new columns for daily price change & daily price change %"
   ]
  },
  {
   "cell_type": "code",
   "execution_count": 60,
   "id": "eb0f4fe0",
   "metadata": {},
   "outputs": [
    {
     "data": {
      "text/html": [
       "<div>\n",
       "<style scoped>\n",
       "    .dataframe tbody tr th:only-of-type {\n",
       "        vertical-align: middle;\n",
       "    }\n",
       "\n",
       "    .dataframe tbody tr th {\n",
       "        vertical-align: top;\n",
       "    }\n",
       "\n",
       "    .dataframe thead th {\n",
       "        text-align: right;\n",
       "    }\n",
       "</style>\n",
       "<table border=\"1\" class=\"dataframe\">\n",
       "  <thead>\n",
       "    <tr style=\"text-align: right;\">\n",
       "      <th></th>\n",
       "      <th>Date</th>\n",
       "      <th>Close/Last</th>\n",
       "      <th>Volume</th>\n",
       "      <th>Open</th>\n",
       "      <th>High</th>\n",
       "      <th>Low</th>\n",
       "      <th>Price Change</th>\n",
       "      <th>Change %</th>\n",
       "    </tr>\n",
       "  </thead>\n",
       "  <tbody>\n",
       "    <tr>\n",
       "      <th>0</th>\n",
       "      <td>2024-03-22</td>\n",
       "      <td>172.28</td>\n",
       "      <td>71160140</td>\n",
       "      <td>171.76</td>\n",
       "      <td>173.050</td>\n",
       "      <td>170.06</td>\n",
       "      <td>0.52</td>\n",
       "      <td>0.302748</td>\n",
       "    </tr>\n",
       "    <tr>\n",
       "      <th>1</th>\n",
       "      <td>2024-03-21</td>\n",
       "      <td>171.37</td>\n",
       "      <td>106181300</td>\n",
       "      <td>177.05</td>\n",
       "      <td>177.490</td>\n",
       "      <td>170.84</td>\n",
       "      <td>-5.68</td>\n",
       "      <td>-3.208133</td>\n",
       "    </tr>\n",
       "    <tr>\n",
       "      <th>2</th>\n",
       "      <td>2024-03-20</td>\n",
       "      <td>178.67</td>\n",
       "      <td>53423100</td>\n",
       "      <td>175.72</td>\n",
       "      <td>178.670</td>\n",
       "      <td>175.09</td>\n",
       "      <td>2.95</td>\n",
       "      <td>1.678807</td>\n",
       "    </tr>\n",
       "    <tr>\n",
       "      <th>3</th>\n",
       "      <td>2024-03-19</td>\n",
       "      <td>176.08</td>\n",
       "      <td>55215240</td>\n",
       "      <td>174.34</td>\n",
       "      <td>176.605</td>\n",
       "      <td>173.03</td>\n",
       "      <td>1.74</td>\n",
       "      <td>0.998050</td>\n",
       "    </tr>\n",
       "    <tr>\n",
       "      <th>4</th>\n",
       "      <td>2024-03-18</td>\n",
       "      <td>173.72</td>\n",
       "      <td>75604180</td>\n",
       "      <td>175.57</td>\n",
       "      <td>177.710</td>\n",
       "      <td>173.52</td>\n",
       "      <td>-1.85</td>\n",
       "      <td>-1.053711</td>\n",
       "    </tr>\n",
       "  </tbody>\n",
       "</table>\n",
       "</div>"
      ],
      "text/plain": [
       "        Date  Close/Last     Volume    Open     High     Low  Price Change  \\\n",
       "0 2024-03-22      172.28   71160140  171.76  173.050  170.06          0.52   \n",
       "1 2024-03-21      171.37  106181300  177.05  177.490  170.84         -5.68   \n",
       "2 2024-03-20      178.67   53423100  175.72  178.670  175.09          2.95   \n",
       "3 2024-03-19      176.08   55215240  174.34  176.605  173.03          1.74   \n",
       "4 2024-03-18      173.72   75604180  175.57  177.710  173.52         -1.85   \n",
       "\n",
       "   Change %  \n",
       "0  0.302748  \n",
       "1 -3.208133  \n",
       "2  1.678807  \n",
       "3  0.998050  \n",
       "4 -1.053711  "
      ]
     },
     "execution_count": 60,
     "metadata": {},
     "output_type": "execute_result"
    }
   ],
   "source": [
    "df['Price Change'] = df['Close/Last'] - df['Open']\n",
    "df['Change %'] = df['Price Change']/df['Open']*100\n",
    "\n",
    "df.head()"
   ]
  },
  {
   "cell_type": "markdown",
   "id": "7400e606",
   "metadata": {},
   "source": [
    "### Find out the mean and standard deviation of \"Change %\""
   ]
  },
  {
   "cell_type": "code",
   "execution_count": 61,
   "id": "7ee65646",
   "metadata": {},
   "outputs": [
    {
     "name": "stdout",
     "output_type": "stream",
     "text": [
      "0.07644448644498857 1.3758965692791307\n"
     ]
    }
   ],
   "source": [
    "df_mean = df[\"Change %\"].mean()\n",
    "df_std = df[\"Change %\"].std()\n",
    "\n",
    "print (df_mean, df_std)"
   ]
  },
  {
   "cell_type": "markdown",
   "id": "1f3fbd8e",
   "metadata": {},
   "source": [
    "### It's interesting to note that the mean daily % change is a positive number. \n",
    "### Though it seems small, however, over 10 years, the compounding effect resulted in big multiple of gains."
   ]
  },
  {
   "cell_type": "markdown",
   "id": "c2dfc52c",
   "metadata": {},
   "source": [
    "### Plot a histogram to observe the \"Change %\" distribution"
   ]
  },
  {
   "cell_type": "code",
   "execution_count": 62,
   "id": "f2c3f7bb",
   "metadata": {},
   "outputs": [
    {
     "data": {
      "image/png": "[encoded data removed]",
      "text/plain": [
       "<Figure size 1200x600 with 1 Axes>"
      ]
     },
     "metadata": {},
     "output_type": "display_data"
    }
   ],
   "source": [
    "plt.figure(figsize=(12,6))\n",
    "plt.hist(df[\"Change %\"], 300, density=True)\n",
    "plt.title('Distribution for Daily Stock Price % Change (AAPL)')\n",
    "\n",
    "# Give y axis label for the plot\n",
    "plt.ylabel('Prob. Desndity')\n",
    "plt.xlabel('Daily Change %')\n",
    "plt.grid(True, which='both')\n",
    "\n",
    "## Overlapping with N(mean, std)\n",
    "\n",
    "from scipy.stats import norm\n",
    "\n",
    "# Plot between -8 and 8 with .001 steps.\n",
    "x_axis = np.arange(-8, 8, 0.01)\n",
    "\n",
    "# plot a normal distribution with mean = df_mean, std = df_std)\n",
    "plt.plot(x_axis, norm.pdf(x_axis, df_mean, df_std))\n",
    "\n",
    "plt.show()"
   ]
  },
  {
   "cell_type": "markdown",
   "id": "193d116c",
   "metadata": {},
   "source": [
    "### The daily stock price change does behaves like a normally distributed random process. "
   ]
  }
 ],
 "metadata": {
  "kernelspec": {
   "display_name": "Python 3 (ipykernel)",
   "language": "python",
   "name": "python3"
  },
  "language_info": {
   "codemirror_mode": {
    "name": "ipython",
    "version": 3
   },
   "file_extension": ".py",
   "mimetype": "text/x-python",
   "name": "python",
   "nbconvert_exporter": "python",
   "pygments_lexer": "ipython3",
   "version": "3.11.5"
  }
 },
 "nbformat": 4,
 "nbformat_minor": 5
}
