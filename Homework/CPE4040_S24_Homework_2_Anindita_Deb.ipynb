{
 "cells": [
  {
   "cell_type": "markdown",
   "metadata": {},
   "source": [
    "<center><h1> CPE 4040 Spring 2024: Homework 2</h1></center>"
   ]
  },
  {
   "cell_type": "markdown",
   "metadata": {},
   "source": [
    "1. Write your answer in the cell provided under each question.\n",
    "2. __Write comments__ in the code to explain your thoughts.\n",
    "3. Show your execution result.\n",
    "4. Do not use pandas, NumPy or other packages we have nor covered yet. \n",
    "4. __Do your own work.__    \n",
    "\n",
    "### Submission:\n",
    " * __Submit this notebook file and the pdf version__ - remember to add your name in the filename.\n",
    " * Deadline: 11:59 pm, 2/4 (Sunday)"
   ]
  },
  {
   "cell_type": "markdown",
   "metadata": {},
   "source": [
    "### Q1: Mary Had a Little Lamb (15 Points)"
   ]
  },
  {
   "cell_type": "code",
   "execution_count": null,
   "metadata": {},
   "outputs": [],
   "source": [
    "title = 'mary HAD a little lamb'\n",
    "\n",
    "lyrics = '''\n",
    "Mary had a little limb,\n",
    "Little limb, little limb.\n",
    "Mary had a little limb\n",
    "Its fleece was white as snow.\n",
    "\n",
    "And everywhere that Mary went,\n",
    "Mary went, Mary went,\n",
    "Everywhere that Mary went\n",
    "The limb was sure to go.\n",
    "\n",
    "It followed her to school one day,\n",
    "School one day, school one day.\n",
    "It followed her to school one day\n",
    "Which was against the rules.\n",
    "\n",
    "It made the children laugh and play,\n",
    "Laugh and play, laugh and play.\n",
    "It made the children laugh and play,\n",
    "To see a limb at school.\n",
    "'''"
   ]
  },
  {
   "cell_type": "markdown",
   "metadata": {},
   "source": [
    "### Q1.1 The song title is not properly capitalized. Use string method to correct it to \"Mary Had a Little Lamb\"."
   ]
  },
  {
   "cell_type": "code",
   "execution_count": 1,
   "metadata": {},
   "outputs": [
    {
     "name": "stdout",
     "output_type": "stream",
     "text": [
      "Mary Had A Little Lamb\n"
     ]
    }
   ],
   "source": [
    "title = 'Mary Had a Little Lamb'\n",
    "\n",
    "title = title.title()\n",
    "\n",
    "print(title)"
   ]
  },
  {
   "cell_type": "markdown",
   "metadata": {},
   "source": [
    "### Q1.2 The word \"lamb\" is misspelled in several places. Please find them and correct the spelling. "
   ]
  },
  {
   "cell_type": "code",
   "execution_count": 2,
   "metadata": {},
   "outputs": [
    {
     "name": "stdout",
     "output_type": "stream",
     "text": [
      "\n",
      "Mary had a little lamb,\n",
      "Little lamb, little lamb.\n",
      "Mary had a little lamb\n",
      "Its fleece was white as snow.\n",
      "\n",
      "And everywhere that Mary went,\n",
      "Mary went, Mary went,\n",
      "Everywhere that Mary went\n",
      "The lamb was sure to go.\n",
      "\n",
      "It followed her to school one day,\n",
      "School one day, school one day.\n",
      "It followed her to school one day\n",
      "Which was against the rules.\n",
      "\n",
      "It made the children laugh and play,\n",
      "Laugh and play, laugh and play.\n",
      "It made the children laugh and play,\n",
      "To see a lamb at school.\n",
      "\n"
     ]
    }
   ],
   "source": [
    "lyrics = '''\n",
    "Mary had a little limb,\n",
    "Little limb, little limb.\n",
    "Mary had a little limb\n",
    "Its fleece was white as snow.\n",
    "\n",
    "And everywhere that Mary went,\n",
    "Mary went, Mary went,\n",
    "Everywhere that Mary went\n",
    "The limb was sure to go.\n",
    "\n",
    "It followed her to school one day,\n",
    "School one day, school one day.\n",
    "It followed her to school one day\n",
    "Which was against the rules.\n",
    "\n",
    "It made the children laugh and play,\n",
    "Laugh and play, laugh and play.\n",
    "It made the children laugh and play,\n",
    "To see a limb at school.\n",
    "'''\n",
    "\n",
    "lyrics_corrected = lyrics.replace('limb','lamb')\n",
    "\n",
    "print(lyrics_corrected)"
   ]
  },
  {
   "cell_type": "markdown",
   "metadata": {},
   "source": [
    "### Q1.3 How many words are in this song, not including commas, periods, spaces and new lines?\n",
    "\n",
    "Note: Use string method split( ) first."
   ]
  },
  {
   "cell_type": "code",
   "execution_count": 12,
   "metadata": {},
   "outputs": [
    {
     "name": "stdout",
     "output_type": "stream",
     "text": [
      "93\n"
     ]
    }
   ],
   "source": [
    "lyrics = '''\n",
    "Mary had a little limb,\n",
    "Little limb, little limb.\n",
    "Mary had a little limb\n",
    "Its fleece was white as snow.\n",
    "​\n",
    "And everywhere that Mary went,\n",
    "Mary went, Mary went,\n",
    "Everywhere that Mary went\n",
    "The limb was sure to go.\n",
    "​\n",
    "It followed her to school one day,\n",
    "School one day, school one day.\n",
    "It followed her to school one day\n",
    "Which was against the rules.\n",
    "​\n",
    "It made the children laugh and play,\n",
    "Laugh and play, laugh and play.\n",
    "It made the children laugh and play,\n",
    "To see a limb at school.\n",
    "'''\n",
    "#split lyrics into words\n",
    "words = lyrics.split()\n",
    "\n",
    "#removed commas, periods, and new lines\n",
    "words = [word.strip('.,') for word in words]\n",
    "\n",
    "#count number of words\n",
    "num_words = len(words)\n",
    "\n",
    "print(num_words)"
   ]
  },
  {
   "cell_type": "markdown",
   "metadata": {},
   "source": [
    "### Q2: Palindrome or Symmetrical String (20 Points)\n",
    "\n",
    "Write a Python program to check whether an input string is palindrome or symmetrical.\n",
    "    \n",
    "    A sequence is said to be palindrome if one half of the string is the reverse of the other half, e.g., \"madam\".\n",
    "    A sequence is said to be symmetrical if both halves of the string are the same, e.g., \"abcabc\"\n",
    "    \n",
    "    **Note: if there are odd number of letters in a string, the middle one is ignored.\n",
    "    **Note: the string is case insensitive\n",
    "    \n",
    "**Hint:** use the string slice( ) method to divide the string into 2 halves.\n",
    "\n",
    "To show your work, use those input strings: \"level\", \"Cosco\", \"aaaAAaaa\"."
   ]
  },
  {
   "cell_type": "code",
   "execution_count": 15,
   "metadata": {},
   "outputs": [
    {
     "name": "stdout",
     "output_type": "stream",
     "text": [
      "The string \"level\" is palindrome or symmetrical.\n",
      "The string \"Cosco\" is not palindrome or symmetrical.\n",
      "The string \"aaaAAaaa\" is palindrome or symmetrical.\n"
     ]
    }
   ],
   "source": [
    "def is_palindrome_or_symmetrical(string):\n",
    "    # Convert the string to lowercase\n",
    "    string = string.lower()\n",
    "\n",
    "    # Calculate the length of the string given\n",
    "    length = len(string)\n",
    "\n",
    "    # Check if the length is even or odd\n",
    "    if length % 2 == 0:\n",
    "        # If the length is even, check for symmetry\n",
    "        first_half = string[:length // 2]\n",
    "        second_half = string[length // 2:]\n",
    "        if first_half == second_half[::-1]:\n",
    "            return True\n",
    "    else:\n",
    "        # If the length is odd, check for palindrome\n",
    "        first_half = string[:length // 2]\n",
    "        second_half = string[length // 2 + 1:]\n",
    "        if first_half == second_half[::-1]:\n",
    "            return True\n",
    "\n",
    "    return False\n",
    "\n",
    "\n",
    "# Test the function with given strings\n",
    "input_strings = [\"level\", \"Cosco\", \"aaaAAaaa\"]\n",
    "\n",
    "for string in input_strings:\n",
    "    if is_palindrome_or_symmetrical(string):\n",
    "        print(f'The string \"{string}\" is palindrome or symmetrical.')\n",
    "    else:\n",
    "        print(f'The string \"{string}\" is not palindrome or symmetrical.')\n"
   ]
  },
  {
   "cell_type": "markdown",
   "metadata": {},
   "source": [
    "### Q4: List Comprehension - Exploring State Names (30 Points)\n",
    "\n",
    "Given the a list of 50 state names, please use list comprehension to answer the following questions. "
   ]
  },
  {
   "cell_type": "code",
   "execution_count": 17,
   "metadata": {},
   "outputs": [],
   "source": [
    "#--------------------------------------------------------------\n",
    "# 50 state names as a list\n",
    "#--------------------------------------------------------------\n",
    "states = ['Alabama','Alaska','Arizona','Arkansas','California','Colorado',\n",
    "          'Connecticut','Delaware','Florida','Georgia','Hawaii','Idaho',\n",
    "          'Illinois','Indiana','Iowa','Kansas','Kentucky','Louisiana',\n",
    "          'Maine','Maryland','Massachusetts','Michigan','Minnesota',\n",
    "          'Mississippi','Missouri','Montana','Nebraska','Nevada',\n",
    "          'New Hampshire','New Jersey','New Mexico','New York',\n",
    "          'North Carolina','North Dakota','Ohio','Oklahoma','Oregon',\n",
    "          'Pennsylvania','Rhode Island','South Carolina','South Dakota',\n",
    "          'Tennessee','Texas','Utah','Vermont','Virginia','Washington',\n",
    "          'West Virginia','Wisconsin','Wyoming']"
   ]
  },
  {
   "cell_type": "markdown",
   "metadata": {},
   "source": [
    "### Q3.1 What are the top 3 states with the longest one-word name?  \n",
    "\n",
    "Hint: Remember do not consider states such New York, North Carolina etc. which have two words."
   ]
  },
  {
   "cell_type": "code",
   "execution_count": 18,
   "metadata": {},
   "outputs": [
    {
     "name": "stdout",
     "output_type": "stream",
     "text": [
      "Top 3 states with the longest one-word names: ['Massachusetts', 'Pennsylvania', 'Connecticut']\n"
     ]
    }
   ],
   "source": [
    "# Filter states with one-word names\n",
    "one_word_states = [state for state in states if ' ' not in state]\n",
    "\n",
    "# Sort one-word states based on length in descending order\n",
    "sort_states = sorted(one_word_states, key=len, reverse=True)\n",
    "\n",
    "# Get the top 3 states with the longest one-word names\n",
    "top_3_states = sort_states[:3]\n",
    "\n",
    "print(\"Top 3 states with the longest one-word names:\", top_3_states)\n"
   ]
  },
  {
   "cell_type": "markdown",
   "metadata": {},
   "source": [
    "### Q3.2 Which states start and end with the same letter, for example, Alaska starts and ends with 'a'?"
   ]
  },
  {
   "cell_type": "code",
   "execution_count": 21,
   "metadata": {},
   "outputs": [
    {
     "name": "stdout",
     "output_type": "stream",
     "text": [
      "States that start and end with the same letter: ['Alabama', 'Alaska', 'Arizona', 'Ohio']\n"
     ]
    }
   ],
   "source": [
    "# Find states that start and end with the same letter\n",
    "states_start_end_same = [state for state in states if state[0].lower() == state[-1].lower()]\n",
    "\n",
    "print(\"States that start and end with the same letter:\", states_start_end_same)\n"
   ]
  },
  {
   "cell_type": "markdown",
   "metadata": {},
   "source": [
    "### Q3.3 Which alphabetic letter is not present in any of the state names? Yep, there's only one."
   ]
  },
  {
   "cell_type": "code",
   "execution_count": 26,
   "metadata": {},
   "outputs": [
    {
     "name": "stdout",
     "output_type": "stream",
     "text": [
      "The alphabetic letter not present in any state name: q\n"
     ]
    }
   ],
   "source": [
    "import string\n",
    "\n",
    "# Get all alphabetic letters\n",
    "alphabet = string.ascii_letters\n",
    "\n",
    "# Find the letter not present in any state name\n",
    "missing_letter = next(letter for letter in alphabet if all(letter not in state.lower() for state in states))\n",
    "\n",
    "print(\"The alphabetic letter not present in any state name:\", missing_letter)\n"
   ]
  },
  {
   "cell_type": "markdown",
   "metadata": {},
   "source": [
    "### Q3.4 Which states names have no character repetition? For example, Florida has 7 distict letters and no repetition."
   ]
  },
  {
   "cell_type": "code",
   "execution_count": 28,
   "metadata": {},
   "outputs": [
    {
     "name": "stdout",
     "output_type": "stream",
     "text": [
      "States names that have no character repetition: ['Florida', 'Idaho', 'Iowa', 'Maine', 'New York', 'Texas', 'Utah', 'Vermont', 'Wyoming']\n"
     ]
    }
   ],
   "source": [
    "states_no_repetition = [state for state in states if len(set(state.lower())) == len(state.lower())]\n",
    "\n",
    "print(\"States names that have no character repetition:\", states_no_repetition)\n"
   ]
  },
  {
   "cell_type": "markdown",
   "metadata": {},
   "source": [
    "### Q3.5: Which state names do not have the letter 'a' at all?"
   ]
  },
  {
   "cell_type": "code",
   "execution_count": 29,
   "metadata": {},
   "outputs": [
    {
     "name": "stdout",
     "output_type": "stream",
     "text": [
      "State names that do not have the letter 'a' at all: ['Connecticut', 'Illinois', 'Kentucky', 'Mississippi', 'Missouri', 'New Jersey', 'New Mexico', 'New York', 'Ohio', 'Oregon', 'Tennessee', 'Vermont', 'Wisconsin', 'Wyoming']\n"
     ]
    }
   ],
   "source": [
    "states_no_a = [state for state in states if 'a' not in state.lower()]\n",
    "\n",
    "print(\"State names that do not have the letter 'a' at all:\", states_no_a)\n"
   ]
  },
  {
   "cell_type": "markdown",
   "metadata": {},
   "source": [
    "<h3> Q4: List Operations (20 points) </h3>\n",
    "\n",
    "You will first generate a list of 10 random integers from 1 to 1000 by using the Python random module. Save the list (let's call it A) and write a short snippet for each of the following task:\n",
    "\n",
    "1. Pick and sort first the odd numbers then the even numbers in ascending order and print the final list, e.g. [1 3 51 4 16 32]\n",
    "2. Extract only the items that are less than 250.\n",
    "3. Create a new list where each item y is the square of the correpsonding item in A.\n",
    "4. Extract the items that are NOT divisible by 3 and NOT divisible by 7"
   ]
  },
  {
   "cell_type": "code",
   "execution_count": 35,
   "metadata": {},
   "outputs": [],
   "source": [
    "import random\n",
    "\n",
    "# Note: you can use random.randint() to generate the random integers\n",
    "\n",
    "# We generate a list of 10 random integers from 1 to 1000 and name the list A\n",
    "A = [random.randint(1, 1000) for _ in range(10)]"
   ]
  },
  {
   "cell_type": "code",
   "execution_count": 36,
   "metadata": {},
   "outputs": [
    {
     "name": "stdout",
     "output_type": "stream",
     "text": [
      "Sorted list of odd numbers followed by even numbers: [19, 313, 509, 56, 68, 98, 182, 350, 860, 972]\n"
     ]
    }
   ],
   "source": [
    "#Q4_1\n",
    "\n",
    "# 1: Pick and sort first the odd numbers then the even numbers in ascending order\n",
    "sorted_list = sorted([x for x in A if x % 2 != 0]) + sorted([x for x in A if x % 2 == 0])\n",
    "\n",
    "print(\"Sorted list of odd numbers followed by even numbers:\", sorted_list)\n"
   ]
  },
  {
   "cell_type": "code",
   "execution_count": 37,
   "metadata": {},
   "outputs": [
    {
     "name": "stdout",
     "output_type": "stream",
     "text": [
      "Items less than 250: [68, 98, 56, 19, 182]\n"
     ]
    }
   ],
   "source": [
    "#Q4_2\n",
    "\n",
    "# 2: Extract only the items that are less than 250\n",
    "less_than_250 = [x for x in A if x < 250]\n",
    "\n",
    "print(\"Items less than 250:\", less_than_250)\n"
   ]
  },
  {
   "cell_type": "code",
   "execution_count": 38,
   "metadata": {},
   "outputs": [
    {
     "name": "stdout",
     "output_type": "stream",
     "text": [
      "List where each item is the square of the corresponding item in A: [739600, 122500, 4624, 97969, 9604, 259081, 3136, 944784, 361, 33124]\n"
     ]
    }
   ],
   "source": [
    "#Q4_3\n",
    "\n",
    "# 3: Create a new list where each item y is the square of the corresponding item in A\n",
    "squared_list = [x ** 2 for x in A]\n",
    "\n",
    "print(\"List where each item is the square of the corresponding item in A:\", squared_list)\n"
   ]
  },
  {
   "cell_type": "code",
   "execution_count": 39,
   "metadata": {},
   "outputs": [
    {
     "name": "stdout",
     "output_type": "stream",
     "text": [
      "Items NOT divisible by 3 and NOT divisible by 7: [860, 68, 313, 509, 19]\n"
     ]
    }
   ],
   "source": [
    "#Q4_4\n",
    "\n",
    "# 4: Extract the items that are NOT divisible by 3 and NOT divisible by 7\n",
    "not_divisible_by_3_or_7 = [x for x in A if x % 3 != 0 and x % 7 != 0]\n",
    "\n",
    "print(\"Items NOT divisible by 3 and NOT divisible by 7:\", not_divisible_by_3_or_7)\n"
   ]
  },
  {
   "cell_type": "markdown",
   "metadata": {},
   "source": [
    "### Q5: Order of Planets (15 Points)\n",
    "\n",
    "In the solar system, the planets, in order of their distances from the Sun (closest to farthest), are Mercury, Venus, Earth, Mars, Jupiter, Saturn, Uranus, and Neptune. Given an incomplete and out-of-order list, please use list methods to make it right."
   ]
  },
  {
   "cell_type": "code",
   "execution_count": 49,
   "metadata": {},
   "outputs": [],
   "source": [
    "planets = ['mercury', 'venus', 'mars', 'jupiter', 'earth']"
   ]
  },
  {
   "cell_type": "code",
   "execution_count": 51,
   "metadata": {},
   "outputs": [
    {
     "name": "stdout",
     "output_type": "stream",
     "text": [
      "['Sun', 'Mercury', 'Venus', 'Earth', 'Mars', 'Jupiter', 'Earth', 'Saturn', 'Uranus', 'Neptune']\n"
     ]
    }
   ],
   "source": [
    "planets = ['mercury', 'venus', 'mars', 'jupiter', 'earth']\n",
    "\n",
    "# Correcting the order\n",
    "planets.insert(0, 'sun')  # Sun at start\n",
    "planets.insert(3, 'earth')  # Inserting Earth at #3\n",
    "planets.append('saturn')  # Appending Saturn at the end of the list\n",
    "planets.append('uranus')  # Appending Uranus after Saturn\n",
    "planets.append('neptune')  # Appending Neptune after Uranus\n",
    "\n",
    "# Correcting the capitalization\n",
    "planets = [planet.capitalize() for planet in planets]\n",
    "\n",
    "print(planets)\n"
   ]
  },
  {
   "cell_type": "code",
   "execution_count": null,
   "metadata": {},
   "outputs": [],
   "source": []
  }
 ],
 "metadata": {
  "kernelspec": {
   "display_name": "Python 3 (ipykernel)",
   "language": "python",
   "name": "python3"
  },
  "language_info": {
   "codemirror_mode": {
    "name": "ipython",
    "version": 3
   },
   "file_extension": ".py",
   "mimetype": "text/x-python",
   "name": "python",
   "nbconvert_exporter": "python",
   "pygments_lexer": "ipython3",
   "version": "3.11.5"
  }
 },
 "nbformat": 4,
 "nbformat_minor": 2
}
