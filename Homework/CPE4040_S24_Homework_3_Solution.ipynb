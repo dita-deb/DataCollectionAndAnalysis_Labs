{
 "cells": [
  {
   "cell_type": "markdown",
   "metadata": {},
   "source": [
    "<center><h1> CPE 4040 Spring 2024: Homework 3 Solution</h1></center>"
   ]
  },
  {
   "cell_type": "markdown",
   "metadata": {},
   "source": [
    "## Q1: Functions and Lambda (15 Points)\n",
    "\n",
    "#### Q1.1: Sort the tuples in the list based on the second item (that is, the state name), in __descending order__ alphabetically. \n",
    "#### You will write a small function, `\"second\"`, to achieve this purpose. "
   ]
  },
  {
   "cell_type": "code",
   "execution_count": 9,
   "metadata": {},
   "outputs": [],
   "source": [
    "state=[(19542209, \"New York\") ,(4887871, \"Alabama\"), (1420491, \"Wyoming\"), \n",
    "       (626299, \"Vermont\"), (1805832, \"Utah\"), (39865590, \"California\")]"
   ]
  },
  {
   "cell_type": "code",
   "execution_count": 10,
   "metadata": {},
   "outputs": [],
   "source": [
    "def second(x):\n",
    "    '''this function returns the 2nd element \n",
    "    of the input tuples.'''\n",
    "    return x[1]    "
   ]
  },
  {
   "cell_type": "code",
   "execution_count": 11,
   "metadata": {},
   "outputs": [
    {
     "data": {
      "text/plain": [
       "[(1420491, 'Wyoming'),\n",
       " (626299, 'Vermont'),\n",
       " (1805832, 'Utah'),\n",
       " (19542209, 'New York'),\n",
       " (39865590, 'California'),\n",
       " (4887871, 'Alabama')]"
      ]
     },
     "execution_count": 11,
     "metadata": {},
     "output_type": "execute_result"
    }
   ],
   "source": [
    "state.sort(key=second, reverse=True)  # state will change in-place\n",
    "state"
   ]
  },
  {
   "cell_type": "markdown",
   "metadata": {},
   "source": [
    "#### Q1.2 Perform the same task as in Q1.1, however, you will write a `lambda` function to replace `\"second\"`. "
   ]
  },
  {
   "cell_type": "code",
   "execution_count": 12,
   "metadata": {},
   "outputs": [
    {
     "data": {
      "text/plain": [
       "[(1420491, 'Wyoming'),\n",
       " (626299, 'Vermont'),\n",
       " (1805832, 'Utah'),\n",
       " (19542209, 'New York'),\n",
       " (39865590, 'California'),\n",
       " (4887871, 'Alabama')]"
      ]
     },
     "execution_count": 12,
     "metadata": {},
     "output_type": "execute_result"
    }
   ],
   "source": [
    "state.sort(key=lambda x:x[1], reverse = True)\n",
    "state"
   ]
  },
  {
   "cell_type": "markdown",
   "metadata": {},
   "source": [
    "#### Q1.3 Use the sorted method and lambda to sort the tuples in the list based on the `next to last` character of the second items."
   ]
  },
  {
   "cell_type": "code",
   "execution_count": 13,
   "metadata": {},
   "outputs": [
    {
     "data": {
      "text/plain": [
       "[(1805832, 'Utah'),\n",
       " (39865590, 'California'),\n",
       " (4887871, 'Alabama'),\n",
       " (1420491, 'Wyoming'),\n",
       " (626299, 'Vermont'),\n",
       " (19542209, 'New York')]"
      ]
     },
     "execution_count": 13,
     "metadata": {},
     "output_type": "execute_result"
    }
   ],
   "source": [
    "## You can write a function first\n",
    "def second(x):\n",
    "    return x[1][-2]   ## You feteh the last letter of the 2nd element \n",
    "\n",
    "state.sort(key=second)\n",
    "state"
   ]
  },
  {
   "cell_type": "code",
   "execution_count": 15,
   "metadata": {},
   "outputs": [
    {
     "data": {
      "text/plain": [
       "[(1805832, 'Utah'),\n",
       " (39865590, 'California'),\n",
       " (4887871, 'Alabama'),\n",
       " (1420491, 'Wyoming'),\n",
       " (626299, 'Vermont'),\n",
       " (19542209, 'New York')]"
      ]
     },
     "execution_count": 15,
     "metadata": {},
     "output_type": "execute_result"
    }
   ],
   "source": [
    "## Use sorted() and lambda\n",
    "\n",
    "state=[(19542209, \"New York\") ,(4887871, \"Alabama\"), (1420491, \"Wyoming\"), \n",
    "       (626299, \"Vermont\"), (1805832, \"Utah\"), (39865590, \"California\")]\n",
    "sorted(state, key= lambda x:x[1][-2])"
   ]
  },
  {
   "cell_type": "markdown",
   "metadata": {},
   "source": [
    "## Q2: List Comprehension vs. Map/Filter + Lambda (15 Points)\n",
    "#### For each question below, use both list comprehension and Python `map()` or `filter( )` function. \n",
    "#### Use `%%timeit` magic command to profile the computation time. Make some comments about the profiling results."
   ]
  },
  {
   "cell_type": "markdown",
   "metadata": {},
   "source": [
    "#### Q2.1 For each of the floating number in the list, calcuate the __square__ of it and __round__ the result to 2 decimal places. "
   ]
  },
  {
   "cell_type": "code",
   "execution_count": 16,
   "metadata": {},
   "outputs": [],
   "source": [
    "num = [4.35, 6.09, 3.25, 9.77, 2.16, 8.88, 4.59]"
   ]
  },
  {
   "cell_type": "code",
   "execution_count": 17,
   "metadata": {},
   "outputs": [
    {
     "data": {
      "text/plain": [
       "[18.92, 37.09, 10.56, 95.45, 4.67, 78.85, 21.07]"
      ]
     },
     "execution_count": 17,
     "metadata": {},
     "output_type": "execute_result"
    }
   ],
   "source": [
    "## List comprehension\n",
    "new_num = [round(x**2, 2) for x in num]\n",
    "new_num"
   ]
  },
  {
   "cell_type": "code",
   "execution_count": 18,
   "metadata": {},
   "outputs": [
    {
     "data": {
      "text/plain": [
       "[18.92, 37.09, 10.56, 95.45, 4.67, 78.85, 21.07]"
      ]
     },
     "execution_count": 18,
     "metadata": {},
     "output_type": "execute_result"
    }
   ],
   "source": [
    "# map() function\n",
    "new_num = list(map(lambda x: round(x**2, 2), num))\n",
    "new_num"
   ]
  },
  {
   "cell_type": "code",
   "execution_count": 19,
   "metadata": {},
   "outputs": [
    {
     "name": "stdout",
     "output_type": "stream",
     "text": [
      "2.63 µs ± 6.34 ns per loop (mean ± std. dev. of 7 runs, 100000 loops each)\n"
     ]
    }
   ],
   "source": [
    "%%timeit\n",
    "# List Comprehension\n",
    "new_num = [round(x**2, 2) for x in num]"
   ]
  },
  {
   "cell_type": "code",
   "execution_count": 20,
   "metadata": {},
   "outputs": [
    {
     "name": "stdout",
     "output_type": "stream",
     "text": [
      "2.93 µs ± 9.52 ns per loop (mean ± std. dev. of 7 runs, 100000 loops each)\n"
     ]
    }
   ],
   "source": [
    "%%timeit\n",
    "# map() function\n",
    "new_num = list(map(lambda x: round(x**2, 2), num))"
   ]
  },
  {
   "cell_type": "markdown",
   "metadata": {},
   "source": [
    "#### Both approaches appear comparable in computation time, although list comprehension is better by around 10%"
   ]
  },
  {
   "cell_type": "markdown",
   "metadata": {},
   "source": [
    "#### Q2.2 For each of the name in the list, print only the names with less than 7 letters."
   ]
  },
  {
   "cell_type": "code",
   "execution_count": 21,
   "metadata": {},
   "outputs": [],
   "source": [
    "names = [\"olumide\", \"akinremi\", \"alex\", \"josiah\", \"john\", \"temidayo\", \"emily\", \"omoseun\"]"
   ]
  },
  {
   "cell_type": "code",
   "execution_count": 22,
   "metadata": {},
   "outputs": [
    {
     "data": {
      "text/plain": [
       "['alex', 'josiah', 'john', 'emily']"
      ]
     },
     "execution_count": 22,
     "metadata": {},
     "output_type": "execute_result"
    }
   ],
   "source": [
    "# Use List Comprehension\n",
    "new_name = [x for x in names if len(x) < 7]\n",
    "new_name"
   ]
  },
  {
   "cell_type": "code",
   "execution_count": 23,
   "metadata": {},
   "outputs": [
    {
     "data": {
      "text/plain": [
       "['alex', 'josiah', 'john', 'emily']"
      ]
     },
     "execution_count": 23,
     "metadata": {},
     "output_type": "execute_result"
    }
   ],
   "source": [
    "# Use filter() function\n",
    "new_name = list(filter(lambda x: len(x) < 7, names))\n",
    "new_name"
   ]
  },
  {
   "cell_type": "code",
   "execution_count": 24,
   "metadata": {},
   "outputs": [
    {
     "name": "stdout",
     "output_type": "stream",
     "text": [
      "519 ns ± 9.49 ns per loop (mean ± std. dev. of 7 runs, 1000000 loops each)\n"
     ]
    }
   ],
   "source": [
    "%%timeit\n",
    "new_name = [x for x in names if len(x) < 7]"
   ]
  },
  {
   "cell_type": "code",
   "execution_count": 25,
   "metadata": {},
   "outputs": [
    {
     "name": "stdout",
     "output_type": "stream",
     "text": [
      "890 ns ± 5.34 ns per loop (mean ± std. dev. of 7 runs, 1000000 loops each)\n"
     ]
    }
   ],
   "source": [
    "%%timeit\n",
    "new_name = list(filter(lambda x: len(x) < 7, names))"
   ]
  },
  {
   "cell_type": "markdown",
   "metadata": {},
   "source": [
    "#### List comprehension is more efficient by > 60% in this case. "
   ]
  },
  {
   "cell_type": "markdown",
   "metadata": {},
   "source": [
    "## Q3: Dictionary Operations (20 Points)"
   ]
  },
  {
   "cell_type": "markdown",
   "metadata": {},
   "source": [
    "#### Q3.1 Shopping Lists\n",
    "You are given two shopping lists (with items and quantity), one from your mom and one for yourself:\n",
    " * mom's list: banana 5, avacado 8, eggs 12, milk 2, orange 6\n",
    " * your list: Red Bull 12, potato chips 5, pineapple 3, eggs 6, avacado 4\n",
    "        \n",
    "Please construct two dictionaries, one for each shopping list."
   ]
  },
  {
   "cell_type": "code",
   "execution_count": 304,
   "metadata": {},
   "outputs": [
    {
     "name": "stdout",
     "output_type": "stream",
     "text": [
      "Mom's Shopping List:\n",
      "banana: 5\n",
      "avacado: 8\n",
      "eggs: 12\n",
      "milk: 2\n",
      "orange: 6\n",
      "My Shopping List:\n",
      "Red Bull: 12\n",
      "potato chips: 5\n",
      "eggs: 6\n",
      "pineapple: 3\n",
      "avacado: 4\n"
     ]
    }
   ],
   "source": [
    "# You can create two shopping lists directly.\n",
    "# Here is a more general approach that defines some functions\n",
    "\n",
    "mom_list = \\\n",
    "    {\"banana\": 5,\n",
    "     \"avacado\": 8,\n",
    "     \"eggs\": 12,\n",
    "     \"milk\": 2,\n",
    "     \"orange\": 6}\n",
    "\n",
    "print(\"Mom's Shopping List:\")\n",
    "for item, quantity in mom_list.items():\n",
    "        print(f\"{item}: {quantity}\")\n",
    "        \n",
    "my_list = \\\n",
    "    {\"Red Bull\": 12,\n",
    "     \"potato chips\": 5,\n",
    "     \"eggs\": 6,\n",
    "     \"pineapple\": 3,\n",
    "     \"avacado\": 4}\n",
    "\n",
    "print(\"My Shopping List:\")\n",
    "for item, quantity in my_list.items():\n",
    "        print(f\"{item}: {quantity}\")"
   ]
  },
  {
   "cell_type": "markdown",
   "metadata": {},
   "source": [
    "#### Q3.2 Merging the Shopping Lists\n",
    "You realize there are some overlapping items on the lists, so you decide to merge the two.\n",
    "\n",
    "Please write a `__function, merge_shop_list(a, b)__`, that takes two dictionaries __a__ and __b__ as inputs, and merge them together. If there is a common item, you should add the quantities together. The function shall return the merged dictionary (or the shopping list).\n",
    "\n",
    "Show your result by printing the merged shopping list."
   ]
  },
  {
   "cell_type": "code",
   "execution_count": 293,
   "metadata": {},
   "outputs": [
    {
     "name": "stdout",
     "output_type": "stream",
     "text": [
      "Combined Shopping List: (using update method)\n",
      "{'banana': 5, 'avacado': 4, 'eggs': 6, 'milk': 2, 'orange': 6, 'Red Bull': 12, 'potato chips': 5, 'pineapple': 3}\n"
     ]
    }
   ],
   "source": [
    "# We can try to use the a.update(b) method to merge the two\n",
    "# However, this will overwrite the common items\n",
    "\n",
    "print (\"Combined Shopping List: (using update method)\")\n",
    "z = mom_list.copy()\n",
    "z.update(my_list)   \n",
    "print (z)"
   ]
  },
  {
   "cell_type": "code",
   "execution_count": 307,
   "metadata": {},
   "outputs": [
    {
     "name": "stdout",
     "output_type": "stream",
     "text": [
      "Combined Shopping List:\n",
      "{'banana': 5, 'avacado': 8, 'eggs': 12, 'milk': 2, 'orange': 6} {'Red Bull': 12, 'potato chips': 5, 'eggs': 6, 'pineapple': 3, 'avacado': 4}\n"
     ]
    },
    {
     "data": {
      "text/plain": [
       "{'banana': 5,\n",
       " 'avacado': 12,\n",
       " 'eggs': 18,\n",
       " 'milk': 2,\n",
       " 'orange': 6,\n",
       " 'Red Bull': 12,\n",
       " 'potato chips': 5,\n",
       " 'pineapple': 3}"
      ]
     },
     "execution_count": 307,
     "metadata": {},
     "output_type": "execute_result"
    }
   ],
   "source": [
    "def merge_shop_list(list_a, list_b):\n",
    "\n",
    "    for item in list_b:\n",
    "        if item in list_a: # common item, update\n",
    "            list_a[item] += list_b[item]\n",
    "        else:\n",
    "            list_a[item] = list_b[item]\n",
    "    return list_a\n",
    "\n",
    "print (\"Combined Shopping List:\")\n",
    "print (mom_list, my_list)\n",
    "z = mom_list.copy()\n",
    "merge_shop_list(z, my_list)"
   ]
  },
  {
   "cell_type": "markdown",
   "metadata": {},
   "source": [
    "## Q4: AppleStore Dataset (40 points)\n",
    "\n",
    "#### Q4.1 Genres and Content Ratings\n",
    "\n",
    "With the AppleStore dataset, we found that \"Game\" is the most popular genre with more than 3000+ apps. We also realized that there are four different age-based content ratings (4+, 9+, 12+, and 17+). \n",
    "\n",
    "Write a Python program that analyzes the content rating distribution for the top three genres (Game, Entertainment and Education). That is, we want to know, for example, in the \"Game\" genere, how many apps are 4+, 9+, 12+, and 17+, respectively. \n",
    "\n",
    "__There are different ways to do this. Try your best to come up with a solution.__ "
   ]
  },
  {
   "cell_type": "code",
   "execution_count": 3,
   "metadata": {},
   "outputs": [],
   "source": [
    "opened_file = open('AppleStore.csv', encoding=\"utf-8\")\n",
    "from csv import reader\n",
    "\n",
    "read_file = reader(opened_file)\n",
    "apps_data = list(read_file)"
   ]
  },
  {
   "cell_type": "code",
   "execution_count": 9,
   "metadata": {},
   "outputs": [
    {
     "name": "stdout",
     "output_type": "stream",
     "text": [
      "Games: {'4+': 2079, '9+': 865, '12+': 741, '17+': 177}\n",
      "Education: {'4+': 432, '9+': 6, '12+': 8, '17+': 7}\n",
      "Entertainment: {'4+': 285, '9+': 44, '12+': 108, '17+': 98}\n",
      "There are 177 apps in Games genre that are rated 17+.\n"
     ]
    }
   ],
   "source": [
    "columns = apps_data[0]\n",
    "\n",
    "# One simple approach is to modify the genre_counting dictionary so that the\n",
    "# key:value pair is genre:rating_dict, where rating_dict is also a dictionary.\n",
    "#\n",
    "# genre_rating = {\n",
    "#        'genre0' :  {'4+': num4, '9+':num9, '12+':num12,'17+':num17}\n",
    "#        'genre1' :  {'4+': num4, '9+':num9, '12+':num12,'17+':num17}\n",
    "#       ......\n",
    "# }\n",
    "#\n",
    "# With this data structure in mind, you can actually reuse the code that we\n",
    "# found the statistic for genre.\n",
    "#\n",
    "\n",
    "genre_rating = {}               # initialize the dictionary as empty\n",
    "\n",
    "for row in apps_data[1:]:       # loop through each row in the dataset\n",
    "    genre = row[11]             # capture the name of genre\n",
    "    rating = row[10]            # capture the rating \n",
    "    \n",
    "    if genre in genre_rating.keys():\n",
    "       genre_rating[genre][rating] += 1     # exisitng genre, just increment the rating count by 1\n",
    "    else:\n",
    "        genre_rating[genre] = {'4+': 0, '9+':0, '12+':0,'17+':0}     # new genre, initialze the rating count to 0\n",
    "        genre_rating[genre][rating] = 1    # remember to increment the first rating count \n",
    "        \n",
    "\n",
    "print ('Games:', genre_rating['Games'])\n",
    "print ('Education:', genre_rating['Education'])\n",
    "print ('Entertainment:', genre_rating['Entertainment'])\n",
    "\n",
    "tmp = genre_rating['Games']['17+']\n",
    "\n",
    "print(f'There are {tmp} apps in Games genre that are rated 17+.')"
   ]
  },
  {
   "cell_type": "markdown",
   "metadata": {},
   "source": [
    "__Q4.2 We are also interested in the price of the apps. Specifically, we want to know the number of applications in five different price ranges, that is,__ \n",
    "1. free\n",
    "2. 0 < price < 5\n",
    "3. 5<= price < 10\n",
    "4. 10 <= price < 50\n",
    "5. price >=50.\n",
    "\n",
    "__Please write a code that shows the price range distribution.__"
   ]
  },
  {
   "cell_type": "code",
   "execution_count": 224,
   "metadata": {},
   "outputs": [],
   "source": [
    "# Initialize the price range dictionary. You will write the rest.\n",
    "\n",
    "price_range = {'Free': 0, '0 to $5': 0, '$5 to $10': 0, '$10 to $50': 0, '>= $50': 0}"
   ]
  },
  {
   "cell_type": "code",
   "execution_count": 225,
   "metadata": {},
   "outputs": [
    {
     "name": "stdout",
     "output_type": "stream",
     "text": [
      "Price range = {'Free': 4056, '0 to $5': 2703, '$5 to $10': 341, '$10 to $50': 90, '>= $50': 7}\n"
     ]
    }
   ],
   "source": [
    "for row in apps_data[1:]:\n",
    "    price = float(row[4])\n",
    "\n",
    "    if price == 0.0:\n",
    "        price_range['Free'] += 1\n",
    "\n",
    "    elif 0 < price < 5:\n",
    "        price_range['0 to $5'] += 1\n",
    "\n",
    "    elif 5 <= price < 10:\n",
    "        price_range['$5 to $10'] += 1\n",
    "\n",
    "    elif 10 <= price < 50:\n",
    "        price_range['$10 to $50'] += 1\n",
    "\n",
    "    elif price >= 50:\n",
    "        price_range['>= $50'] += 1\n",
    "        \n",
    "print ('Price range =', price_range)"
   ]
  },
  {
   "cell_type": "markdown",
   "metadata": {},
   "source": [
    "#### Q4.3 How many of the applications are free? That is, find out how many applications are priced at $0.0."
   ]
  },
  {
   "cell_type": "code",
   "execution_count": 11,
   "metadata": {},
   "outputs": [
    {
     "name": "stdout",
     "output_type": "stream",
     "text": [
      "0.0 4056\n",
      "1.99 621\n",
      "0.99 728\n",
      "6.99 166\n",
      "2.99 683\n",
      "7.99 33\n",
      "4.99 394\n",
      "9.99 81\n",
      "3.99 277\n",
      "8.99 9\n",
      "5.99 52\n",
      "14.99 21\n",
      "13.99 6\n",
      "19.99 13\n",
      "17.99 3\n",
      "15.99 4\n",
      "24.99 8\n",
      "20.99 2\n",
      "29.99 6\n",
      "12.99 5\n",
      "39.99 2\n",
      "74.99 1\n",
      "16.99 2\n",
      "249.99 1\n",
      "11.99 6\n",
      "27.99 2\n",
      "49.99 2\n",
      "59.99 3\n",
      "22.99 2\n",
      "18.99 1\n",
      "99.99 1\n",
      "21.99 1\n",
      "34.99 1\n",
      "299.99 1\n",
      "23.99 2\n",
      "47.99 1\n",
      "\n",
      "There are 4056 free apps.\n"
     ]
    }
   ],
   "source": [
    "# Find out how many apps are free. \n",
    "# Recall that the price column is column 4\n",
    "\n",
    "index = 4\n",
    "\n",
    "table = {}                     # Initialize table as an empty dictionary\n",
    "for row in apps_data[1:]:\n",
    "    x = float(row[index])      # cast the price string to float     \n",
    "    if x in table:\n",
    "        table[x] += 1\n",
    "    else:\n",
    "        table[x] = 1\n",
    "\n",
    "# Find the number of free apps\n",
    "\n",
    "for k, v in table.items():\n",
    "    print (k, v)\n",
    "\n",
    "num_free_apps = table[0.0]\n",
    "\n",
    "print (f'\\nThere are {num_free_apps} free apps.')"
   ]
  },
  {
   "cell_type": "markdown",
   "metadata": {},
   "source": [
    "#### Q4.4 What are the three most expensive prices? How much? What are the titles?"
   ]
  },
  {
   "cell_type": "code",
   "execution_count": 14,
   "metadata": {},
   "outputs": [
    {
     "name": "stdout",
     "output_type": "stream",
     "text": [
      "There are 1 app(s) that cost $299.99\n",
      "There are 1 app(s) that cost $249.99\n",
      "There are 1 app(s) that cost $99.99\n"
     ]
    }
   ],
   "source": [
    "# Find the three priciest apps.\n",
    "\n",
    "# Sort the dictionary by the values.\n",
    "# we can use sorted() to sort the dict.keys(), which is a tuple\n",
    "\n",
    "a = sorted(table.keys(), reverse=True)  # Find the 3 most expensive \"keys\"\n",
    "\n",
    "for n in range(3):\n",
    "    print (f'There are {table[a[n]]} app(s) that cost ${a[n]}')"
   ]
  },
  {
   "cell_type": "code",
   "execution_count": 15,
   "metadata": {},
   "outputs": [
    {
     "name": "stdout",
     "output_type": "stream",
     "text": [
      "\n",
      "The most expensive app titles:\n",
      "Proloquo2Go - Symbol-based AAC for $ 249.99\n",
      "KNFB Reader for $ 99.99\n",
      "LAMP Words For Life for $ 299.99\n"
     ]
    }
   ],
   "source": [
    "# Find the three most expensive app(s).\n",
    "\n",
    "top3 = a[:3]\n",
    "\n",
    "print ('\\nThe most expensive app titles:')\n",
    "for row in apps_data[1:]:\n",
    "    price = float(row[4])\n",
    "    if price in top3:\n",
    "        print (row[1], 'for', '$',row[4])"
   ]
  },
  {
   "cell_type": "code",
   "execution_count": null,
   "metadata": {},
   "outputs": [],
   "source": []
  }
 ],
 "metadata": {
  "kernelspec": {
   "display_name": "Python 3 (ipykernel)",
   "language": "python",
   "name": "python3"
  },
  "language_info": {
   "codemirror_mode": {
    "name": "ipython",
    "version": 3
   },
   "file_extension": ".py",
   "mimetype": "text/x-python",
   "name": "python",
   "nbconvert_exporter": "python",
   "pygments_lexer": "ipython3",
   "version": "3.11.5"
  }
 },
 "nbformat": 4,
 "nbformat_minor": 2
}
