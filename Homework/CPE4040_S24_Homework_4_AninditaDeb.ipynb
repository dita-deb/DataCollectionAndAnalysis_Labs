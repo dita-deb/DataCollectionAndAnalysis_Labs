{
 "cells": [
  {
   "cell_type": "markdown",
   "metadata": {},
   "source": [
    "<center><h1> CPE 4040 Spring 2024: Homework 4</h1></center>"
   ]
  },
  {
   "cell_type": "markdown",
   "metadata": {},
   "source": [
    "1. Write your answer in the cell provided under each question.\n",
    "2. __You must write comments to explain your thoughts and earn full credit__.\n",
    "3. __Show your execution result__.\n",
    "4. Do your own work. __Do not copy-and-paste other people's (or Generative AI's) codes.__\n",
    "5. Please do not use pandas since it is not covered yet.\n",
    "\n",
    "### Submission:\n",
    " * __Submit this notebook file and the pdf version__ - remember to add your name in the filename.\n",
    " * Deadline: 11:59 pm, 2/22 (Thursday)"
   ]
  },
  {
   "cell_type": "markdown",
   "metadata": {},
   "source": [
    "### I'm so sorry about how late this is. I tried to not look at the actual solution while working on this. The last few I was fairly clueless and used it as a guide to understand where my problems were arising. I figured I might as well turn it in at this point in time as we've finished the final now as well. Thank you for this term! I appreciate your time and hardwork! - Dita"
   ]
  },
  {
   "cell_type": "code",
   "execution_count": 1,
   "metadata": {},
   "outputs": [],
   "source": [
    "import numpy as np"
   ]
  },
  {
   "cell_type": "markdown",
   "metadata": {},
   "source": [
    "### Check your Numpy Version"
   ]
  },
  {
   "cell_type": "code",
   "execution_count": 2,
   "metadata": {},
   "outputs": [
    {
     "name": "stdout",
     "output_type": "stream",
     "text": [
      "Name: numpy\n",
      "Version: 1.24.3\n",
      "Summary: Fundamental package for array computing in Python\n",
      "Home-page: https://www.numpy.org\n",
      "Author: Travis E. Oliphant et al.\n",
      "Author-email: \n",
      "License: BSD-3-Clause\n",
      "Location: C:\\Users\\mc2di\\anaconda3\\Lib\\site-packages\n",
      "Requires: \n",
      "Required-by: astropy, bokeh, Bottleneck, contourpy, daal4py, datasets, datashader, datashape, gensim, h5py, holoviews, hvplot, imagecodecs, imageio, imbalanced-learn, matplotlib, mkl-fft, mkl-random, numba, numexpr, pandas, patsy, pyarrow, pyerfa, PyWavelets, scikit-image, scikit-learn, scipy, seaborn, statsmodels, tables, tifffile, transformers, xarray\n",
      "Note: you may need to restart the kernel to use updated packages.\n"
     ]
    }
   ],
   "source": [
    "pip show numpy"
   ]
  },
  {
   "cell_type": "markdown",
   "metadata": {},
   "source": [
    "<h3>Q1: Checker Board (10 Points)</h3>"
   ]
  },
  {
   "cell_type": "raw",
   "metadata": {},
   "source": [
    "Please write NumPy codes to generate this 9x9 matrix -\n",
    "\n",
    "   [[1 0 0 1 0 0 1 0 0]\n",
    "    [0 1 0 0 1 0 0 1 0]\n",
    "    [0 0 1 0 0 1 0 0 1]\n",
    "    [1 0 0 1 0 0 1 0 0]\n",
    "    [0 1 0 0 1 0 0 1 0]\n",
    "    [0 0 1 0 0 1 0 0 1]\n",
    "    [1 0 0 1 0 0 1 0 0]\n",
    "    [0 1 0 0 1 0 0 1 0]\n",
    "    [0 0 1 0 0 1 0 0 1]]\n",
    "    \n",
    "    Note: you cannot simply copy the numbers. Pay attention to the pattern. There are many ways to do this."
   ]
  },
  {
   "cell_type": "code",
   "execution_count": 3,
   "metadata": {},
   "outputs": [
    {
     "name": "stdout",
     "output_type": "stream",
     "text": [
      "[[1 0 0 1 0 0 1 0 0]\n",
      " [0 1 0 0 1 0 0 1 0]\n",
      " [0 0 1 0 0 1 0 0 1]\n",
      " [1 0 0 1 0 0 1 0 0]\n",
      " [0 1 0 0 1 0 0 1 0]\n",
      " [0 0 1 0 0 1 0 0 1]\n",
      " [1 0 0 1 0 0 1 0 0]\n",
      " [0 1 0 0 1 0 0 1 0]\n",
      " [0 0 1 0 0 1 0 0 1]]\n"
     ]
    }
   ],
   "source": [
    "a = np.eye(3, dtype=int)   # This is an identity matrix\n",
    "reps = (3, 3)     # reps is a tuple\n",
    "arr = np.tile(a, reps)\n",
    "print(arr)"
   ]
  },
  {
   "cell_type": "markdown",
   "metadata": {},
   "source": [
    "<h3>Q2: Array Indexing and Slicing (12 Points) </h3>"
   ]
  },
  {
   "cell_type": "markdown",
   "metadata": {},
   "source": [
    "#### Q2.1 Please convert this vector, `np.arange(48)`, into a 8x6 array, i.e, 8 rows and 6 columns. Let's call this array A."
   ]
  },
  {
   "cell_type": "code",
   "execution_count": 4,
   "metadata": {},
   "outputs": [
    {
     "name": "stdout",
     "output_type": "stream",
     "text": [
      "A =\n",
      " [[ 0  1  2  3  4  5]\n",
      " [ 6  7  8  9 10 11]\n",
      " [12 13 14 15 16 17]\n",
      " [18 19 20 21 22 23]\n",
      " [24 25 26 27 28 29]\n",
      " [30 31 32 33 34 35]\n",
      " [36 37 38 39 40 41]\n",
      " [42 43 44 45 46 47]]\n"
     ]
    }
   ],
   "source": [
    "A = np.arange(48).reshape(8,6)  \n",
    "\n",
    "print ('A =\\n', A)"
   ]
  },
  {
   "cell_type": "markdown",
   "metadata": {},
   "source": [
    "#### Q2.2 Write codes to extract the elements in columns 2, 3, and 5 from A."
   ]
  },
  {
   "cell_type": "code",
   "execution_count": 5,
   "metadata": {},
   "outputs": [
    {
     "data": {
      "text/plain": [
       "array([[ 2,  3,  5],\n",
       "       [ 8,  9, 11],\n",
       "       [14, 15, 17],\n",
       "       [20, 21, 23],\n",
       "       [26, 27, 29],\n",
       "       [32, 33, 35],\n",
       "       [38, 39, 41],\n",
       "       [44, 45, 47]])"
      ]
     },
     "execution_count": 5,
     "metadata": {},
     "output_type": "execute_result"
    }
   ],
   "source": [
    "cols = [2, 3, 5]\n",
    "\n",
    "A[:,cols]"
   ]
  },
  {
   "cell_type": "markdown",
   "metadata": {},
   "source": [
    "#### Q2.3 Create a new 3x5 array, with elements from rows 6, 1, 3 of A (in that order). __Hint: use fancy indexing__"
   ]
  },
  {
   "cell_type": "code",
   "execution_count": 6,
   "metadata": {},
   "outputs": [
    {
     "data": {
      "text/plain": [
       "array([[36, 37, 38, 39, 40, 41],\n",
       "       [ 6,  7,  8,  9, 10, 11],\n",
       "       [18, 19, 20, 21, 22, 23]])"
      ]
     },
     "execution_count": 6,
     "metadata": {},
     "output_type": "execute_result"
    }
   ],
   "source": [
    "rows = [6, 1, 3]\n",
    "\n",
    "A[rows]"
   ]
  },
  {
   "cell_type": "markdown",
   "metadata": {},
   "source": [
    "#### Q2.4 Write codes to extract four elements from A with the following indices (4,2), (5,0), (1,2), (3,3)."
   ]
  },
  {
   "cell_type": "code",
   "execution_count": 7,
   "metadata": {},
   "outputs": [
    {
     "data": {
      "text/plain": [
       "array([26, 30,  8, 21])"
      ]
     },
     "execution_count": 7,
     "metadata": {},
     "output_type": "execute_result"
    }
   ],
   "source": [
    "rows = [4,5,1,3]\n",
    "cols = [2,0,2,3]\n",
    "\n",
    "A[rows, cols]"
   ]
  },
  {
   "cell_type": "markdown",
   "metadata": {},
   "source": [
    "<h3>Q3: Array Processing (15 points)</h3>\n",
    "<h4>Given a 9-by-9 matrix of random integers from 0 to 99:</h4>"
   ]
  },
  {
   "cell_type": "code",
   "execution_count": 8,
   "metadata": {},
   "outputs": [
    {
     "data": {
      "text/plain": [
       "array([[37, 12, 72,  9, 75,  5, 79, 64, 16],\n",
       "       [ 1, 76, 71,  6, 25, 50, 20, 18, 84],\n",
       "       [11, 28, 29, 14, 50, 68, 87, 87, 94],\n",
       "       [96, 86, 13,  9,  7, 63, 61, 22, 57],\n",
       "       [ 1,  0, 60, 81,  8, 88, 13, 47, 72],\n",
       "       [30, 71,  3, 70, 21, 49, 57,  3, 68],\n",
       "       [24, 43, 76, 26, 52, 80, 41, 82, 15],\n",
       "       [64, 68, 25, 98, 87,  7, 26, 25, 22],\n",
       "       [ 9, 67, 23, 27, 37, 57, 83, 38,  8]])"
      ]
     },
     "execution_count": 8,
     "metadata": {},
     "output_type": "execute_result"
    }
   ],
   "source": [
    "np.random.seed(1)\n",
    "arr = np.random.randint(100,size=(9,9))\n",
    "arr"
   ]
  },
  {
   "cell_type": "markdown",
   "metadata": {},
   "source": [
    "<h4>Q3.1 Observe that each 9x9 matrix is essentially nine blocks of 3x3 matrix. Write a Python code to calculate the mean value for each of the 3x3 matrix.</h4>\n",
    "<h4> Hint: use array slicing to index each of the 9 sub-block.</h4>"
   ]
  },
  {
   "cell_type": "code",
   "execution_count": 9,
   "metadata": {},
   "outputs": [
    {
     "name": "stdout",
     "output_type": "stream",
     "text": [
      "37.4\n",
      "33.6\n",
      "61.0\n",
      "40.0\n",
      "44.0\n",
      "44.4\n",
      "44.3\n",
      "52.3\n",
      "37.8\n"
     ]
    }
   ],
   "source": [
    "n = 3\n",
    "arr_1 = np.zeros((9,9))\n",
    "\n",
    "for i in range(n):\n",
    "    for j in range(n):\n",
    "        arr_1[i, j] = np.mean(arr[i*n:(i+1)*n, j*n:(j+1)*n])\n",
    "        print (round(arr_1[i,j],1))"
   ]
  },
  {
   "cell_type": "markdown",
   "metadata": {},
   "source": [
    "<h4>Q3.2 What is the maximum value in the array? What is the index of the maximum value?</h4>\n",
    "<h4>Note: use argmax()."
   ]
  },
  {
   "cell_type": "code",
   "execution_count": 10,
   "metadata": {},
   "outputs": [
    {
     "name": "stdout",
     "output_type": "stream",
     "text": [
      "maximum value = 98 on index  66\n"
     ]
    }
   ],
   "source": [
    "max_val = arr.max()\n",
    "print (\"maximum value =\", max_val, \"on index \", arr.argmax())"
   ]
  },
  {
   "cell_type": "markdown",
   "metadata": {},
   "source": [
    "<h3>Q4: Rolling Dices (20 Points)</h3>\n",
    "    \n",
    "Assume that you have a fair dice of six faces, that is, it is equally likely to get any of the 6 possible outcomes for one dice roll.\n",
    "\n",
    "__Q4.1 (5 points): Applying the same method that we used for coin tosses, write a code to simulate the probability of occurrence for each of the 6 numbers. You will perform at least 1,000,000 rolls.__\n",
    "\n",
    "The result should be presented as follows:\n",
    "   * Number of 1's = 100,000. Probability = 16.67%\n",
    "   * Number of 2's = 96,000. Probability = 16.0%\n",
    "   * ......"
   ]
  },
  {
   "cell_type": "code",
   "execution_count": 11,
   "metadata": {},
   "outputs": [
    {
     "name": "stdout",
     "output_type": "stream",
     "text": [
      "Number of 1's = 166286 \t Probability = 16.63%\n",
      "Number of 2's = 166305 \t Probability = 16.63%\n",
      "Number of 3's = 166646 \t Probability = 16.66%\n",
      "Number of 4's = 166557 \t Probability = 16.66%\n",
      "Number of 5's = 167246 \t Probability = 16.72%\n",
      "Number of 6's = 166960 \t Probability = 16.7%\n"
     ]
    }
   ],
   "source": [
    "# Create a random integer array of values from 1 to 6 with equal probability\n",
    "\n",
    "n_rolls = 1000000\n",
    "\n",
    "roll = np.random.randint(1,7, size=n_rolls)\n",
    "# np.unique(arr, return_counts = True): a useful way to find unique elements and count # of occurrences\n",
    "outcome, counts = np.unique(roll, return_counts=True)\n",
    "#print (outcome, counts)\n",
    "\n",
    "for i in outcome:\n",
    "    print (f\"Number of {i}'s =\", counts[i-1], \n",
    "           f\"\\t Probability = {round(counts[i-1]/n_rolls*100,2)}%\")"
   ]
  },
  {
   "cell_type": "markdown",
   "metadata": {},
   "source": [
    "__Q4.2 (7 points): Suppose you are rolling two dices and add the two numbers together. The possible 11 outcomes range from 2 (1+1) to 12 (6+6).__ \n",
    "\n",
    "Write a simulation of 1,000,000 trials to find out the probability for each of the 11 outcomes.\n",
    "\n",
    "The result should be presented as follows:\n",
    "   * Number of 2's = 14,000. Probability = 2.80%\n",
    "   * Number of 3's = 27,800. Probability = 5.56%\n",
    "   * ....."
   ]
  },
  {
   "cell_type": "code",
   "execution_count": 12,
   "metadata": {},
   "outputs": [
    {
     "name": "stdout",
     "output_type": "stream",
     "text": [
      "Number of 2's = 27940 \t Probability = 2.79%\n",
      "Number of 3's = 55963 \t Probability = 5.6%\n",
      "Number of 4's = 83431 \t Probability = 8.34%\n",
      "Number of 5's = 111020 \t Probability = 11.1%\n",
      "Number of 6's = 138572 \t Probability = 13.86%\n",
      "Number of 7's = 166478 \t Probability = 16.65%\n",
      "Number of 8's = 138682 \t Probability = 13.87%\n",
      "Number of 9's = 111385 \t Probability = 11.14%\n",
      "Number of 10's = 83206 \t Probability = 8.32%\n",
      "Number of 11's = 55450 \t Probability = 5.54%\n",
      "Number of 12's = 27873 \t Probability = 2.79%\n"
     ]
    }
   ],
   "source": [
    "n_rolls = 1000000\n",
    "\n",
    "# Create two indepedenet dice rolling arrays then add two outcomes together\n",
    "dice_1 = np.random.randint(1,7, size=n_rolls)\n",
    "dice_2 = np.random.randint(1,7, size=n_rolls)\n",
    "dice = dice_1 + dice_2\n",
    "\n",
    "# Again, use np.unique()\n",
    "outcome, counts = np.unique(dice, return_counts=True)\n",
    "\n",
    "for i in outcome:\n",
    "    print (f\"Number of {i}'s =\".format(i), counts[i-2], \n",
    "           f\"\\t Probability = {round(counts[i-2]/n_rolls*100, 2)}%\")"
   ]
  },
  {
   "cell_type": "markdown",
   "metadata": {},
   "source": [
    "__Q4.3 (8 points): Suppose you roll an uneven dice 5 times, what is the probability of getting '4' exactly 3 times? The probability for each face of the dice is as follows.__\n",
    "\n",
    "      * P(1) = 0.10, P(2) = 0.15, P(3)=0.20, P(4) = 0.25, P(5) = 0.20, P(6) = 0.10\n",
    "\n",
    "Write a simulation of 1,000,000 trials for the answer."
   ]
  },
  {
   "cell_type": "code",
   "execution_count": 13,
   "metadata": {},
   "outputs": [
    {
     "name": "stdout",
     "output_type": "stream",
     "text": [
      "Prob. of rolling 4 for exactly 3 times = 8.755%\n"
     ]
    }
   ],
   "source": [
    "n_rolls = 1000000\n",
    "outcome = 0\n",
    "\n",
    "# For non-uniformly distributed random process, we will use np.random.choice()\n",
    "p = np.array([0.1, 0.15, 0.2, 0.25, 0.2, 0.1])\n",
    "a = np.arange(1, 7, dtype=int)\n",
    "\n",
    "# We want to find out if \"4\" occurs exactly 3 times in 5 rolls\n",
    "\n",
    "for _ in np.arange(n_rolls):\n",
    "    roll_5 = np.random.choice(a,p=p, size=5)   # One trial = 5 rolls of dice\n",
    "    bool6 = roll_5 == 4     # A boolean array to count the number of True \n",
    "    if bool6.sum() == 3:\n",
    "        outcome += 1\n",
    "\n",
    "print (f'Prob. of rolling 4 for exactly 3 times = {round(outcome/n_rolls*100, 3)}%')"
   ]
  },
  {
   "cell_type": "markdown",
   "metadata": {},
   "source": [
    "<h3>Q5: Picking Marbles (20 Points)</h3>\n",
    "\n",
    "__Q5.1 (10 points): You have a bag of 12 marbles, 6 are red, 4 are white, and 2 are blue. You randomly pick three marbles from the bag. What is the probability of drawing 1 red, 1 white, and 1 blue (in this order)? The theoretical result is 2/55 ~3.636%. Write a simulation of 100,000 trials to verify the answer.__ \n",
    "\n",
    "Hint: You can follow the steps here:\n",
    "1. Create an array of 12 elements, bag = np.array(['r','r','r','r','r','r','w','w','w','w','b','b'])\n",
    "2. Create the desired outcome of 3 marbels of red, white, and blue, bag3 = np.array(['r','w','b'])\n",
    "3. For each of the trial, you use np.random.permutation() to shuffle the bag array\n",
    "4. Create a Boolean array by comparing the first three elements of the shuffled array with the desired outcome.\n",
    "5. If the values the Boolean array are all True --> you have a match"
   ]
  },
  {
   "cell_type": "code",
   "execution_count": 14,
   "metadata": {},
   "outputs": [
    {
     "name": "stdout",
     "output_type": "stream",
     "text": [
      "First three marbles = ['r' 'w' 'b']\n",
      "Prob. of red-white-blue = 3.54%\n"
     ]
    }
   ],
   "source": [
    "# Create an array of 12 elements, with 6 red, 4 white, and 2 blue \n",
    "bag = np.array(['r','r','r','r','r','r','w','w','w','w','b','b'])\n",
    "\n",
    "# pattern_3 = the sequence of the first 3 marbels picked\n",
    "pattern_3 = np.array(['r','w','b'])\n",
    "\n",
    "print ('First three marbles =', pattern_3)\n",
    "\n",
    "n_trials = 100000\n",
    "outcome = 0\n",
    "\n",
    "for _ in np.arange(n_trials):\n",
    "    shuffle = np.random.permutation(bag)   # shuffle the order before each trial\n",
    "\n",
    "    # test if the first three marbles match the pattern\n",
    "    bool = pattern_3 == shuffle[:3]\n",
    "    # There is a match if all boolean array values are True\n",
    "    if bool.all(): outcome += 1\n",
    "    \n",
    "print (f'Prob. of red-white-blue = {round(outcome/n_trials*100, 2)}%') "
   ]
  },
  {
   "cell_type": "markdown",
   "metadata": {},
   "source": [
    "__Q5.2 (10 points) With the same bag, you again pick out three marbles. However, the order does not matter this time. What is the probability of drawing 1 red, 1 white, and 1 blue? The theoretical result is 12/55 ~21.82%. Write a simulation of 100,000 trials to verify the answer.__\n",
    "\n",
    "Hint: This question is different from Q5.1 since the order of the drawing is not important as long as you have {r,w,b} in the outcome. You should look for another way to compare the desired outcome with the shuffled arrays."
   ]
  },
  {
   "cell_type": "code",
   "execution_count": 15,
   "metadata": {},
   "outputs": [
    {
     "name": "stdout",
     "output_type": "stream",
     "text": [
      "Prob. = 21.77%\n"
     ]
    }
   ],
   "source": [
    "pattern_3 = np.array(['r','w','b'])\n",
    "n_trials = 100000\n",
    "outcome = 0\n",
    "\n",
    "for i in np.arange(n_trials):\n",
    "    shuffle =np.random.permutation(bag)\n",
    "\n",
    "    # The key is to check whether a red, a white, and a blue are picked, so the best way\n",
    "    # is to use the Python membership command (in). I choose to use np.isin(arr1, arr2) which\n",
    "    # returns a Boolean array that indicates if elements in arr1 are in arr2\n",
    "    bool = np.isin(pattern_3, shuffle[:3])\n",
    "    if bool.all():\n",
    "        outcome += 1\n",
    "    \n",
    "print (f'Prob. = {round(outcome/n_trials*100, 2)}%')"
   ]
  },
  {
   "cell_type": "markdown",
   "metadata": {},
   "source": [
    "### Q6: Birthday Problem & Normal Distribution (23 Points)\n",
    "\n",
    "__Q6.1 (8 points) With 30 people in the same room, what is the probability that at least three people are sharing the same birthday? Write a simulation of 100,000 trials to find the answer.__"
   ]
  },
  {
   "cell_type": "code",
   "execution_count": null,
   "metadata": {},
   "outputs": [],
   "source": [
    "# Create a uniformly distributed array of N, each with a number from 1 to 365 \n",
    "# Assuming Feb 29 is not a birthday to simplify the simulation.\n",
    "\n",
    "size = 30   # number of people in a group      \n",
    "n_trials = 100000\n",
    "same_bday = 0\n",
    "\n",
    "# This turns out to be more complicated than the case of \"at least 2\".\n",
    "# At least 3 share the same birthday, meaning, we want to remove two cases:\n",
    "#    1. All have unique birthdays\n",
    "#.   2. Exactly 2 people share the same birthday\n",
    "#    How to simulate this?\n",
    "\n",
    "for _ in np.arange(n_trials):\n",
    "    bday = np.random.randint(1,366,size)  # random number from 1 to 365\n",
    "\n",
    "    u, u_count = np.unique(bday, return_counts=True)    # get the unique birthdays & the number for each birthday\n",
    "    #print (u_count)  \n",
    "    # As long as there is one u_count >=3, it works\n",
    "    bool = u_count >= 3 \n",
    "    if bool.any(): same_bday +=1\n",
    "\n",
    "print (\"Number of people in a group: \", size)\n",
    "print (\"Prob of at least three people share the same birthday = \", same_bday/n_trials)"
   ]
  },
  {
   "cell_type": "markdown",
   "metadata": {},
   "source": [
    "__Q6.2 (8 points) With 30 people in the same room, what is the probability that Exactly three people are sharing the same birthday? Write a simulation of 100,000 trials to find the answer.__"
   ]
  },
  {
   "cell_type": "code",
   "execution_count": 17,
   "metadata": {},
   "outputs": [
    {
     "name": "stdout",
     "output_type": "stream",
     "text": [
      "Number of people in a group:  30\n",
      "Prob of exactly three people share the same birthday =  0.02717\n"
     ]
    }
   ],
   "source": [
    "size = 30   # number of people in a group      \n",
    "n_trials = 100000\n",
    "same_bday = 0\n",
    "\n",
    "for _ in np.arange(n_trials):\n",
    "    bday = np.random.randint(1,366,size)  # random number from 1 to 365\n",
    "\n",
    "    u, u_count = np.unique(bday, return_counts=True)    # get the unique birthdays & the number for each birthday\n",
    "\n",
    "    # if there is only one u_count = 3, then that's it \n",
    "    bool = u_count == 3 \n",
    "    if (bool.sum() == 1): same_bday +=1\n",
    "\n",
    "print (\"Number of people in a group: \", size)\n",
    "print (\"Prob of exactly three people share the same birthday = \", same_bday/n_trials)"
   ]
  },
  {
   "cell_type": "markdown",
   "metadata": {},
   "source": [
    "__Q6.3 (7 poins) A company produces light bulbs, and the weight of each bulb is normally distributed with a mean of 50 grams and a standard deviation of 2 grams. If the company wants to package the bulbs in boxes of 10, what is the probability that the total weight of the bulbs in a box is between 495 and 505 grams? Write a simulation of 100,000 trials to answer this.__"
   ]
  },
  {
   "cell_type": "code",
   "execution_count": 18,
   "metadata": {},
   "outputs": [
    {
     "name": "stdout",
     "output_type": "stream",
     "text": [
      "Prob of box weight between 495 & 505 grams =  0.57104\n"
     ]
    }
   ],
   "source": [
    "n_trials = 100000\n",
    "size = 10\n",
    "good = 0\n",
    "\n",
    "for _ in range(n_trials):\n",
    "    box = np.random.normal(50, 2, size)\n",
    "    weight = box.sum()\n",
    "    if ( (weight >= 495) & (weight <= 505)): good += 1\n",
    "        \n",
    "print (\"Prob of box weight between 495 & 505 grams = \", good/n_trials)"
   ]
  },
  {
   "cell_type": "markdown",
   "metadata": {},
   "source": [
    "### Question 6 had me struggling to understand where I went wrong for quite a while. I eventually understood that there was an issue with how I implemented the for-loop logic and it was messing with the outcome of the probability. This was essentially a running overall issue with questions 4-6 but I mainly struggled on the last half of this assignment. "
   ]
  },
  {
   "cell_type": "code",
   "execution_count": null,
   "metadata": {},
   "outputs": [],
   "source": []
  }
 ],
 "metadata": {
  "kernelspec": {
   "display_name": "Python 3 (ipykernel)",
   "language": "python",
   "name": "python3"
  },
  "language_info": {
   "codemirror_mode": {
    "name": "ipython",
    "version": 3
   },
   "file_extension": ".py",
   "mimetype": "text/x-python",
   "name": "python",
   "nbconvert_exporter": "python",
   "pygments_lexer": "ipython3",
   "version": "3.10.13"
  }
 },
 "nbformat": 4,
 "nbformat_minor": 4
}
