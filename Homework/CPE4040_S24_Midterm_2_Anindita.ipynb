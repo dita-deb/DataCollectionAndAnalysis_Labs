{
 "cells": [
  {
   "cell_type": "markdown",
   "metadata": {},
   "source": [
    "<center><h1> CPE 4040 Spring 2024: Midterm Exam 2</h1></center>"
   ]
  },
  {
   "cell_type": "markdown",
   "metadata": {},
   "source": [
    "## This is a two-part exam:\n",
    "    Part 1: Problem solving\n",
    "    Part 2: Semi-guided project for exploratory data analysis\n",
    "### General guidelines:\n",
    " * Do your coding in a clean and logical manner.\n",
    " * __Make comments on your codes. Make insightful observations after the analysis.__\n",
    " * This is an individual assignment.\n",
    " * You are encouraged to do reseach, however, do your own work. __Do not copy-and-paste AI's or other people's work.__    \n",
    "\n",
    "### Submission:\n",
    " * You have to submit this notebook file and the pdf file - remember to add your name in in the filenames. \n",
    " * __Deadline: 11:59 pm, 4/10 (Wednesday)__"
   ]
  },
  {
   "cell_type": "markdown",
   "metadata": {},
   "source": [
    "<h3> Import Python Tool Modules First</h3>"
   ]
  },
  {
   "cell_type": "code",
   "execution_count": 159,
   "metadata": {},
   "outputs": [],
   "source": [
    "import pandas as pd\n",
    "import numpy as np\n",
    "import matplotlib.pyplot as plt\n",
    "import seaborn as sns"
   ]
  },
  {
   "cell_type": "markdown",
   "metadata": {},
   "source": [
    "<h2>Part 1: Baby Name Dataset Analysis (45 Points)</h2>\n",
    "\n",
    "#### In this dataset, baby names in the US from 2004 to 2014 are tablulated by gender, year, State, and number of counts.\n",
    "\n",
    "### First step: import the dataset (in csv format) from this [address](https://raw.githubusercontent.com/guipsamora/pandas_exercises/master/06_Stats/US_Baby_Names/US_Baby_Names_right.csv). "
   ]
  },
  {
   "cell_type": "markdown",
   "metadata": {},
   "source": [
    "<h3>Q1. Read the dataset and assign it to a dataframe called \"baby\". </h3>\n",
    "<h4>Display the first 10 rows of the dataset. What are the column labels?</h4>"
   ]
  },
  {
   "cell_type": "code",
   "execution_count": 160,
   "metadata": {},
   "outputs": [
    {
     "data": {
      "text/html": [
       "<div>\n",
       "<style scoped>\n",
       "    .dataframe tbody tr th:only-of-type {\n",
       "        vertical-align: middle;\n",
       "    }\n",
       "\n",
       "    .dataframe tbody tr th {\n",
       "        vertical-align: top;\n",
       "    }\n",
       "\n",
       "    .dataframe thead th {\n",
       "        text-align: right;\n",
       "    }\n",
       "</style>\n",
       "<table border=\"1\" class=\"dataframe\">\n",
       "  <thead>\n",
       "    <tr style=\"text-align: right;\">\n",
       "      <th></th>\n",
       "      <th>Unnamed: 0</th>\n",
       "      <th>Id</th>\n",
       "      <th>Name</th>\n",
       "      <th>Year</th>\n",
       "      <th>Gender</th>\n",
       "      <th>State</th>\n",
       "      <th>Count</th>\n",
       "    </tr>\n",
       "  </thead>\n",
       "  <tbody>\n",
       "    <tr>\n",
       "      <th>0</th>\n",
       "      <td>11349</td>\n",
       "      <td>11350</td>\n",
       "      <td>Emma</td>\n",
       "      <td>2004</td>\n",
       "      <td>F</td>\n",
       "      <td>AK</td>\n",
       "      <td>62</td>\n",
       "    </tr>\n",
       "    <tr>\n",
       "      <th>1</th>\n",
       "      <td>11350</td>\n",
       "      <td>11351</td>\n",
       "      <td>Madison</td>\n",
       "      <td>2004</td>\n",
       "      <td>F</td>\n",
       "      <td>AK</td>\n",
       "      <td>48</td>\n",
       "    </tr>\n",
       "    <tr>\n",
       "      <th>2</th>\n",
       "      <td>11351</td>\n",
       "      <td>11352</td>\n",
       "      <td>Hannah</td>\n",
       "      <td>2004</td>\n",
       "      <td>F</td>\n",
       "      <td>AK</td>\n",
       "      <td>46</td>\n",
       "    </tr>\n",
       "    <tr>\n",
       "      <th>3</th>\n",
       "      <td>11352</td>\n",
       "      <td>11353</td>\n",
       "      <td>Grace</td>\n",
       "      <td>2004</td>\n",
       "      <td>F</td>\n",
       "      <td>AK</td>\n",
       "      <td>44</td>\n",
       "    </tr>\n",
       "    <tr>\n",
       "      <th>4</th>\n",
       "      <td>11353</td>\n",
       "      <td>11354</td>\n",
       "      <td>Emily</td>\n",
       "      <td>2004</td>\n",
       "      <td>F</td>\n",
       "      <td>AK</td>\n",
       "      <td>41</td>\n",
       "    </tr>\n",
       "    <tr>\n",
       "      <th>5</th>\n",
       "      <td>11354</td>\n",
       "      <td>11355</td>\n",
       "      <td>Abigail</td>\n",
       "      <td>2004</td>\n",
       "      <td>F</td>\n",
       "      <td>AK</td>\n",
       "      <td>37</td>\n",
       "    </tr>\n",
       "    <tr>\n",
       "      <th>6</th>\n",
       "      <td>11355</td>\n",
       "      <td>11356</td>\n",
       "      <td>Olivia</td>\n",
       "      <td>2004</td>\n",
       "      <td>F</td>\n",
       "      <td>AK</td>\n",
       "      <td>33</td>\n",
       "    </tr>\n",
       "    <tr>\n",
       "      <th>7</th>\n",
       "      <td>11356</td>\n",
       "      <td>11357</td>\n",
       "      <td>Isabella</td>\n",
       "      <td>2004</td>\n",
       "      <td>F</td>\n",
       "      <td>AK</td>\n",
       "      <td>30</td>\n",
       "    </tr>\n",
       "    <tr>\n",
       "      <th>8</th>\n",
       "      <td>11357</td>\n",
       "      <td>11358</td>\n",
       "      <td>Alyssa</td>\n",
       "      <td>2004</td>\n",
       "      <td>F</td>\n",
       "      <td>AK</td>\n",
       "      <td>29</td>\n",
       "    </tr>\n",
       "    <tr>\n",
       "      <th>9</th>\n",
       "      <td>11358</td>\n",
       "      <td>11359</td>\n",
       "      <td>Sophia</td>\n",
       "      <td>2004</td>\n",
       "      <td>F</td>\n",
       "      <td>AK</td>\n",
       "      <td>28</td>\n",
       "    </tr>\n",
       "  </tbody>\n",
       "</table>\n",
       "</div>"
      ],
      "text/plain": [
       "   Unnamed: 0     Id      Name  Year Gender State  Count\n",
       "0       11349  11350      Emma  2004      F    AK     62\n",
       "1       11350  11351   Madison  2004      F    AK     48\n",
       "2       11351  11352    Hannah  2004      F    AK     46\n",
       "3       11352  11353     Grace  2004      F    AK     44\n",
       "4       11353  11354     Emily  2004      F    AK     41\n",
       "5       11354  11355   Abigail  2004      F    AK     37\n",
       "6       11355  11356    Olivia  2004      F    AK     33\n",
       "7       11356  11357  Isabella  2004      F    AK     30\n",
       "8       11357  11358    Alyssa  2004      F    AK     29\n",
       "9       11358  11359    Sophia  2004      F    AK     28"
      ]
     },
     "execution_count": 160,
     "metadata": {},
     "output_type": "execute_result"
    }
   ],
   "source": [
    "# URL of the CSV file\n",
    "url = 'https://raw.githubusercontent.com/guipsamora/pandas_exercises/master/06_Stats/US_Baby_Names/US_Baby_Names_right.csv'\n",
    "\n",
    "# Read the CSV file into a pandas DataFrame\n",
    "baby = pd.read_csv(url)\n",
    "\n",
    "# Display the first 10 rows\n",
    "baby.head(10)"
   ]
  },
  {
   "cell_type": "markdown",
   "metadata": {},
   "source": [
    "<h3>Q2. The first two columns \"Unnamed: 0\" and \"Id\" are not useful.</h3>\n",
    "\n",
    "### Please remove them and display the first 5 rows of the new dataframe."
   ]
  },
  {
   "cell_type": "code",
   "execution_count": 161,
   "metadata": {},
   "outputs": [
    {
     "data": {
      "text/html": [
       "<div>\n",
       "<style scoped>\n",
       "    .dataframe tbody tr th:only-of-type {\n",
       "        vertical-align: middle;\n",
       "    }\n",
       "\n",
       "    .dataframe tbody tr th {\n",
       "        vertical-align: top;\n",
       "    }\n",
       "\n",
       "    .dataframe thead th {\n",
       "        text-align: right;\n",
       "    }\n",
       "</style>\n",
       "<table border=\"1\" class=\"dataframe\">\n",
       "  <thead>\n",
       "    <tr style=\"text-align: right;\">\n",
       "      <th></th>\n",
       "      <th>Name</th>\n",
       "      <th>Year</th>\n",
       "      <th>Gender</th>\n",
       "      <th>State</th>\n",
       "      <th>Count</th>\n",
       "    </tr>\n",
       "  </thead>\n",
       "  <tbody>\n",
       "    <tr>\n",
       "      <th>0</th>\n",
       "      <td>Emma</td>\n",
       "      <td>2004</td>\n",
       "      <td>F</td>\n",
       "      <td>AK</td>\n",
       "      <td>62</td>\n",
       "    </tr>\n",
       "    <tr>\n",
       "      <th>1</th>\n",
       "      <td>Madison</td>\n",
       "      <td>2004</td>\n",
       "      <td>F</td>\n",
       "      <td>AK</td>\n",
       "      <td>48</td>\n",
       "    </tr>\n",
       "    <tr>\n",
       "      <th>2</th>\n",
       "      <td>Hannah</td>\n",
       "      <td>2004</td>\n",
       "      <td>F</td>\n",
       "      <td>AK</td>\n",
       "      <td>46</td>\n",
       "    </tr>\n",
       "    <tr>\n",
       "      <th>3</th>\n",
       "      <td>Grace</td>\n",
       "      <td>2004</td>\n",
       "      <td>F</td>\n",
       "      <td>AK</td>\n",
       "      <td>44</td>\n",
       "    </tr>\n",
       "    <tr>\n",
       "      <th>4</th>\n",
       "      <td>Emily</td>\n",
       "      <td>2004</td>\n",
       "      <td>F</td>\n",
       "      <td>AK</td>\n",
       "      <td>41</td>\n",
       "    </tr>\n",
       "  </tbody>\n",
       "</table>\n",
       "</div>"
      ],
      "text/plain": [
       "      Name  Year Gender State  Count\n",
       "0     Emma  2004      F    AK     62\n",
       "1  Madison  2004      F    AK     48\n",
       "2   Hannah  2004      F    AK     46\n",
       "3    Grace  2004      F    AK     44\n",
       "4    Emily  2004      F    AK     41"
      ]
     },
     "execution_count": 161,
     "metadata": {},
     "output_type": "execute_result"
    }
   ],
   "source": [
    "# Remove the first two columns\n",
    "baby_columns = baby.drop(df.columns[:2], axis=1)\n",
    "\n",
    "# Display the default 5 rows with head()\n",
    "baby_columns.head()"
   ]
  },
  {
   "cell_type": "markdown",
   "metadata": {},
   "source": [
    "### Q3. According to this dataset, how many babies were born each year from 2004 to 2014? \n",
    "\n",
    "#### Show the numerical results and plot a `vertical bar chart` for the number of new-borns from 2004 to 2014. Properly label the x-axis and the y-axis."
   ]
  },
  {
   "cell_type": "code",
   "execution_count": 162,
   "metadata": {},
   "outputs": [
    {
     "name": "stdout",
     "output_type": "stream",
     "text": [
      "Year\n",
      "2004    3293984\n",
      "2005    3305315\n",
      "2006    3387737\n",
      "2007    3412417\n",
      "2008    3340318\n",
      "2009    3232116\n",
      "2010    3116548\n",
      "2011    3079145\n",
      "2012    3073858\n",
      "2013    3066443\n",
      "2014    3113611\n",
      "Name: Count, dtype: int64\n"
     ]
    }
   ],
   "source": [
    "# Filtering the dataframe for years 2004 to 2014\n",
    "babies_born = baby[(baby['Year'] >= 2004) & (baby['Year'] <= 2014)]\n",
    "\n",
    "# Group the babies by year they were born and finding the sum\n",
    "babies_born_sum = babies_born.groupby('Year')['Count'].sum()\n",
    "\n",
    "# Display the amount of babies in dataset born from 2004 - 2014\n",
    "print(babies_born_sum)"
   ]
  },
  {
   "cell_type": "code",
   "execution_count": 163,
   "metadata": {},
   "outputs": [
    {
     "data": {
      "image/png": "[encoded data removed]",
      "text/plain": [
       "<Figure size 640x480 with 1 Axes>"
      ]
     },
     "metadata": {},
     "output_type": "display_data"
    }
   ],
   "source": [
    "# Using the data from babies_born_sum to create a vertical bar chart\n",
    "babies_born_sum.plot.bar()\n",
    "\n",
    "# labeling and display chart\n",
    "plt.title('Babies Born from 2004-2014')\n",
    "plt.xlabel('Year')\n",
    "plt.ylabel('Sum of Babies Born Each Year')\n",
    "plt.show()"
   ]
  },
  {
   "cell_type": "markdown",
   "metadata": {},
   "source": [
    "### Q4. How many boys (M) and girls (F) were born each year from 2004 to 2014? \n",
    "#### Show the numerical results and plot a `grouped bar chart`, one for boys and one for girls. Please add a legend."
   ]
  },
  {
   "cell_type": "code",
   "execution_count": 164,
   "metadata": {},
   "outputs": [
    {
     "name": "stdout",
     "output_type": "stream",
     "text": [
      "         Boys    Girls\n",
      "Year                  \n",
      "2004  1770488  1523496\n",
      "2005  1777150  1528165\n",
      "2006  1822851  1564886\n",
      "2007  1835769  1576648\n",
      "2008  1795907  1544411\n",
      "2009  1738944  1493172\n",
      "2010  1677202  1439346\n",
      "2011  1656606  1422539\n",
      "2012  1651838  1422020\n",
      "2013  1647092  1419351\n",
      "2014  1667352  1446259\n"
     ]
    }
   ],
   "source": [
    "# Grouping and then adding babies from 'baby' dataset by 'Year' and 'Gender'\n",
    "boys = babies_born[babies_born['Gender'] == 'M'].groupby('Year')['Count'].sum()\n",
    "girls = babies_born[babies_born['Gender'] == 'F'].groupby('Year')['Count'].sum()\n",
    "\n",
    "# Creating a dataframe from variables Boys and Girls\n",
    "baby_gender = pd.DataFrame({'Boys': boys, 'Girls': girls})\n",
    "\n",
    "# Display numerical results\n",
    "print(baby_gender)"
   ]
  },
  {
   "cell_type": "code",
   "execution_count": 165,
   "metadata": {},
   "outputs": [
    {
     "data": {
      "image/png": "[encoded data removed]",
      "text/plain": [
       "<Figure size 640x480 with 1 Axes>"
      ]
     },
     "metadata": {},
     "output_type": "display_data"
    }
   ],
   "source": [
    "# Using the data from babies_born_sum to create a vertical bar chart\n",
    "baby_gender.plot.bar(color = ['lightblue', 'purple'])\n",
    "\n",
    "# Labeling and display chart\n",
    "plt.title('Sum of Boys and Girls Born from 2004-2014')\n",
    "plt.xlabel('Year')\n",
    "plt.ylabel('Sum of Babies Born Each Year')\n",
    "plt.legend(title='Gender')\n",
    "plt.show()"
   ]
  },
  {
   "cell_type": "markdown",
   "metadata": {},
   "source": [
    "### Q5. How many unique boy's names in the dataset? How many unique girl's names in the dataset?"
   ]
  },
  {
   "cell_type": "code",
   "execution_count": 166,
   "metadata": {},
   "outputs": [
    {
     "name": "stdout",
     "output_type": "stream",
     "text": [
      "Number of unique boy's names: 8012\n",
      "Number of unique girl's names: 10929\n"
     ]
    }
   ],
   "source": [
    "# Count the number of unique boy names\n",
    "unique_boys_names = baby[baby['Gender'] == 'M']['Name'].nunique()\n",
    "\n",
    "# Count the number of unique girl names\n",
    "unique_girls_names = baby[baby['Gender'] == 'F']['Name'].nunique()\n",
    "\n",
    "# Display \n",
    "print(\"Number of unique boy's names:\", unique_boys_names)\n",
    "print(\"Number of unique girl's names:\", unique_girls_names)"
   ]
  },
  {
   "cell_type": "markdown",
   "metadata": {},
   "source": [
    "### Q6. What is the most popular boy's name from 2004 to 2014? \n",
    "### What is the most popular girl's name from 2004 to 2014?"
   ]
  },
  {
   "cell_type": "code",
   "execution_count": 167,
   "metadata": {},
   "outputs": [
    {
     "name": "stdout",
     "output_type": "stream",
     "text": [
      "Most popular boy's name from 2004 to 2014: Jacob\n",
      "Most popular girl's name from 2004 to 2014: Emma\n"
     ]
    }
   ],
   "source": [
    "# Group by name and gender, and sum the number of babies born for each name\n",
    "name_counts = filtered_year.groupby(['Name', 'Gender'])['Count'].sum()\n",
    "\n",
    "# Find the most popular boy's name\n",
    "most_popular_boys_name = name_counts.loc[(slice(None), 'M')].idxmax()\n",
    "\n",
    "# Find the most popular girl's name\n",
    "most_popular_girls_name = name_counts.loc[(slice(None), 'F')].idxmax()\n",
    "\n",
    "print(\"Most popular boy's name from 2004 to 2014:\", most_popular_boys_name)\n",
    "print(\"Most popular girl's name from 2004 to 2014:\", most_popular_girls_name)"
   ]
  },
  {
   "cell_type": "markdown",
   "metadata": {},
   "source": [
    "### Q7. For the State of Texas, what was the most popular boy's name in 2012? How about girl's name?"
   ]
  },
  {
   "cell_type": "code",
   "execution_count": 168,
   "metadata": {
    "scrolled": true
   },
   "outputs": [
    {
     "name": "stdout",
     "output_type": "stream",
     "text": [
      "Most popular boy's name in Texas in 2012: Jacob\n",
      "Most popular girl's name in Texas in 2012: Sophia\n"
     ]
    }
   ],
   "source": [
    "# filtered the year to 2012 and checked the state as Texas\n",
    "filtered_year2012 = babyname[(babyname['State'] == 'TX') & (babyname['Year'] == 2012)]\n",
    "\n",
    "# Group by name and gender, and sum the number of babies born for each name\n",
    "name_count = filtered_year2012.groupby(['Name', 'Gender'])['Count'].sum()\n",
    "\n",
    "# Find the most popular boy's name in Texas in 2012\n",
    "most_popular_boys_name = name_count.loc[(slice(None), 'M')].idxmax()\n",
    "\n",
    "# Find the most popular girl's name in Texas in 2012\n",
    "most_popular_girls_name = name_count.loc[(slice(None), 'F')].idxmax()\n",
    "\n",
    "print(\"Most popular boy's name in Texas in 2012:\", most_popular_boys_name)\n",
    "print(\"Most popular girl's name in Texas in 2012:\", most_popular_girls_name)"
   ]
  },
  {
   "cell_type": "markdown",
   "metadata": {},
   "source": [
    "### Q8. Let's see how popular your name is in the US.\n",
    "\n",
    "### How many babies in this dataset have the same first name as you?"
   ]
  },
  {
   "cell_type": "code",
   "execution_count": 169,
   "metadata": {},
   "outputs": [
    {
     "name": "stdout",
     "output_type": "stream",
     "text": [
      "Number of babies named Anindita in the dataset: 0\n"
     ]
    }
   ],
   "source": [
    "# Filter the dataset for the name 'Anindita'\n",
    "anindita_count = baby[baby['Name'] == 'Anindita']['Count'].sum()\n",
    "\n",
    "# Babies with the same name as me \n",
    "print(\"Number of babies named Anindita in the dataset:\", anindita_count)\n",
    "\n",
    "# I'm unique~ Only one of me here"
   ]
  },
  {
   "cell_type": "markdown",
   "metadata": {},
   "source": [
    "### Q9. What are the top five states that had the most `percentage` increase in newborns between 2004 and 2014\n",
    "### How about the bottom five states with the lowest `percentage` increase during the same period?\n",
    "\n",
    "\n",
    "### *What are the top five states that had the highest increase in newborns between 2004 and 2014?\n",
    "### *And what are the bottom five states with the lowest increase during the same period?"
   ]
  },
  {
   "cell_type": "code",
   "execution_count": 170,
   "metadata": {},
   "outputs": [
    {
     "name": "stdout",
     "output_type": "stream",
     "text": [
      "Top five states with the most percentage increase:\n"
     ]
    },
    {
     "data": {
      "text/html": [
       "<div>\n",
       "<style scoped>\n",
       "    .dataframe tbody tr th:only-of-type {\n",
       "        vertical-align: middle;\n",
       "    }\n",
       "\n",
       "    .dataframe tbody tr th {\n",
       "        vertical-align: top;\n",
       "    }\n",
       "\n",
       "    .dataframe thead th {\n",
       "        text-align: right;\n",
       "    }\n",
       "</style>\n",
       "<table border=\"1\" class=\"dataframe\">\n",
       "  <thead>\n",
       "    <tr style=\"text-align: right;\">\n",
       "      <th>Year</th>\n",
       "      <th>2004</th>\n",
       "      <th>2005</th>\n",
       "      <th>2006</th>\n",
       "      <th>2007</th>\n",
       "      <th>2008</th>\n",
       "      <th>2009</th>\n",
       "      <th>2010</th>\n",
       "      <th>2011</th>\n",
       "      <th>2012</th>\n",
       "      <th>2013</th>\n",
       "      <th>2014</th>\n",
       "      <th>Percentage Increase</th>\n",
       "    </tr>\n",
       "    <tr>\n",
       "      <th>State</th>\n",
       "      <th></th>\n",
       "      <th></th>\n",
       "      <th></th>\n",
       "      <th></th>\n",
       "      <th></th>\n",
       "      <th></th>\n",
       "      <th></th>\n",
       "      <th></th>\n",
       "      <th></th>\n",
       "      <th></th>\n",
       "      <th></th>\n",
       "      <th></th>\n",
       "    </tr>\n",
       "  </thead>\n",
       "  <tbody>\n",
       "    <tr>\n",
       "      <th>ND</th>\n",
       "      <td>5841</td>\n",
       "      <td>5936</td>\n",
       "      <td>5988</td>\n",
       "      <td>6109</td>\n",
       "      <td>6178</td>\n",
       "      <td>5950</td>\n",
       "      <td>6216</td>\n",
       "      <td>6236</td>\n",
       "      <td>6623</td>\n",
       "      <td>6992</td>\n",
       "      <td>7492</td>\n",
       "      <td>28.265708</td>\n",
       "    </tr>\n",
       "    <tr>\n",
       "      <th>AK</th>\n",
       "      <td>5588</td>\n",
       "      <td>5614</td>\n",
       "      <td>5719</td>\n",
       "      <td>5779</td>\n",
       "      <td>5931</td>\n",
       "      <td>5796</td>\n",
       "      <td>5832</td>\n",
       "      <td>5912</td>\n",
       "      <td>5631</td>\n",
       "      <td>5892</td>\n",
       "      <td>5955</td>\n",
       "      <td>6.567645</td>\n",
       "    </tr>\n",
       "    <tr>\n",
       "      <th>WA</th>\n",
       "      <td>63237</td>\n",
       "      <td>64022</td>\n",
       "      <td>66909</td>\n",
       "      <td>68368</td>\n",
       "      <td>69271</td>\n",
       "      <td>68223</td>\n",
       "      <td>65794</td>\n",
       "      <td>65973</td>\n",
       "      <td>66162</td>\n",
       "      <td>65201</td>\n",
       "      <td>67161</td>\n",
       "      <td>6.205228</td>\n",
       "    </tr>\n",
       "    <tr>\n",
       "      <th>TX</th>\n",
       "      <td>338179</td>\n",
       "      <td>341364</td>\n",
       "      <td>352121</td>\n",
       "      <td>359048</td>\n",
       "      <td>356351</td>\n",
       "      <td>352470</td>\n",
       "      <td>337544</td>\n",
       "      <td>329998</td>\n",
       "      <td>334705</td>\n",
       "      <td>339517</td>\n",
       "      <td>350378</td>\n",
       "      <td>3.607261</td>\n",
       "    </tr>\n",
       "    <tr>\n",
       "      <th>SC</th>\n",
       "      <td>38062</td>\n",
       "      <td>38604</td>\n",
       "      <td>41559</td>\n",
       "      <td>41846</td>\n",
       "      <td>42124</td>\n",
       "      <td>40179</td>\n",
       "      <td>38613</td>\n",
       "      <td>38398</td>\n",
       "      <td>38183</td>\n",
       "      <td>38533</td>\n",
       "      <td>39258</td>\n",
       "      <td>3.142242</td>\n",
       "    </tr>\n",
       "  </tbody>\n",
       "</table>\n",
       "</div>"
      ],
      "text/plain": [
       "Year     2004    2005    2006    2007    2008    2009    2010    2011    2012  \\\n",
       "State                                                                           \n",
       "ND       5841    5936    5988    6109    6178    5950    6216    6236    6623   \n",
       "AK       5588    5614    5719    5779    5931    5796    5832    5912    5631   \n",
       "WA      63237   64022   66909   68368   69271   68223   65794   65973   66162   \n",
       "TX     338179  341364  352121  359048  356351  352470  337544  329998  334705   \n",
       "SC      38062   38604   41559   41846   42124   40179   38613   38398   38183   \n",
       "\n",
       "Year     2013    2014  Percentage Increase  \n",
       "State                                       \n",
       "ND       6992    7492            28.265708  \n",
       "AK       5892    5955             6.567645  \n",
       "WA      65201   67161             6.205228  \n",
       "TX     339517  350378             3.607261  \n",
       "SC      38533   39258             3.142242  "
      ]
     },
     "execution_count": 170,
     "metadata": {},
     "output_type": "execute_result"
    }
   ],
   "source": [
    "# Filter the dataset to include only the years from 2004 to 2014\n",
    "filtered_year = babyname[(babyname['Year'] >= 2004) & (babyname['Year'] <= 2014)]\n",
    "\n",
    "# Group by state and sum the number of babies born in 2004 and 2014\n",
    "state_births = filtered_year.groupby(['State', 'Year'])['Count'].sum().unstack()\n",
    "\n",
    "# Calculate the percentage increase in newborns for each state\n",
    "state_births['Percentage Increase'] = ((state_births[2014] - state_births[2004]) / state_births[2004]) * 100\n",
    "\n",
    "# Sort states based on percentage increase\n",
    "sorted_states = state_births.sort_values(by='Percentage Increase', ascending=False)\n",
    "\n",
    "# Get the top five states with the most percentage increase\n",
    "top_five_states = sorted_states.head(5)\n",
    "\n",
    "# Get the bottom five states with the lowest percentage increase\n",
    "bottom_five_states = sorted_states.tail(5)\n",
    "\n",
    "print(\"Top five states with the most percentage increase:\") \n",
    "top_five_states\n"
   ]
  },
  {
   "cell_type": "code",
   "execution_count": 171,
   "metadata": {},
   "outputs": [
    {
     "name": "stdout",
     "output_type": "stream",
     "text": [
      "\n",
      "Bottom five states with the lowest percentage increase:\n"
     ]
    },
    {
     "data": {
      "text/html": [
       "<div>\n",
       "<style scoped>\n",
       "    .dataframe tbody tr th:only-of-type {\n",
       "        vertical-align: middle;\n",
       "    }\n",
       "\n",
       "    .dataframe tbody tr th {\n",
       "        vertical-align: top;\n",
       "    }\n",
       "\n",
       "    .dataframe thead th {\n",
       "        text-align: right;\n",
       "    }\n",
       "</style>\n",
       "<table border=\"1\" class=\"dataframe\">\n",
       "  <thead>\n",
       "    <tr style=\"text-align: right;\">\n",
       "      <th>Year</th>\n",
       "      <th>2004</th>\n",
       "      <th>2005</th>\n",
       "      <th>2006</th>\n",
       "      <th>2007</th>\n",
       "      <th>2008</th>\n",
       "      <th>2009</th>\n",
       "      <th>2010</th>\n",
       "      <th>2011</th>\n",
       "      <th>2012</th>\n",
       "      <th>2013</th>\n",
       "      <th>2014</th>\n",
       "      <th>Percentage Increase</th>\n",
       "    </tr>\n",
       "    <tr>\n",
       "      <th>State</th>\n",
       "      <th></th>\n",
       "      <th></th>\n",
       "      <th></th>\n",
       "      <th></th>\n",
       "      <th></th>\n",
       "      <th></th>\n",
       "      <th></th>\n",
       "      <th></th>\n",
       "      <th></th>\n",
       "      <th></th>\n",
       "      <th></th>\n",
       "      <th></th>\n",
       "    </tr>\n",
       "  </thead>\n",
       "  <tbody>\n",
       "    <tr>\n",
       "      <th>NM</th>\n",
       "      <td>19000</td>\n",
       "      <td>19207</td>\n",
       "      <td>19761</td>\n",
       "      <td>19964</td>\n",
       "      <td>19612</td>\n",
       "      <td>18556</td>\n",
       "      <td>17425</td>\n",
       "      <td>16800</td>\n",
       "      <td>16710</td>\n",
       "      <td>15885</td>\n",
       "      <td>15737</td>\n",
       "      <td>-17.173684</td>\n",
       "    </tr>\n",
       "    <tr>\n",
       "      <th>ME</th>\n",
       "      <td>10029</td>\n",
       "      <td>9951</td>\n",
       "      <td>9777</td>\n",
       "      <td>9767</td>\n",
       "      <td>9207</td>\n",
       "      <td>8963</td>\n",
       "      <td>8577</td>\n",
       "      <td>8400</td>\n",
       "      <td>8364</td>\n",
       "      <td>8188</td>\n",
       "      <td>8145</td>\n",
       "      <td>-18.785522</td>\n",
       "    </tr>\n",
       "    <tr>\n",
       "      <th>NH</th>\n",
       "      <td>10315</td>\n",
       "      <td>10011</td>\n",
       "      <td>9954</td>\n",
       "      <td>9758</td>\n",
       "      <td>9514</td>\n",
       "      <td>9019</td>\n",
       "      <td>8895</td>\n",
       "      <td>8818</td>\n",
       "      <td>8403</td>\n",
       "      <td>8581</td>\n",
       "      <td>8279</td>\n",
       "      <td>-19.738245</td>\n",
       "    </tr>\n",
       "    <tr>\n",
       "      <th>VT</th>\n",
       "      <td>3854</td>\n",
       "      <td>3772</td>\n",
       "      <td>3562</td>\n",
       "      <td>3573</td>\n",
       "      <td>3338</td>\n",
       "      <td>3184</td>\n",
       "      <td>3089</td>\n",
       "      <td>3024</td>\n",
       "      <td>2934</td>\n",
       "      <td>3042</td>\n",
       "      <td>3060</td>\n",
       "      <td>-20.601972</td>\n",
       "    </tr>\n",
       "    <tr>\n",
       "      <th>RI</th>\n",
       "      <td>8968</td>\n",
       "      <td>8699</td>\n",
       "      <td>8371</td>\n",
       "      <td>8217</td>\n",
       "      <td>7730</td>\n",
       "      <td>7275</td>\n",
       "      <td>7011</td>\n",
       "      <td>6926</td>\n",
       "      <td>6883</td>\n",
       "      <td>6735</td>\n",
       "      <td>6684</td>\n",
       "      <td>-25.468332</td>\n",
       "    </tr>\n",
       "  </tbody>\n",
       "</table>\n",
       "</div>"
      ],
      "text/plain": [
       "Year    2004   2005   2006   2007   2008   2009   2010   2011   2012   2013  \\\n",
       "State                                                                         \n",
       "NM     19000  19207  19761  19964  19612  18556  17425  16800  16710  15885   \n",
       "ME     10029   9951   9777   9767   9207   8963   8577   8400   8364   8188   \n",
       "NH     10315  10011   9954   9758   9514   9019   8895   8818   8403   8581   \n",
       "VT      3854   3772   3562   3573   3338   3184   3089   3024   2934   3042   \n",
       "RI      8968   8699   8371   8217   7730   7275   7011   6926   6883   6735   \n",
       "\n",
       "Year    2014  Percentage Increase  \n",
       "State                              \n",
       "NM     15737           -17.173684  \n",
       "ME      8145           -18.785522  \n",
       "NH      8279           -19.738245  \n",
       "VT      3060           -20.601972  \n",
       "RI      6684           -25.468332  "
      ]
     },
     "execution_count": 171,
     "metadata": {},
     "output_type": "execute_result"
    }
   ],
   "source": [
    "print(\"\\nBottom five states with the lowest percentage increase:\")\n",
    "bottom_five_states"
   ]
  },
  {
   "cell_type": "markdown",
   "metadata": {},
   "source": [
    "### Q10: Popularity of the gender-neutral names: How many names are commonly used for both boys and girls? "
   ]
  },
  {
   "cell_type": "code",
   "execution_count": 172,
   "metadata": {},
   "outputs": [
    {
     "name": "stdout",
     "output_type": "stream",
     "text": [
      "Number of names commonly used for both boys and girls: 1309\n"
     ]
    }
   ],
   "source": [
    "# Group by name and gender, and sum the number of babies born with each name for each gender\n",
    "name_counts = df.groupby(['Name', 'Gender'])['Count'].sum().unstack()\n",
    "\n",
    "# Filter out names where both genders have non-zero counts\n",
    "gender_neutral_names = name_counts[(name_counts['M'] > 0) & (name_counts['F'] > 0)]\n",
    "\n",
    "# Count the number of gender-neutral names\n",
    "num_gender_neutral_names = len(gender_neutral_names)\n",
    "\n",
    "print(\"Number of names commonly used for both boys and girls:\", num_gender_neutral_names)"
   ]
  },
  {
   "cell_type": "markdown",
   "metadata": {},
   "source": [
    "### Q11: What are the popular gender-neutral names? \n",
    "### Considering a name \"popular\", if it ranks among the top 200 for both genders within this period.\n",
    "\n",
    "### For each identified name, provide the ranking for both genders. For example, \"Riley: No. 47 for girls, No. 114 for boys)\""
   ]
  },
  {
   "cell_type": "code",
   "execution_count": 173,
   "metadata": {},
   "outputs": [
    {
     "name": "stdout",
     "output_type": "stream",
     "text": [
      "Jacob: No. 120 for girls, No. 1 for boys\n",
      "Emma: No. 1 for girls, No. 136 for boys\n",
      "Michael: No. 119 for girls, No. 2 for boys\n",
      "Ethan: No. 127 for girls, No. 3 for boys\n",
      "Isabella: No. 2 for girls, No. 142 for boys\n",
      "William: No. 131 for girls, No. 4 for boys\n",
      "Joshua: No. 129 for girls, No. 5 for boys\n",
      "Sophia: No. 3 for girls, No. 160 for boys\n",
      "Daniel: No. 125 for girls, No. 6 for boys\n",
      "Emily: No. 4 for girls, No. 135 for boys\n",
      "Olivia: No. 5 for girls, No. 139 for boys\n",
      "Alexander: No. 124 for girls, No. 7 for boys\n",
      "Matthew: No. 134 for girls, No. 8 for boys\n",
      "Noah: No. 117 for girls, No. 9 for boys\n",
      "Anthony: No. 146 for girls, No. 10 for boys\n",
      "Andrew: No. 136 for girls, No. 11 for boys\n",
      "Christopher: No. 126 for girls, No. 12 for boys\n",
      "Joseph: No. 130 for girls, No. 13 for boys\n",
      "David: No. 149 for girls, No. 14 for boys\n",
      "Ava: No. 6 for girls, No. 144 for boys\n",
      "Madison: No. 7 for girls, No. 131 for boys\n",
      "Jayden: No. 87 for girls, No. 16 for boys\n",
      "James: No. 132 for girls, No. 15 for boys\n",
      "Logan: No. 90 for girls, No. 17 for boys\n",
      "Ryan: No. 92 for girls, No. 18 for boys\n",
      "Abigail: No. 8 for girls, No. 140 for boys\n",
      "Mason: No. 114 for girls, No. 19 for boys\n",
      "Benjamin: No. 141 for girls, No. 20 for boys\n",
      "Aiden: No. 110 for girls, No. 21 for boys\n",
      "Elijah: No. 133 for girls, No. 22 for boys\n",
      "John: No. 139 for girls, No. 23 for boys\n",
      "Samuel: No. 151 for girls, No. 24 for boys\n",
      "Gabriel: No. 107 for girls, No. 25 for boys\n",
      "Dylan: No. 93 for girls, No. 30 for boys\n",
      "Nathan: No. 153 for girls, No. 26 for boys\n",
      "Christian: No. 99 for girls, No. 27 for boys\n",
      "Tyler: No. 95 for girls, No. 31 for boys\n",
      "Nicholas: No. 143 for girls, No. 28 for boys\n",
      "Jonathan: No. 138 for girls, No. 29 for boys\n",
      "Jackson: No. 145 for girls, No. 32 for boys\n",
      "Elizabeth: No. 9 for girls, No. 141 for boys\n",
      "Mia: No. 10 for girls, No. 179 for boys\n",
      "Jordan: No. 84 for girls, No. 47 for boys\n",
      "Alexis: No. 17 for girls, No. 120 for boys\n",
      "Angel: No. 85 for girls, No. 42 for boys\n",
      "Caleb: No. 152 for girls, No. 33 for boys\n",
      "Chloe: No. 11 for girls, No. 143 for boys\n",
      "Hannah: No. 12 for girls, No. 137 for boys\n",
      "Liam: No. 189 for girls, No. 34 for boys\n",
      "Brandon: No. 157 for girls, No. 35 for boys\n",
      "Samantha: No. 13 for girls, No. 157 for boys\n",
      "Isaac: No. 164 for girls, No. 36 for boys\n",
      "Lucas: No. 161 for girls, No. 37 for boys\n",
      "Luke: No. 165 for girls, No. 38 for boys\n",
      "Gavin: No. 160 for girls, No. 39 for boys\n",
      "Jack: No. 170 for girls, No. 40 for boys\n",
      "Evan: No. 111 for girls, No. 41 for boys\n",
      "Natalie: No. 14 for girls, No. 157 for boys\n",
      "Ella: No. 15 for girls, No. 175 for boys\n",
      "Grace: No. 16 for girls, No. 147 for boys\n",
      "Isaiah: No. 155 for girls, No. 43 for boys\n",
      "Jose: No. 142 for girls, No. 44 for boys\n",
      "Landon: No. 165 for girls, No. 45 for boys\n",
      "Cameron: No. 88 for girls, No. 57 for boys\n",
      "Riley: No. 44 for girls, No. 111 for boys\n",
      "Zachary: No. 144 for girls, No. 46 for boys\n",
      "Kevin: No. 148 for girls, No. 48 for boys\n",
      "Ashley: No. 18 for girls, No. 132 for boys\n",
      "Hunter: No. 98 for girls, No. 50 for boys\n",
      "Avery: No. 29 for girls, No. 121 for boys\n",
      "Robert: No. 171 for girls, No. 49 for boys\n",
      "Addison: No. 20 for girls, No. 127 for boys\n",
      "Justin: No. 155 for girls, No. 51 for boys\n",
      "Austin: No. 115 for girls, No. 54 for boys\n",
      "Thomas: No. 169 for girls, No. 52 for boys\n",
      "Owen: No. 193 for girls, No. 53 for boys\n",
      "Connor: No. 159 for girls, No. 55 for boys\n",
      "Sarah: No. 19 for girls, No. 149 for boys\n",
      "Alyssa: No. 21 for girls, No. 149 for boys\n",
      "Aaron: No. 147 for girls, No. 56 for boys\n",
      "Taylor: No. 27 for girls, No. 122 for boys\n",
      "Carter: No. 102 for girls, No. 58 for boys\n",
      "Charles: No. 153 for girls, No. 59 for boys\n",
      "Brayden: No. 128 for girls, No. 60 for boys\n",
      "Victoria: No. 22 for girls, No. 152 for boys\n",
      "Lily: No. 23 for girls, No. 183 for boys\n",
      "Adrian: No. 104 for girls, No. 61 for boys\n",
      "Hailey: No. 24 for girls, No. 159 for boys\n",
      "Wyatt: No. 196 for girls, No. 62 for boys\n",
      "Julian: No. 123 for girls, No. 63 for boys\n",
      "Anna: No. 25 for girls, No. 153 for boys\n",
      "Jason: No. 171 for girls, No. 64 for boys\n",
      "Brianna: No. 26 for girls, No. 145 for boys\n",
      "Jeremiah: No. 168 for girls, No. 65 for boys\n",
      "Sofia: No. 28 for girls, No. 199 for boys\n",
      "Lillian: No. 30 for girls, No. 166 for boys\n",
      "Peyton: No. 69 for girls, No. 119 for boys\n",
      "Sebastian: No. 171 for girls, No. 66 for boys\n",
      "Hayden: No. 86 for girls, No. 87 for boys\n",
      "Henry: No. 197 for girls, No. 67 for boys\n",
      "Aidan: No. 112 for girls, No. 68 for boys\n",
      "Juan: No. 157 for girls, No. 69 for boys\n",
      "Chase: No. 108 for girls, No. 71 for boys\n",
      "Kayla: No. 31 for girls, No. 155 for boys\n",
      "Luis: No. 186 for girls, No. 70 for boys\n",
      "Adam: No. 163 for girls, No. 72 for boys\n",
      "Lauren: No. 32 for girls, No. 149 for boys\n",
      "Ian: No. 184 for girls, No. 73 for boys\n",
      "Savannah: No. 33 for girls, No. 153 for boys\n",
      "Kaylee: No. 34 for girls, No. 145 for boys\n",
      "Allison: No. 35 for girls, No. 166 for boys\n",
      "Brooklyn: No. 36 for girls, No. 129 for boys\n",
      "Xavier: No. 189 for girls, No. 74 for boys\n",
      "Zoe: No. 37 for girls, No. 175 for boys\n",
      "Nathaniel: No. 165 for girls, No. 75 for boys\n",
      "Leah: No. 38 for girls, No. 189 for boys\n",
      "Dominic: No. 161 for girls, No. 76 for boys\n",
      "Aubrey: No. 41 for girls, No. 128 for boys\n",
      "Amelia: No. 39 for girls, No. 183 for boys\n",
      "Morgan: No. 49 for girls, No. 124 for boys\n",
      "Nevaeh: No. 40 for girls, No. 147 for boys\n",
      "Diego: No. 181 for girls, No. 77 for boys\n",
      "Jasmine: No. 42 for girls, No. 164 for boys\n",
      "Julia: No. 43 for girls, No. 186 for boys\n",
      "Eli: No. 140 for girls, No. 78 for boys\n",
      "Blake: No. 96 for girls, No. 81 for boys\n",
      "Parker: No. 89 for girls, No. 95 for boys\n",
      "Alex: No. 103 for girls, No. 82 for boys\n",
      "Carlos: No. 186 for girls, No. 79 for boys\n",
      "Sydney: No. 45 for girls, No. 130 for boys\n",
      "Jesus: No. 149 for girls, No. 80 for boys\n",
      "Levi: No. 135 for girls, No. 83 for boys\n",
      "Audrey: No. 46 for girls, No. 179 for boys\n",
      "Katherine: No. 47 for girls, No. 166 for boys\n",
      "Carson: No. 101 for girls, No. 85 for boys\n",
      "Eric: No. 182 for girls, No. 84 for boys\n",
      "Alexa: No. 48 for girls, No. 179 for boys\n",
      "Jaden: No. 91 for girls, No. 98 for boys\n",
      "Makayla: No. 50 for girls, No. 166 for boys\n",
      "Ayden: No. 105 for girls, No. 90 for boys\n",
      "Layla: No. 51 for girls, No. 189 for boys\n",
      "Cole: No. 189 for girls, No. 86 for boys\n",
      "Bryan: No. 174 for girls, No. 88 for boys\n",
      "Josiah: No. 197 for girls, No. 89 for boys\n",
      "Brian: No. 174 for girls, No. 91 for boys\n",
      "Colton: No. 189 for girls, No. 92 for boys\n",
      "Tristan: No. 106 for girls, No. 93 for boys\n",
      "Alexandra: No. 52 for girls, No. 188 for boys\n",
      "Zoey: No. 53 for girls, No. 194 for boys\n",
      "Cooper: No. 116 for girls, No. 94 for boys\n",
      "Kylie: No. 54 for girls, No. 156 for boys\n",
      "Jessica: No. 55 for girls, No. 173 for boys\n",
      "Kyle: No. 122 for girls, No. 96 for boys\n",
      "Sean: No. 174 for girls, No. 97 for boys\n",
      "Destiny: No. 56 for girls, No. 170 for boys\n",
      "Claire: No. 57 for girls, No. 186 for boys\n",
      "Mackenzie: No. 58 for girls, No. 134 for boys\n",
      "Aaliyah: No. 59 for girls, No. 198 for boys\n",
      "Brooke: No. 60 for girls, No. 189 for boys\n",
      "Kaitlyn: No. 61 for girls, No. 160 for boys\n",
      "Maria: No. 62 for girls, No. 173 for boys\n",
      "Brody: No. 197 for girls, No. 99 for boys\n",
      "Kimberly: No. 63 for girls, No. 170 for boys\n",
      "Faith: No. 64 for girls, No. 177 for boys\n",
      "Trinity: No. 65 for girls, No. 133 for boys\n",
      "Madeline: No. 66 for girls, No. 179 for boys\n",
      "Ariana: No. 67 for girls, No. 196 for boys\n",
      "Rachel: No. 68 for girls, No. 160 for boys\n",
      "Steven: No. 174 for girls, No. 100 for boys\n",
      "Andrea: No. 70 for girls, No. 138 for boys\n",
      "Timothy: No. 174 for girls, No. 101 for boys\n",
      "Antonio: No. 195 for girls, No. 102 for boys\n",
      "Miguel: No. 197 for girls, No. 103 for boys\n",
      "Jaxon: No. 179 for girls, No. 104 for boys\n",
      "Angelina: No. 71 for girls, No. 199 for boys\n",
      "Kaden: No. 118 for girls, No. 105 for boys\n",
      "Autumn: No. 72 for girls, No. 163 for boys\n",
      "Richard: No. 180 for girls, No. 106 for boys\n",
      "Caroline: No. 73 for girls, No. 189 for boys\n",
      "Payton: No. 83 for girls, No. 123 for boys\n",
      "Caden: No. 120 for girls, No. 107 for boys\n",
      "Madelyn: No. 74 for girls, No. 189 for boys\n",
      "Ashton: No. 97 for girls, No. 113 for boys\n",
      "Bryce: No. 112 for girls, No. 110 for boys\n",
      "Colin: No. 182 for girls, No. 108 for boys\n",
      "Jesse: No. 109 for girls, No. 112 for boys\n",
      "Nolan: No. 193 for girls, No. 109 for boys\n",
      "Micah: No. 94 for girls, No. 118 for boys\n",
      "Harper: No. 81 for girls, No. 125 for boys\n",
      "Melanie: No. 75 for girls, No. 196 for boys\n",
      "Bailey: No. 82 for girls, No. 126 for boys\n",
      "Paige: No. 76 for girls, No. 177 for boys\n",
      "Jennifer: No. 77 for girls, No. 183 for boys\n",
      "Katelyn: No. 78 for girls, No. 164 for boys\n",
      "Nicole: No. 79 for girls, No. 194 for boys\n",
      "Gabrielle: No. 80 for girls, No. 170 for boys\n",
      "Devin: No. 100 for girls, No. 117 for boys\n",
      "Brady: No. 137 for girls, No. 114 for boys\n",
      "Jake: No. 184 for girls, No. 115 for boys\n",
      "Kaleb: No. 186 for girls, No. 116 for boys\n"
     ]
    }
   ],
   "source": [
    "# Group by name and gender, and sum the number of babies born with each name for each gender\n",
    "name_counts = baby.groupby(['Name', 'Gender'])['Count'].sum().unstack()\n",
    "\n",
    "# Fill NaN values with 0\n",
    "name_counts.fillna(0, inplace=True)\n",
    "\n",
    "# Calculate the total count for each name (sum of counts for both genders)\n",
    "name_counts['Total'] = name_counts['F'] + name_counts['M']\n",
    "\n",
    "# Filter out names where both genders have non-zero counts (gender-neutral names)\n",
    "gender_neutral_names = name_counts[(name_counts['M'] > 0) & (name_counts['F'] > 0)]\n",
    "\n",
    "# Determine popular gender-neutral names (among top 200 for both genders)\n",
    "popular_gender_neutral_names = gender_neutral_names.nlargest(200, columns=['Total'])\n",
    "\n",
    "# Sort the names based on the 'Total' count\n",
    "sorted_names = popular_gender_neutral_names.sort_values(by='Total', ascending=False)\n",
    "\n",
    "# Assign rankings for each popular gender-neutral name\n",
    "sorted_names['Rank_Girls'] = sorted_names['F'].rank(method='min', ascending=False)\n",
    "sorted_names['Rank_Boys'] = sorted_names['M'].rank(method='min', ascending=False)\n",
    "\n",
    "# Print the ranking for each popular gender-neutral name\n",
    "for name, row in sorted_names.iterrows():\n",
    "    rank_f = int(row['Rank_Girls'])\n",
    "    rank_m = int(row['Rank_Boys'])\n",
    "    print(f\"{name}: No. {rank_f} for girls, No. {rank_m} for boys\")"
   ]
  },
  {
   "cell_type": "markdown",
   "metadata": {},
   "source": [
    "## Part 2: The PIMA Diabetic Data Set (55 Points)\n",
    "\n",
    "This dataset is originally from the National Institute of Diabetes and Digestive and Kidney Diseases. It consists of several diagnostic measurements from female patients at least 21 years old of Pima Indian heritage. It also shows the diagnosis on whether the patients have diabetes mellitus disease.\n",
    "\n",
    "### The filename of the dataset is \"diabetes.csv\" that comes with this assignment.\n",
    "\n",
    "The dataset contains the following features/columns:\n",
    "\n",
    " * __Pregnancies__: Number of times pregnant\n",
    " * __Glucose__: Plasma glucose concentration at 2 hour in an oral glucose tolerance test (mg/dL)\n",
    " * __BloodPressure__: Diastolic blood pressure (mm Hg)\n",
    " * __SkinThickness__: Triceps skin fold thickness (mm)\n",
    " * __Insulin__: 2-hour serum insulin level (mu U/ml)\n",
    " * __BMI__: Body mass index (weight in kg/(height in m)^2)\n",
    " * __DiabetesPedigreeFunction__: a function which scores likelihood of diabetes based on family history\n",
    " * __Age__: age of patients (years)\n",
    " * __Outcome__: class variable 0 or 1 indicating disease (0: non-diabetic, 1: diabetic)\n"
   ]
  },
  {
   "cell_type": "markdown",
   "metadata": {},
   "source": [
    "## Part 2.1: Data Preparation and Cleaning (10 points)\n",
    "\n",
    "#### Some typical tasks in this part include:\n",
    "     1. Load the dataset in a data frame\n",
    "     2. Examine the dataset attributes: index, columns, range of values etc.\n",
    "     3. Handle missing and invalid data\n",
    "     4. Identify and remove outliers"
   ]
  },
  {
   "cell_type": "markdown",
   "metadata": {},
   "source": [
    "### Examine the dataset¶\n",
    "**Q1: Load the dataset in a data frame and show the dataset attributes: index, columns, range of values etc.**"
   ]
  },
  {
   "cell_type": "code",
   "execution_count": 174,
   "metadata": {},
   "outputs": [
    {
     "name": "stdout",
     "output_type": "stream",
     "text": [
      "Dataset Info:\n",
      "<class 'pandas.core.frame.DataFrame'>\n",
      "RangeIndex: 768 entries, 0 to 767\n",
      "Data columns (total 9 columns):\n",
      " #   Column                    Non-Null Count  Dtype  \n",
      "---  ------                    --------------  -----  \n",
      " 0   Pregnancies               768 non-null    int64  \n",
      " 1   Glucose                   768 non-null    int64  \n",
      " 2   BloodPressure             768 non-null    int64  \n",
      " 3   SkinThickness             768 non-null    int64  \n",
      " 4   Insulin                   768 non-null    int64  \n",
      " 5   BMI                       768 non-null    float64\n",
      " 6   DiabetesPedigreeFunction  768 non-null    float64\n",
      " 7   Age                       768 non-null    int64  \n",
      " 8   Outcome                   768 non-null    int64  \n",
      "dtypes: float64(2), int64(7)\n",
      "memory usage: 54.1 KB\n"
     ]
    }
   ],
   "source": [
    "# Load the dataset from the CSV file\n",
    "diabetes = pd.read_csv(\"diabetes.csv\")\n",
    "\n",
    "# Display the dataset attributes\n",
    "print(\"Dataset Info:\")\n",
    "diabetes.info()  # Display basic information about the DataFrame"
   ]
  },
  {
   "cell_type": "code",
   "execution_count": 175,
   "metadata": {},
   "outputs": [
    {
     "name": "stdout",
     "output_type": "stream",
     "text": [
      "\n",
      "Dataset Shape:\n",
      "(768, 9)\n"
     ]
    }
   ],
   "source": [
    "print(\"\\nDataset Shape:\")\n",
    "print(diabetes.shape)  # Display the shape of the DataFrame (number of rows, number of columns)"
   ]
  },
  {
   "cell_type": "code",
   "execution_count": 176,
   "metadata": {},
   "outputs": [
    {
     "name": "stdout",
     "output_type": "stream",
     "text": [
      "\n",
      "Dataset Columns:\n",
      "Index(['Pregnancies', 'Glucose', 'BloodPressure', 'SkinThickness', 'Insulin',\n",
      "       'BMI', 'DiabetesPedigreeFunction', 'Age', 'Outcome'],\n",
      "      dtype='object')\n"
     ]
    }
   ],
   "source": [
    "print(\"\\nDataset Columns:\")\n",
    "print(diabetes.columns)  # Display the column names of the DataFrame"
   ]
  },
  {
   "cell_type": "code",
   "execution_count": 177,
   "metadata": {},
   "outputs": [
    {
     "name": "stdout",
     "output_type": "stream",
     "text": [
      "\n",
      "Dataset Index:\n",
      "RangeIndex(start=0, stop=768, step=1)\n"
     ]
    }
   ],
   "source": [
    "print(\"\\nDataset Index:\")\n",
    "print(diabetes.index)  # Display the index of the DataFrame"
   ]
  },
  {
   "cell_type": "code",
   "execution_count": 178,
   "metadata": {},
   "outputs": [
    {
     "name": "stdout",
     "output_type": "stream",
     "text": [
      "\n",
      "Dataset Head:\n"
     ]
    },
    {
     "data": {
      "text/html": [
       "<div>\n",
       "<style scoped>\n",
       "    .dataframe tbody tr th:only-of-type {\n",
       "        vertical-align: middle;\n",
       "    }\n",
       "\n",
       "    .dataframe tbody tr th {\n",
       "        vertical-align: top;\n",
       "    }\n",
       "\n",
       "    .dataframe thead th {\n",
       "        text-align: right;\n",
       "    }\n",
       "</style>\n",
       "<table border=\"1\" class=\"dataframe\">\n",
       "  <thead>\n",
       "    <tr style=\"text-align: right;\">\n",
       "      <th></th>\n",
       "      <th>Pregnancies</th>\n",
       "      <th>Glucose</th>\n",
       "      <th>BloodPressure</th>\n",
       "      <th>SkinThickness</th>\n",
       "      <th>Insulin</th>\n",
       "      <th>BMI</th>\n",
       "      <th>DiabetesPedigreeFunction</th>\n",
       "      <th>Age</th>\n",
       "      <th>Outcome</th>\n",
       "    </tr>\n",
       "  </thead>\n",
       "  <tbody>\n",
       "    <tr>\n",
       "      <th>0</th>\n",
       "      <td>6</td>\n",
       "      <td>148</td>\n",
       "      <td>72</td>\n",
       "      <td>35</td>\n",
       "      <td>0</td>\n",
       "      <td>33.6</td>\n",
       "      <td>0.627</td>\n",
       "      <td>50</td>\n",
       "      <td>1</td>\n",
       "    </tr>\n",
       "    <tr>\n",
       "      <th>1</th>\n",
       "      <td>1</td>\n",
       "      <td>85</td>\n",
       "      <td>66</td>\n",
       "      <td>29</td>\n",
       "      <td>0</td>\n",
       "      <td>26.6</td>\n",
       "      <td>0.351</td>\n",
       "      <td>31</td>\n",
       "      <td>0</td>\n",
       "    </tr>\n",
       "    <tr>\n",
       "      <th>2</th>\n",
       "      <td>8</td>\n",
       "      <td>183</td>\n",
       "      <td>64</td>\n",
       "      <td>0</td>\n",
       "      <td>0</td>\n",
       "      <td>23.3</td>\n",
       "      <td>0.672</td>\n",
       "      <td>32</td>\n",
       "      <td>1</td>\n",
       "    </tr>\n",
       "    <tr>\n",
       "      <th>3</th>\n",
       "      <td>1</td>\n",
       "      <td>89</td>\n",
       "      <td>66</td>\n",
       "      <td>23</td>\n",
       "      <td>94</td>\n",
       "      <td>28.1</td>\n",
       "      <td>0.167</td>\n",
       "      <td>21</td>\n",
       "      <td>0</td>\n",
       "    </tr>\n",
       "    <tr>\n",
       "      <th>4</th>\n",
       "      <td>0</td>\n",
       "      <td>137</td>\n",
       "      <td>40</td>\n",
       "      <td>35</td>\n",
       "      <td>168</td>\n",
       "      <td>43.1</td>\n",
       "      <td>2.288</td>\n",
       "      <td>33</td>\n",
       "      <td>1</td>\n",
       "    </tr>\n",
       "  </tbody>\n",
       "</table>\n",
       "</div>"
      ],
      "text/plain": [
       "   Pregnancies  Glucose  BloodPressure  SkinThickness  Insulin   BMI  \\\n",
       "0            6      148             72             35        0  33.6   \n",
       "1            1       85             66             29        0  26.6   \n",
       "2            8      183             64              0        0  23.3   \n",
       "3            1       89             66             23       94  28.1   \n",
       "4            0      137             40             35      168  43.1   \n",
       "\n",
       "   DiabetesPedigreeFunction  Age  Outcome  \n",
       "0                     0.627   50        1  \n",
       "1                     0.351   31        0  \n",
       "2                     0.672   32        1  \n",
       "3                     0.167   21        0  \n",
       "4                     2.288   33        1  "
      ]
     },
     "execution_count": 178,
     "metadata": {},
     "output_type": "execute_result"
    }
   ],
   "source": [
    "print(\"\\nDataset Head:\")\n",
    "diabetes.head()  # Display the first few rows of the DataFrame"
   ]
  },
  {
   "cell_type": "code",
   "execution_count": 179,
   "metadata": {},
   "outputs": [
    {
     "name": "stdout",
     "output_type": "stream",
     "text": [
      "\n",
      "Dataset Describe:\n"
     ]
    },
    {
     "data": {
      "text/html": [
       "<div>\n",
       "<style scoped>\n",
       "    .dataframe tbody tr th:only-of-type {\n",
       "        vertical-align: middle;\n",
       "    }\n",
       "\n",
       "    .dataframe tbody tr th {\n",
       "        vertical-align: top;\n",
       "    }\n",
       "\n",
       "    .dataframe thead th {\n",
       "        text-align: right;\n",
       "    }\n",
       "</style>\n",
       "<table border=\"1\" class=\"dataframe\">\n",
       "  <thead>\n",
       "    <tr style=\"text-align: right;\">\n",
       "      <th></th>\n",
       "      <th>Pregnancies</th>\n",
       "      <th>Glucose</th>\n",
       "      <th>BloodPressure</th>\n",
       "      <th>SkinThickness</th>\n",
       "      <th>Insulin</th>\n",
       "      <th>BMI</th>\n",
       "      <th>DiabetesPedigreeFunction</th>\n",
       "      <th>Age</th>\n",
       "      <th>Outcome</th>\n",
       "    </tr>\n",
       "  </thead>\n",
       "  <tbody>\n",
       "    <tr>\n",
       "      <th>count</th>\n",
       "      <td>768.000000</td>\n",
       "      <td>768.000000</td>\n",
       "      <td>768.000000</td>\n",
       "      <td>768.000000</td>\n",
       "      <td>768.000000</td>\n",
       "      <td>768.000000</td>\n",
       "      <td>768.000000</td>\n",
       "      <td>768.000000</td>\n",
       "      <td>768.000000</td>\n",
       "    </tr>\n",
       "    <tr>\n",
       "      <th>mean</th>\n",
       "      <td>3.845052</td>\n",
       "      <td>120.894531</td>\n",
       "      <td>69.105469</td>\n",
       "      <td>20.536458</td>\n",
       "      <td>79.799479</td>\n",
       "      <td>31.992578</td>\n",
       "      <td>0.471876</td>\n",
       "      <td>33.240885</td>\n",
       "      <td>0.348958</td>\n",
       "    </tr>\n",
       "    <tr>\n",
       "      <th>std</th>\n",
       "      <td>3.369578</td>\n",
       "      <td>31.972618</td>\n",
       "      <td>19.355807</td>\n",
       "      <td>15.952218</td>\n",
       "      <td>115.244002</td>\n",
       "      <td>7.884160</td>\n",
       "      <td>0.331329</td>\n",
       "      <td>11.760232</td>\n",
       "      <td>0.476951</td>\n",
       "    </tr>\n",
       "    <tr>\n",
       "      <th>min</th>\n",
       "      <td>0.000000</td>\n",
       "      <td>0.000000</td>\n",
       "      <td>0.000000</td>\n",
       "      <td>0.000000</td>\n",
       "      <td>0.000000</td>\n",
       "      <td>0.000000</td>\n",
       "      <td>0.078000</td>\n",
       "      <td>21.000000</td>\n",
       "      <td>0.000000</td>\n",
       "    </tr>\n",
       "    <tr>\n",
       "      <th>25%</th>\n",
       "      <td>1.000000</td>\n",
       "      <td>99.000000</td>\n",
       "      <td>62.000000</td>\n",
       "      <td>0.000000</td>\n",
       "      <td>0.000000</td>\n",
       "      <td>27.300000</td>\n",
       "      <td>0.243750</td>\n",
       "      <td>24.000000</td>\n",
       "      <td>0.000000</td>\n",
       "    </tr>\n",
       "    <tr>\n",
       "      <th>50%</th>\n",
       "      <td>3.000000</td>\n",
       "      <td>117.000000</td>\n",
       "      <td>72.000000</td>\n",
       "      <td>23.000000</td>\n",
       "      <td>30.500000</td>\n",
       "      <td>32.000000</td>\n",
       "      <td>0.372500</td>\n",
       "      <td>29.000000</td>\n",
       "      <td>0.000000</td>\n",
       "    </tr>\n",
       "    <tr>\n",
       "      <th>75%</th>\n",
       "      <td>6.000000</td>\n",
       "      <td>140.250000</td>\n",
       "      <td>80.000000</td>\n",
       "      <td>32.000000</td>\n",
       "      <td>127.250000</td>\n",
       "      <td>36.600000</td>\n",
       "      <td>0.626250</td>\n",
       "      <td>41.000000</td>\n",
       "      <td>1.000000</td>\n",
       "    </tr>\n",
       "    <tr>\n",
       "      <th>max</th>\n",
       "      <td>17.000000</td>\n",
       "      <td>199.000000</td>\n",
       "      <td>122.000000</td>\n",
       "      <td>99.000000</td>\n",
       "      <td>846.000000</td>\n",
       "      <td>67.100000</td>\n",
       "      <td>2.420000</td>\n",
       "      <td>81.000000</td>\n",
       "      <td>1.000000</td>\n",
       "    </tr>\n",
       "  </tbody>\n",
       "</table>\n",
       "</div>"
      ],
      "text/plain": [
       "       Pregnancies     Glucose  BloodPressure  SkinThickness     Insulin  \\\n",
       "count   768.000000  768.000000     768.000000     768.000000  768.000000   \n",
       "mean      3.845052  120.894531      69.105469      20.536458   79.799479   \n",
       "std       3.369578   31.972618      19.355807      15.952218  115.244002   \n",
       "min       0.000000    0.000000       0.000000       0.000000    0.000000   \n",
       "25%       1.000000   99.000000      62.000000       0.000000    0.000000   \n",
       "50%       3.000000  117.000000      72.000000      23.000000   30.500000   \n",
       "75%       6.000000  140.250000      80.000000      32.000000  127.250000   \n",
       "max      17.000000  199.000000     122.000000      99.000000  846.000000   \n",
       "\n",
       "              BMI  DiabetesPedigreeFunction         Age     Outcome  \n",
       "count  768.000000                768.000000  768.000000  768.000000  \n",
       "mean    31.992578                  0.471876   33.240885    0.348958  \n",
       "std      7.884160                  0.331329   11.760232    0.476951  \n",
       "min      0.000000                  0.078000   21.000000    0.000000  \n",
       "25%     27.300000                  0.243750   24.000000    0.000000  \n",
       "50%     32.000000                  0.372500   29.000000    0.000000  \n",
       "75%     36.600000                  0.626250   41.000000    1.000000  \n",
       "max     67.100000                  2.420000   81.000000    1.000000  "
      ]
     },
     "execution_count": 179,
     "metadata": {},
     "output_type": "execute_result"
    }
   ],
   "source": [
    "print(\"\\nDataset Describe:\")\n",
    "diabetes.describe()  # Display summary statistics for numerical columns"
   ]
  },
  {
   "cell_type": "markdown",
   "metadata": {},
   "source": [
    "### Handling missing data:\n",
    "   **Q2: Are there missing values in the data set? Write a code to find out.**\n",
    "   \n",
    "   **Q3: You may notice some of the columns have unreasonable zero values (for example, Glucose and BMI). Identify those columns and replace the zeros with the `median value` of that column.**"
   ]
  },
  {
   "cell_type": "markdown",
   "metadata": {},
   "source": [
    "### Missing value analysis"
   ]
  },
  {
   "cell_type": "code",
   "execution_count": 180,
   "metadata": {},
   "outputs": [
    {
     "name": "stdout",
     "output_type": "stream",
     "text": [
      "Missing Values:\n",
      "Pregnancies                 0\n",
      "Glucose                     0\n",
      "BloodPressure               0\n",
      "SkinThickness               0\n",
      "Insulin                     0\n",
      "BMI                         0\n",
      "DiabetesPedigreeFunction    0\n",
      "Age                         0\n",
      "Outcome                     0\n",
      "dtype: int64\n"
     ]
    }
   ],
   "source": [
    "# Check for missing values\n",
    "missing_values = diabetes.isnull().sum()\n",
    "\n",
    "# Display the count of missing values for each column\n",
    "print(\"Missing Values:\")\n",
    "print(missing_values)"
   ]
  },
  {
   "cell_type": "markdown",
   "metadata": {},
   "source": [
    "### Replacing Unreasonable Zeros"
   ]
  },
  {
   "cell_type": "code",
   "execution_count": 181,
   "metadata": {},
   "outputs": [
    {
     "name": "stdout",
     "output_type": "stream",
     "text": [
      "Modified DataFrame:\n"
     ]
    },
    {
     "data": {
      "text/html": [
       "<div>\n",
       "<style scoped>\n",
       "    .dataframe tbody tr th:only-of-type {\n",
       "        vertical-align: middle;\n",
       "    }\n",
       "\n",
       "    .dataframe tbody tr th {\n",
       "        vertical-align: top;\n",
       "    }\n",
       "\n",
       "    .dataframe thead th {\n",
       "        text-align: right;\n",
       "    }\n",
       "</style>\n",
       "<table border=\"1\" class=\"dataframe\">\n",
       "  <thead>\n",
       "    <tr style=\"text-align: right;\">\n",
       "      <th></th>\n",
       "      <th>Pregnancies</th>\n",
       "      <th>Glucose</th>\n",
       "      <th>BloodPressure</th>\n",
       "      <th>SkinThickness</th>\n",
       "      <th>Insulin</th>\n",
       "      <th>BMI</th>\n",
       "      <th>DiabetesPedigreeFunction</th>\n",
       "      <th>Age</th>\n",
       "      <th>Outcome</th>\n",
       "    </tr>\n",
       "  </thead>\n",
       "  <tbody>\n",
       "    <tr>\n",
       "      <th>0</th>\n",
       "      <td>6</td>\n",
       "      <td>148</td>\n",
       "      <td>72</td>\n",
       "      <td>35</td>\n",
       "      <td>0</td>\n",
       "      <td>33.6</td>\n",
       "      <td>0.627</td>\n",
       "      <td>50</td>\n",
       "      <td>1</td>\n",
       "    </tr>\n",
       "    <tr>\n",
       "      <th>1</th>\n",
       "      <td>1</td>\n",
       "      <td>85</td>\n",
       "      <td>66</td>\n",
       "      <td>29</td>\n",
       "      <td>0</td>\n",
       "      <td>26.6</td>\n",
       "      <td>0.351</td>\n",
       "      <td>31</td>\n",
       "      <td>0</td>\n",
       "    </tr>\n",
       "    <tr>\n",
       "      <th>2</th>\n",
       "      <td>8</td>\n",
       "      <td>183</td>\n",
       "      <td>64</td>\n",
       "      <td>0</td>\n",
       "      <td>0</td>\n",
       "      <td>23.3</td>\n",
       "      <td>0.672</td>\n",
       "      <td>32</td>\n",
       "      <td>1</td>\n",
       "    </tr>\n",
       "    <tr>\n",
       "      <th>3</th>\n",
       "      <td>1</td>\n",
       "      <td>89</td>\n",
       "      <td>66</td>\n",
       "      <td>23</td>\n",
       "      <td>94</td>\n",
       "      <td>28.1</td>\n",
       "      <td>0.167</td>\n",
       "      <td>21</td>\n",
       "      <td>0</td>\n",
       "    </tr>\n",
       "    <tr>\n",
       "      <th>4</th>\n",
       "      <td>0</td>\n",
       "      <td>137</td>\n",
       "      <td>40</td>\n",
       "      <td>35</td>\n",
       "      <td>168</td>\n",
       "      <td>43.1</td>\n",
       "      <td>2.288</td>\n",
       "      <td>33</td>\n",
       "      <td>1</td>\n",
       "    </tr>\n",
       "  </tbody>\n",
       "</table>\n",
       "</div>"
      ],
      "text/plain": [
       "   Pregnancies  Glucose  BloodPressure  SkinThickness  Insulin   BMI  \\\n",
       "0            6      148             72             35        0  33.6   \n",
       "1            1       85             66             29        0  26.6   \n",
       "2            8      183             64              0        0  23.3   \n",
       "3            1       89             66             23       94  28.1   \n",
       "4            0      137             40             35      168  43.1   \n",
       "\n",
       "   DiabetesPedigreeFunction  Age  Outcome  \n",
       "0                     0.627   50        1  \n",
       "1                     0.351   31        0  \n",
       "2                     0.672   32        1  \n",
       "3                     0.167   21        0  \n",
       "4                     2.288   33        1  "
      ]
     },
     "execution_count": 181,
     "metadata": {},
     "output_type": "execute_result"
    }
   ],
   "source": [
    "# Identify columns with unreasonable zero values\n",
    "columns_with_zeros = ['Glucose', 'BloodPressure', 'SkinThickness', 'Insulin', 'BMI']\n",
    "\n",
    "# Replace zeros with median value for each column\n",
    "for column in columns_with_zeros:\n",
    "    median_value = diabetes[column].median()\n",
    "    df[column] = diabetes[column].replace(0, median_value)\n",
    "\n",
    "# Display the first few rows of the modified DataFrame\n",
    "print(\"Modified DataFrame:\")\n",
    "diabetes.head()"
   ]
  },
  {
   "cell_type": "markdown",
   "metadata": {},
   "source": [
    "### Handling Outliers:\n",
    "**Q4: Use boxplot to identify outliers for BMI data. Replace the outliers with the median BMI value** "
   ]
  },
  {
   "cell_type": "code",
   "execution_count": 182,
   "metadata": {},
   "outputs": [
    {
     "data": {
      "image/png": "[encoded data removed]",
      "text/plain": [
       "<Figure size 640x480 with 1 Axes>"
      ]
     },
     "metadata": {},
     "output_type": "display_data"
    },
    {
     "name": "stdout",
     "output_type": "stream",
     "text": [
      "Modified DataFrame:\n"
     ]
    },
    {
     "data": {
      "text/html": [
       "<div>\n",
       "<style scoped>\n",
       "    .dataframe tbody tr th:only-of-type {\n",
       "        vertical-align: middle;\n",
       "    }\n",
       "\n",
       "    .dataframe tbody tr th {\n",
       "        vertical-align: top;\n",
       "    }\n",
       "\n",
       "    .dataframe thead th {\n",
       "        text-align: right;\n",
       "    }\n",
       "</style>\n",
       "<table border=\"1\" class=\"dataframe\">\n",
       "  <thead>\n",
       "    <tr style=\"text-align: right;\">\n",
       "      <th></th>\n",
       "      <th>Pregnancies</th>\n",
       "      <th>Glucose</th>\n",
       "      <th>BloodPressure</th>\n",
       "      <th>SkinThickness</th>\n",
       "      <th>Insulin</th>\n",
       "      <th>BMI</th>\n",
       "      <th>DiabetesPedigreeFunction</th>\n",
       "      <th>Age</th>\n",
       "      <th>Outcome</th>\n",
       "    </tr>\n",
       "  </thead>\n",
       "  <tbody>\n",
       "    <tr>\n",
       "      <th>0</th>\n",
       "      <td>6</td>\n",
       "      <td>148</td>\n",
       "      <td>72</td>\n",
       "      <td>35</td>\n",
       "      <td>0</td>\n",
       "      <td>33.6</td>\n",
       "      <td>0.627</td>\n",
       "      <td>50</td>\n",
       "      <td>1</td>\n",
       "    </tr>\n",
       "    <tr>\n",
       "      <th>1</th>\n",
       "      <td>1</td>\n",
       "      <td>85</td>\n",
       "      <td>66</td>\n",
       "      <td>29</td>\n",
       "      <td>0</td>\n",
       "      <td>26.6</td>\n",
       "      <td>0.351</td>\n",
       "      <td>31</td>\n",
       "      <td>0</td>\n",
       "    </tr>\n",
       "    <tr>\n",
       "      <th>2</th>\n",
       "      <td>8</td>\n",
       "      <td>183</td>\n",
       "      <td>64</td>\n",
       "      <td>0</td>\n",
       "      <td>0</td>\n",
       "      <td>23.3</td>\n",
       "      <td>0.672</td>\n",
       "      <td>32</td>\n",
       "      <td>1</td>\n",
       "    </tr>\n",
       "    <tr>\n",
       "      <th>3</th>\n",
       "      <td>1</td>\n",
       "      <td>89</td>\n",
       "      <td>66</td>\n",
       "      <td>23</td>\n",
       "      <td>94</td>\n",
       "      <td>28.1</td>\n",
       "      <td>0.167</td>\n",
       "      <td>21</td>\n",
       "      <td>0</td>\n",
       "    </tr>\n",
       "    <tr>\n",
       "      <th>4</th>\n",
       "      <td>0</td>\n",
       "      <td>137</td>\n",
       "      <td>40</td>\n",
       "      <td>35</td>\n",
       "      <td>168</td>\n",
       "      <td>43.1</td>\n",
       "      <td>2.288</td>\n",
       "      <td>33</td>\n",
       "      <td>1</td>\n",
       "    </tr>\n",
       "  </tbody>\n",
       "</table>\n",
       "</div>"
      ],
      "text/plain": [
       "   Pregnancies  Glucose  BloodPressure  SkinThickness  Insulin   BMI  \\\n",
       "0            6      148             72             35        0  33.6   \n",
       "1            1       85             66             29        0  26.6   \n",
       "2            8      183             64              0        0  23.3   \n",
       "3            1       89             66             23       94  28.1   \n",
       "4            0      137             40             35      168  43.1   \n",
       "\n",
       "   DiabetesPedigreeFunction  Age  Outcome  \n",
       "0                     0.627   50        1  \n",
       "1                     0.351   31        0  \n",
       "2                     0.672   32        1  \n",
       "3                     0.167   21        0  \n",
       "4                     2.288   33        1  "
      ]
     },
     "execution_count": 182,
     "metadata": {},
     "output_type": "execute_result"
    }
   ],
   "source": [
    "# Create a boxplot to visualize the distribution of BMI\n",
    "sns.boxplot(x=diabetes['BMI'])\n",
    "\n",
    "# Display the plot\n",
    "plt.title('Boxplot of BMI')\n",
    "plt.show()\n",
    "\n",
    "# Calculate the median BMI value\n",
    "median_bmi = df['BMI'].median()\n",
    "\n",
    "# Identify outliers using the interquartile range (IQR) method\n",
    "Q1 = diabetes['BMI'].quantile(0.25)\n",
    "Q3 = diabetes['BMI'].quantile(0.75)\n",
    "IQR = Q3 - Q1\n",
    "lower_bound = Q1 - 1.5 * IQR\n",
    "upper_bound = Q3 + 1.5 * IQR\n",
    "\n",
    "# Replace outliers with the median BMI value\n",
    "diabetes.loc[(diabetes['BMI'] < lower_bound) | (diabetes['BMI'] > upper_bound), 'BMI'] = median_bmi\n",
    "\n",
    "# Display the first few rows of the modified DataFrame\n",
    "print(\"Modified DataFrame:\")\n",
    "diabetes.head()"
   ]
  },
  {
   "cell_type": "markdown",
   "metadata": {},
   "source": [
    "## Part 2.2: Exploratory Data Analysis and Visualization (20 points)\n",
    "\n",
    "You are expected to perform some basic __univariate__ and __bivariate__ data analysis and create **3 different charts**:\n",
    "\n",
    "    1. Chart 1: Histograms for Glucose, BMI, and Age.\n",
    "    2. Chart 2: Correlation matrix heatmap.\n",
    "    3. Chart 3: Create your own chart (univariate or bivariate analysis).\n",
    "\n",
    "Please make comments on the insights from the exploratory analysis."
   ]
  },
  {
   "cell_type": "markdown",
   "metadata": {},
   "source": [
    "### Chart 1 - Histograms\n",
    "\n",
    "#### Create histograms for Glucose, BMI, and Age. \n",
    "    For the Age variable, your histogram should categorize individuals into decade-long bins (e.g., 0-9, 10-19, 20-29, etc.)."
   ]
  },
  {
   "cell_type": "code",
   "execution_count": 183,
   "metadata": {},
   "outputs": [
    {
     "data": {
      "image/png": "[encoded data removed]",
      "text/plain": [
       "<Figure size 1800x600 with 3 Axes>"
      ]
     },
     "metadata": {},
     "output_type": "display_data"
    }
   ],
   "source": [
    "# Create histograms for Glucose, BMI, and Age\n",
    "plt.figure(figsize=(18, 6))\n",
    "\n",
    "# Histogram for Glucose\n",
    "plt.subplot(1, 3, 1)\n",
    "plt.hist(diabetes['Glucose'], bins=20, color='darkblue', edgecolor='black')\n",
    "plt.title('Histogram of Glucose')\n",
    "plt.xlabel('Glucose')\n",
    "plt.ylabel('Frequency')\n",
    "\n",
    "# Histogram for BMI\n",
    "plt.subplot(1, 3, 2)\n",
    "plt.hist(diabetes['BMI'], bins=20, color='orange', edgecolor='black')\n",
    "plt.title('Histogram of BMI')\n",
    "plt.xlabel('BMI')\n",
    "plt.ylabel('Frequency')\n",
    "\n",
    "# Histogram for Age with decade-long bins (0-9, 10-19, 20-29, ...etc.)\n",
    "plt.subplot(1, 3, 3)\n",
    "plt.hist(diabetes['Age'], bins=range(0, 101, 10), color='forestgreen', edgecolor='black')\n",
    "plt.title('Histogram of Age')\n",
    "plt.xlabel('Age')\n",
    "plt.ylabel('Frequency')\n",
    "\n",
    "plt.tight_layout()  # Adjust subplot layout to avoid overlap\n",
    "plt.show()"
   ]
  },
  {
   "cell_type": "markdown",
   "metadata": {},
   "source": [
    "### Comment:"
   ]
  },
  {
   "cell_type": "code",
   "execution_count": 184,
   "metadata": {},
   "outputs": [],
   "source": [
    "# Looking at the histogram for glucose we can see an outlier thats not easily to see from just the data alone. "
   ]
  },
  {
   "cell_type": "markdown",
   "metadata": {},
   "source": [
    "### Chart 2 - Correlation Matrix Heatmap\n",
    "\n",
    "    1. Calcuate the correlation matrix of the dataframe and plot the heatmap.\n",
    "    2. Question: what are the three factors that have the highest correlation to the outcome? "
   ]
  },
  {
   "cell_type": "code",
   "execution_count": 185,
   "metadata": {},
   "outputs": [
    {
     "data": {
      "image/png": "[encoded data removed]",
      "text/plain": [
       "<Figure size 1000x800 with 2 Axes>"
      ]
     },
     "metadata": {},
     "output_type": "display_data"
    },
    {
     "name": "stdout",
     "output_type": "stream",
     "text": [
      "Factors with the highest correlation to the outcome:\n",
      "Glucose    0.466581\n",
      "BMI        0.300615\n",
      "Age        0.238356\n",
      "Name: Outcome, dtype: float64\n"
     ]
    }
   ],
   "source": [
    "# Calculate the correlation matrix\n",
    "corr_matrix = diabetes.corr()\n",
    "\n",
    "# Plot the heatmap using seaborn\n",
    "plt.figure(figsize=(10, 8))\n",
    "sns.heatmap(corr_matrix, annot=True, cmap='coolwarm', fmt=\".2f\")\n",
    "plt.title('Correlation Matrix Heatmap')\n",
    "plt.show()\n",
    "\n",
    "# Find the three factors with the highest correlation to the outcome\n",
    "highest_corr_factors = corr_matrix['Outcome'].abs().sort_values(ascending=False)[1:4]\n",
    "\n",
    "print(\"Factors with the highest correlation to the outcome:\")\n",
    "print(highest_corr_factors)"
   ]
  },
  {
   "cell_type": "markdown",
   "metadata": {},
   "source": [
    "### Comment:"
   ]
  },
  {
   "cell_type": "code",
   "execution_count": 186,
   "metadata": {},
   "outputs": [],
   "source": [
    "# Glucose is the only one with the highest correlation to outcome while the other hot spots were Age & Pregnancy and \n",
    "# Insulin & Skin Thickness"
   ]
  },
  {
   "cell_type": "markdown",
   "metadata": {},
   "source": [
    "### Chart 3 - Create your own chart"
   ]
  },
  {
   "cell_type": "code",
   "execution_count": 187,
   "metadata": {},
   "outputs": [
    {
     "data": {
      "image/png": "[encoded data removed]",
      "text/plain": [
       "<Figure size 800x600 with 1 Axes>"
      ]
     },
     "metadata": {},
     "output_type": "display_data"
    }
   ],
   "source": [
    "# Calculate the average BMI dependant on whether they have diabetes or not\n",
    "avg_bmi_by_outcome = diabetes.groupby('Outcome')['BMI'].mean()\n",
    "\n",
    "# Plot the bar chart\n",
    "plt.figure(figsize=(8, 6))\n",
    "avg_bmi_by_outcome.plot(kind='bar', color=['blue', 'green'])\n",
    "plt.title('Average BMI by Outcome')\n",
    "plt.xlabel('Outcome')\n",
    "plt.ylabel('Average BMI')\n",
    "plt.xticks([0, 1], ['No Diabetes', 'Diabetes'])\n",
    "plt.show()"
   ]
  },
  {
   "cell_type": "markdown",
   "metadata": {},
   "source": [
    "### Comment:"
   ]
  },
  {
   "cell_type": "code",
   "execution_count": 188,
   "metadata": {},
   "outputs": [],
   "source": [
    "# Comparing Average BMI's for whether there is diabetes present or not shows that there is a \n",
    "# slightly higher BMI for those with diabetes."
   ]
  },
  {
   "cell_type": "markdown",
   "metadata": {},
   "source": [
    "## Part 2.3: In-Depth Analysis (25 points)\n",
    "\n",
    "__In this section, you will write codes to answer three questions about the dataset. The first two are given and you need to come up with your own question for the third one. For example, you may analyze how individual feature (column data) impacts the outcome of the diagnosis.__"
   ]
  },
  {
   "cell_type": "markdown",
   "metadata": {},
   "source": [
    "### Q1. Do older women have higher chances of getting diabetes?  \n",
    "#### You may need to create a bar chart with women in different age groups and show the percentage and/or total number of diabetic vs. non-diabetic in each group."
   ]
  },
  {
   "cell_type": "code",
   "execution_count": 189,
   "metadata": {},
   "outputs": [
    {
     "data": {
      "image/png": "[encoded data removed]",
      "text/plain": [
       "<Figure size 640x480 with 1 Axes>"
      ]
     },
     "metadata": {},
     "output_type": "display_data"
    }
   ],
   "source": [
    "# Group the data by age groups (e.g., 20-29, 30-39, ...) using pandas here\n",
    "age_groups = pd.cut(diabetes['Age'], bins=[20, 30, 40, 50, 60, 70, 80, 90])\n",
    "\n",
    "# Calculate the total number of diabetic and non-diabetic women in each age group\n",
    "grouped_data = diabetes.groupby([age_groups, 'Outcome']).size().unstack(fill_value=0)\n",
    "\n",
    "#  Calculate the percentage of diabetic and non-diabetic women in each age group\n",
    "grouped_data['Percentage Diabetic'] = (grouped_data[1] / (grouped_data[0] + grouped_data[1])) * 100\n",
    "grouped_data['Percentage Non-Diabetic'] = (grouped_data[0] / (grouped_data[0] + grouped_data[1])) * 100\n",
    "\n",
    "# Plotting the bar chart\n",
    "grouped_data[['Percentage Diabetic', 'Percentage Non-Diabetic']].plot(kind='bar', color=['orange', 'lightblue'])\n",
    "plt.title('Percentage of Diabetic and Non-Diabetic Women by Age Group')\n",
    "plt.xlabel('Age Group')\n",
    "plt.ylabel('Percentage')\n",
    "\n",
    "#custom x-axis labels\n",
    "plt.gca().set_xticklabels(['(20-29)', '(30-39)', '(40-49)', '(50-59)', '(60-69)', '(70-79)', '(80-89)']) \n",
    "\n",
    "# legend\n",
    "plt.legend(title='Outcome', labels=['Diabetic', 'Non-Diabetic']) \n",
    "plt.show()"
   ]
  },
  {
   "cell_type": "markdown",
   "metadata": {},
   "source": [
    "### Analysis"
   ]
  },
  {
   "cell_type": "code",
   "execution_count": 190,
   "metadata": {},
   "outputs": [],
   "source": [
    "# this was tricky to set up between the two groups of women of different ages..  I'm shook that theres no diabetics past 69"
   ]
  },
  {
   "cell_type": "markdown",
   "metadata": {},
   "source": [
    "### 2. Based on BMI data, how many of this group of patients are considered underweight, normal, overweight, obese (class I, II, and III)? \n",
    "\n",
    "  - underwieght: 0 < BMI < 18.5\n",
    "  - normal: 18.5 =< BMI < <25\n",
    "  - overweight: 25 =< BMI <30\n",
    "  - class I: 30 =< BMI < 35\n",
    "  - class II: 35 =< BMI <40\n",
    "  - class III: BMI >= 40"
   ]
  },
  {
   "cell_type": "code",
   "execution_count": 191,
   "metadata": {},
   "outputs": [
    {
     "name": "stdout",
     "output_type": "stream",
     "text": [
      "Underweight: 4\n",
      "Normal: 102\n",
      "Overweight: 179\n",
      "Class (I): 243\n",
      "Class (II): 150\n",
      "Class (III): 90\n"
     ]
    },
    {
     "data": {
      "image/png": "[encoded data removed]",
      "text/plain": [
       "<Figure size 640x480 with 1 Axes>"
      ]
     },
     "metadata": {},
     "output_type": "display_data"
    }
   ],
   "source": [
    "# Define the BMI categories in a dictionary\n",
    "categories = {\n",
    "    'Underweight': (0, 18.5),\n",
    "    'Normal': (18.5, 25),\n",
    "    'Overweight': (25, 30),\n",
    "    'Class (I)': (30, 35),\n",
    "    'Class (II)': (35, 40),\n",
    "    'Class (III)': (40, float('inf'))\n",
    "}\n",
    "\n",
    "# Initialize counters for each category\n",
    "category_counts = {category: 0 for category in categories}\n",
    "\n",
    "# Classify patients based on BMI and count them for each category\n",
    "for bmi in diabetes['BMI']:\n",
    "    for category, (lower, upper) in categories.items():\n",
    "        if lower <= bmi < upper:\n",
    "            category_counts[category] += 1\n",
    "\n",
    "# Displaying the counts for each category\n",
    "for category, count in category_counts.items():\n",
    "    print(f\"{category}: {count}\")\n",
    "\n",
    "# Plotting the counts in a bar chart (optional)\n",
    "plt.bar(category_counts.keys(), category_counts.values(), color='blue')\n",
    "plt.title('BMI Distribution of Patients')\n",
    "plt.xlabel('BMI Category')\n",
    "plt.ylabel('Number of Patients')\n",
    "plt.show()"
   ]
  },
  {
   "cell_type": "markdown",
   "metadata": {},
   "source": [
    "### Analysis:"
   ]
  },
  {
   "cell_type": "code",
   "execution_count": 192,
   "metadata": {},
   "outputs": [],
   "source": [
    "# larger numbers of patients with higher BMI's are mostly likely overweight and class 1 diabetics."
   ]
  },
  {
   "cell_type": "markdown",
   "metadata": {},
   "source": [
    "### 3. Propose and analyze your own question here."
   ]
  },
  {
   "cell_type": "code",
   "execution_count": 193,
   "metadata": {},
   "outputs": [
    {
     "data": {
      "image/png": "[encoded data removed]",
      "text/plain": [
       "<Figure size 1200x800 with 2 Axes>"
      ]
     },
     "metadata": {},
     "output_type": "display_data"
    }
   ],
   "source": [
    "# Combining the previous two questions: What's the BMI distribution of women of different ages who \n",
    "# are diabetic vs non diabetic?\n",
    "\n",
    "# Group the data by age groups (each bin is 10 years)\n",
    "age_groups = pd.cut(diabetes['Age'], bins=[20, 30, 40, 50, 60, 70, 80, 90])\n",
    "\n",
    "# Calculate the total number of diabetic and non-diabetic women in each age group (like before)\n",
    "grouped_data = diabetes.groupby([age_groups, 'Outcome']).size().unstack(fill_value=0)\n",
    "\n",
    "# Calculate the percentage of diabetic and non-diabetic women in each age group \n",
    "grouped_data['Percentage Diabetic'] = (grouped_data[1] / (grouped_data[0] + grouped_data[1])) * 100\n",
    "grouped_data['Percentage Non-Diabetic'] = (grouped_data[0] / (grouped_data[0] + grouped_data[1])) * 100\n",
    "\n",
    "# Calculate the mean BMI for diabetic and non-diabetic women in each age group\n",
    "grouped_bmi = diabetes.groupby([age_groups, 'Outcome'])['BMI'].mean().unstack(fill_value=0)\n",
    "\n",
    "# Adding BMI data to the grouped_data DataFrame\n",
    "grouped_data['Mean BMI (Diabetic)'] = grouped_bmi[1]\n",
    "grouped_data['Mean BMI (Non-Diabetic)'] = grouped_bmi[0]\n",
    "\n",
    "# Plotting the bar chart with stacked bars for diabetic and non-diabetic percentages and overlaying a line plot for BMI\n",
    "# This part was weird with the bars unstacked so I continued with stacked for a cleaner look\n",
    "fig, ax1 = plt.subplots(figsize=(12, 8))\n",
    "\n",
    "grouped_data[['Percentage Diabetic', 'Percentage Non-Diabetic']].plot(kind='bar', stacked=True, color=['orange', 'lightblue'], ax=ax1)\n",
    "ax1.set_ylabel('Percentage')\n",
    "\n",
    "# Customizing x-axis labels\n",
    "ax1.set_xticklabels(['(20-29)', '(30-39)', '(40-49)', '(50-59)', '(60-69)', '(70-79)', '(80-89)'])\n",
    "\n",
    "# Adding a second y-axis for mean BMI\n",
    "ax2 = ax1.twinx()\n",
    "grouped_data[['Mean BMI (Diabetic)', 'Mean BMI (Non-Diabetic)']].plot(kind='line', marker='o', linestyle='-', color=['red', 'blue'], ax=ax2)\n",
    "ax2.set_ylabel('Mean BMI')\n",
    "\n",
    "# Legend\n",
    "lines, labels = ax1.get_legend_handles_labels()\n",
    "lines2, labels2 = ax2.get_legend_handles_labels()\n",
    "ax2.legend(lines + lines2, labels + labels2, loc='upper left')\n",
    "\n",
    "plt.title('Percentage of Diabetic and Non-Diabetic Women and Mean BMI by Age Group')\n",
    "plt.xlabel('Age Group')\n",
    "plt.show()\n"
   ]
  },
  {
   "cell_type": "markdown",
   "metadata": {},
   "source": [
    "### Analysis:"
   ]
  },
  {
   "cell_type": "code",
   "execution_count": 194,
   "metadata": {},
   "outputs": [],
   "source": [
    "# Combining the previous two questions: What's the BMI distribution of women of different ages who \n",
    "# are diabetic vs non diabetic?\n",
    "\n",
    "\n",
    "# The mean BMI is consistently higher for diabetic female patients across the age groups (excluding past 71 because there\n",
    "# are no records of diabetic women after that point). The mean BMI for non-diabetic women patients were particularly \n",
    "# high at age 40-50 regardless of being diabetic or not. "
   ]
  }
 ],
 "metadata": {
  "kernelspec": {
   "display_name": "Python 3 (ipykernel)",
   "language": "python",
   "name": "python3"
  },
  "language_info": {
   "codemirror_mode": {
    "name": "ipython",
    "version": 3
   },
   "file_extension": ".py",
   "mimetype": "text/x-python",
   "name": "python",
   "nbconvert_exporter": "python",
   "pygments_lexer": "ipython3",
   "version": "3.11.5"
  }
 },
 "nbformat": 4,
 "nbformat_minor": 2
}
