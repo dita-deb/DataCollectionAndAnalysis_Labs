{
 "cells": [
  {
   "cell_type": "markdown",
   "metadata": {},
   "source": [
    "<center><h1> CPE 4040 Spring 2024: Homework 2 Solution</h1></center>"
   ]
  },
  {
   "cell_type": "markdown",
   "metadata": {},
   "source": [
    "### Q1: Mary Had a Little Lamb (15 Points)"
   ]
  },
  {
   "cell_type": "code",
   "execution_count": 63,
   "metadata": {},
   "outputs": [],
   "source": [
    "title = 'mary HAD a little lamb'\n",
    "\n",
    "lyrics = '''\n",
    "Mary had a little limb,\n",
    "Little limb, little limb.\n",
    "Mary had a little limb\n",
    "Its fleece was white as snow.\n",
    "\n",
    "And everywhere that Mary went,\n",
    "Mary went, Mary went,\n",
    "Everywhere that Mary went\n",
    "The limb was sure to go.\n",
    "\n",
    "It followed her to school one day,\n",
    "School one day, school one day.\n",
    "It followed her to school one day\n",
    "Which was against the rules.\n",
    "\n",
    "It made the children laugh and play,\n",
    "Laugh and play, laugh and play.\n",
    "It made the children laugh and play,\n",
    "To see a limb at school.\n",
    "'''"
   ]
  },
  {
   "cell_type": "markdown",
   "metadata": {},
   "source": [
    "### Q1.1 The song title is not properly capitalized. Use string method to correct it to \"Mary Had a Little Lamb\"."
   ]
  },
  {
   "cell_type": "code",
   "execution_count": 94,
   "metadata": {},
   "outputs": [
    {
     "data": {
      "text/plain": [
       "'Mary Had a Little Lamb'"
      ]
     },
     "execution_count": 94,
     "metadata": {},
     "output_type": "execute_result"
    }
   ],
   "source": [
    "# The correct title should be \"Mary Had A Little Lamb\"\n",
    "\n",
    "title.title().replace('A', 'a')"
   ]
  },
  {
   "cell_type": "markdown",
   "metadata": {},
   "source": [
    "### Q1.2 The word \"lamb\" is misspelled in several places. Please find them and correct the spelling. "
   ]
  },
  {
   "cell_type": "code",
   "execution_count": 65,
   "metadata": {},
   "outputs": [
    {
     "name": "stdout",
     "output_type": "stream",
     "text": [
      "How many times were \"lamb\" spelled wrong? 6\n"
     ]
    }
   ],
   "source": [
    "# Obviously, lamb was misspelled as \"limb\" in several place\n",
    "\n",
    "print (\"How many times were \\\"lamb\\\" spelled wrong?\", lyrics.count('limb'))"
   ]
  },
  {
   "cell_type": "code",
   "execution_count": 66,
   "metadata": {},
   "outputs": [
    {
     "name": "stdout",
     "output_type": "stream",
     "text": [
      "\n",
      "Mary had a little lamb,\n",
      "Little lamb, little lamb.\n",
      "Mary had a little lamb\n",
      "Its fleece was white as snow.\n",
      "\n",
      "And everywhere that Mary went,\n",
      "Mary went, Mary went,\n",
      "Everywhere that Mary went\n",
      "The lamb was sure to go.\n",
      "\n",
      "It followed her to school one day,\n",
      "School one day, school one day.\n",
      "It followed her to school one day\n",
      "Which was against the rules.\n",
      "\n",
      "It made the children laugh and play,\n",
      "Laugh and play, laugh and play.\n",
      "It made the children laugh and play,\n",
      "To see a lamb at school.\n",
      "\n"
     ]
    }
   ],
   "source": [
    "print (lyrics.replace('limb', 'lamb'))"
   ]
  },
  {
   "cell_type": "markdown",
   "metadata": {},
   "source": [
    "### Q1.3 How many words are in this song, not including commas, periods, spaces and new lines?\n",
    "\n",
    "Note: Use string method split( ) first."
   ]
  },
  {
   "cell_type": "code",
   "execution_count": 67,
   "metadata": {},
   "outputs": [
    {
     "name": "stdout",
     "output_type": "stream",
     "text": [
      "['Mary', 'had', 'a', 'little', 'limb,', 'Little', 'limb,', 'little', 'limb.', 'Mary', 'had', 'a', 'little', 'limb', 'Its', 'fleece', 'was', 'white', 'as', 'snow.', 'And', 'everywhere', 'that', 'Mary', 'went,', 'Mary', 'went,', 'Mary', 'went,', 'Everywhere', 'that', 'Mary', 'went', 'The', 'limb', 'was', 'sure', 'to', 'go.', 'It', 'followed', 'her', 'to', 'school', 'one', 'day,', 'School', 'one', 'day,', 'school', 'one', 'day.', 'It', 'followed', 'her', 'to', 'school', 'one', 'day', 'Which', 'was', 'against', 'the', 'rules.', 'It', 'made', 'the', 'children', 'laugh', 'and', 'play,', 'Laugh', 'and', 'play,', 'laugh', 'and', 'play.', 'It', 'made', 'the', 'children', 'laugh', 'and', 'play,', 'To', 'see', 'a', 'limb', 'at', 'school.']\n"
     ]
    }
   ],
   "source": [
    "# If we do lyrics.split() and count the words that way, what is the result?\n",
    "\n",
    "print (lyrics.split())"
   ]
  },
  {
   "cell_type": "code",
   "execution_count": 68,
   "metadata": {},
   "outputs": [
    {
     "name": "stdout",
     "output_type": "stream",
     "text": [
      "Total number of words = 90\n"
     ]
    }
   ],
   "source": [
    "# As you can see, the spaces & new lines are gone, and the commas & periods are combined with\n",
    "# words that preceeded them. Haha, by pure luck, we got the answer!\n",
    "\n",
    "print (\"Total number of words =\", len(lyrics.split()))"
   ]
  },
  {
   "cell_type": "markdown",
   "metadata": {},
   "source": [
    "### Q2: Palindrome or Symmetrical String (20 Points)\n",
    "\n",
    "Write a Python program to check whether an input string is palindrome or symmetrical.\n",
    "    \n",
    "    A sequence is said to be palindrome if one half of the string is the reverse of the other half, e.g., \"madam\".\n",
    "    A sequence is said to be symmetrical if both halves of the string are the same, e.g., \"abcabc\"\n",
    "    \n",
    "    **Note: if there are odd number of letters in a string, the middle one is ignored.\n",
    "    **Note: the string is case insensitive\n",
    "    \n",
    "**Hint:** use the string slice( ) method to divide the string into 2 halves.\n",
    "\n",
    "To show your work, use those input strings: \"level\", \"Cosco\", \"aaaAAaaa\"."
   ]
  },
  {
   "cell_type": "code",
   "execution_count": 69,
   "metadata": {},
   "outputs": [],
   "source": [
    "# First, divide the string into two halves.\n",
    "# If there are odd number of letters, the midpoint is ignored.\n",
    "\n",
    "def is_palin_symm(s):\n",
    "    string = s.lower()       # the string is case insensitive\n",
    "    half = int(len(string)/2)\n",
    " \n",
    "    if len(string) % 2 == 0:  # even\n",
    "        first_half = string[:half]\n",
    "        second_half = string[half:]\n",
    "    else:  # odd\n",
    "        first_half = string[:half]\n",
    "        second_half = string[half+1:]\n",
    "# symmetric\n",
    "    if first_half == second_half:\n",
    "        print(s, 'is symmertical')\n",
    "    else:\n",
    "        print(s, 'is not symmertical') \n",
    "# palindrome\n",
    "    if first_half == second_half[::-1]: \n",
    "        print(s, 'is palindrome')\n",
    "    else:\n",
    "        print(s, 'is not palindrome')"
   ]
  },
  {
   "cell_type": "code",
   "execution_count": 70,
   "metadata": {},
   "outputs": [
    {
     "name": "stdout",
     "output_type": "stream",
     "text": [
      "Cosco is symmertical\n",
      "Cosco is not palindrome\n",
      "level is not symmertical\n",
      "level is palindrome\n",
      "aaaAAaaa is symmertical\n",
      "aaaAAaaa is palindrome\n"
     ]
    }
   ],
   "source": [
    "is_palin_symm('Cosco')\n",
    "is_palin_symm('level')\n",
    "is_palin_symm('aaaAAaaa')"
   ]
  },
  {
   "cell_type": "markdown",
   "metadata": {},
   "source": [
    "### Short and sweet version "
   ]
  },
  {
   "cell_type": "code",
   "execution_count": 71,
   "metadata": {},
   "outputs": [
    {
     "name": "stdout",
     "output_type": "stream",
     "text": [
      "aaaAAaaa  is symmetrical\n",
      "aaaAAaaa  is palindrome\n",
      "level  is palindrome\n",
      "Cosco  is symmetrical\n"
     ]
    }
   ],
   "source": [
    "def func(s):\n",
    "    if s[:int(len(s)/2)].lower() == s[len(s) - int(len(s)/2):].lower(): # the \"len(s) - int(len(s)/2)\" part automaticly ignores the middle one.\n",
    "        print(s, \" is symmetrical\")\n",
    "    if s.lower() == s[::-1].lower():\n",
    "        print(s, \" is palindrome\")\n",
    "\n",
    "\n",
    "for s in {'level','Cosco','aaaAAaaa'}:\n",
    "    func(s)"
   ]
  },
  {
   "cell_type": "markdown",
   "metadata": {},
   "source": [
    "### Q3: List Comprehension - Exploring State Names (30 Points)\n",
    "\n",
    "Given the a list of 50 state names, please use list comprehension to answer the following questions. "
   ]
  },
  {
   "cell_type": "code",
   "execution_count": 72,
   "metadata": {},
   "outputs": [],
   "source": [
    "#--------------------------------------------------------------\n",
    "# 50 state names as a list\n",
    "#--------------------------------------------------------------\n",
    "states = ['Alabama','Alaska','Arizona','Arkansas','California','Colorado',\n",
    "          'Connecticut','Delaware','Florida','Georgia','Hawaii','Idaho',\n",
    "          'Illinois','Indiana','Iowa','Kansas','Kentucky','Louisiana',\n",
    "          'Maine','Maryland','Massachusetts','Michigan','Minnesota',\n",
    "          'Mississippi','Missouri','Montana','Nebraska','Nevada',\n",
    "          'New Hampshire','New Jersey','New Mexico','New York',\n",
    "          'North Carolina','North Dakota','Ohio','Oklahoma','Oregon',\n",
    "          'Pennsylvania','Rhode Island','South Carolina','South Dakota',\n",
    "          'Tennessee','Texas','Utah','Vermont','Virginia','Washington',\n",
    "          'West Virginia','Wisconsin','Wyoming']"
   ]
  },
  {
   "cell_type": "markdown",
   "metadata": {},
   "source": [
    "### Q3.1 What are the top 3 states with the longest one-word name?  \n",
    "\n",
    "Hint: Remember do not consider states such New York, North Carolina etc. which have two words."
   ]
  },
  {
   "cell_type": "code",
   "execution_count": 73,
   "metadata": {},
   "outputs": [
    {
     "name": "stdout",
     "output_type": "stream",
     "text": [
      "['Alabama', 'Alaska', 'Arizona', 'Arkansas', 'California', 'Colorado', 'Connecticut', 'Delaware', 'Florida', 'Georgia', 'Hawaii', 'Idaho', 'Illinois', 'Indiana', 'Iowa', 'Kansas', 'Kentucky', 'Louisiana', 'Maine', 'Maryland', 'Massachusetts', 'Michigan', 'Minnesota', 'Mississippi', 'Missouri', 'Montana', 'Nebraska', 'Nevada', 'Ohio', 'Oklahoma', 'Oregon', 'Pennsylvania', 'Tennessee', 'Texas', 'Utah', 'Vermont', 'Virginia', 'Washington', 'Wisconsin', 'Wyoming']\n"
     ]
    }
   ],
   "source": [
    "# Remove the two-word states out of the list\n",
    "\n",
    "state_1 = [s for s in states if ' ' not in s]\n",
    "print (state_1)"
   ]
  },
  {
   "cell_type": "code",
   "execution_count": 74,
   "metadata": {},
   "outputs": [
    {
     "name": "stdout",
     "output_type": "stream",
     "text": [
      "[(7, 'Alabama'), (6, 'Alaska'), (7, 'Arizona'), (8, 'Arkansas'), (10, 'California'), (8, 'Colorado'), (11, 'Connecticut'), (8, 'Delaware'), (7, 'Florida'), (7, 'Georgia'), (6, 'Hawaii'), (5, 'Idaho'), (8, 'Illinois'), (7, 'Indiana'), (4, 'Iowa'), (6, 'Kansas'), (8, 'Kentucky'), (9, 'Louisiana'), (5, 'Maine'), (8, 'Maryland'), (13, 'Massachusetts'), (8, 'Michigan'), (9, 'Minnesota'), (11, 'Mississippi'), (8, 'Missouri'), (7, 'Montana'), (8, 'Nebraska'), (6, 'Nevada'), (4, 'Ohio'), (8, 'Oklahoma'), (6, 'Oregon'), (12, 'Pennsylvania'), (9, 'Tennessee'), (5, 'Texas'), (4, 'Utah'), (7, 'Vermont'), (8, 'Virginia'), (10, 'Washington'), (9, 'Wisconsin'), (7, 'Wyoming')]\n"
     ]
    }
   ],
   "source": [
    "# Find out the length of each state for the new list\n",
    "state_len = [(len(s), s) for s in state_1]\n",
    "print (state_len)"
   ]
  },
  {
   "cell_type": "code",
   "execution_count": 75,
   "metadata": {},
   "outputs": [
    {
     "data": {
      "text/plain": [
       "[(13, 'Massachusetts'),\n",
       " (12, 'Pennsylvania'),\n",
       " (11, 'Mississippi'),\n",
       " (11, 'Connecticut'),\n",
       " (10, 'Washington'),\n",
       " (10, 'California'),\n",
       " (9, 'Wisconsin'),\n",
       " (9, 'Tennessee'),\n",
       " (9, 'Minnesota'),\n",
       " (9, 'Louisiana'),\n",
       " (8, 'Virginia'),\n",
       " (8, 'Oklahoma'),\n",
       " (8, 'Nebraska'),\n",
       " (8, 'Missouri'),\n",
       " (8, 'Michigan'),\n",
       " (8, 'Maryland'),\n",
       " (8, 'Kentucky'),\n",
       " (8, 'Illinois'),\n",
       " (8, 'Delaware'),\n",
       " (8, 'Colorado'),\n",
       " (8, 'Arkansas'),\n",
       " (7, 'Wyoming'),\n",
       " (7, 'Vermont'),\n",
       " (7, 'Montana'),\n",
       " (7, 'Indiana'),\n",
       " (7, 'Georgia'),\n",
       " (7, 'Florida'),\n",
       " (7, 'Arizona'),\n",
       " (7, 'Alabama'),\n",
       " (6, 'Oregon'),\n",
       " (6, 'Nevada'),\n",
       " (6, 'Kansas'),\n",
       " (6, 'Hawaii'),\n",
       " (6, 'Alaska'),\n",
       " (5, 'Texas'),\n",
       " (5, 'Maine'),\n",
       " (5, 'Idaho'),\n",
       " (4, 'Utah'),\n",
       " (4, 'Ohio'),\n",
       " (4, 'Iowa')]"
      ]
     },
     "execution_count": 75,
     "metadata": {},
     "output_type": "execute_result"
    }
   ],
   "source": [
    "# Use sorted() function to find the top three \n",
    "\n",
    "sorted((state_len), reverse= True)"
   ]
  },
  {
   "cell_type": "code",
   "execution_count": 76,
   "metadata": {},
   "outputs": [
    {
     "data": {
      "text/plain": [
       "[(13, 'Massachusetts'), (12, 'Pennsylvania'), (11, 'Mississippi')]"
      ]
     },
     "execution_count": 76,
     "metadata": {},
     "output_type": "execute_result"
    }
   ],
   "source": [
    "sorted((state_len), reverse= True)[:3]"
   ]
  },
  {
   "cell_type": "code",
   "execution_count": 77,
   "metadata": {},
   "outputs": [
    {
     "data": {
      "text/plain": [
       "[(13, 'Massachusetts'), (12, 'Pennsylvania'), (11, 'Mississippi')]"
      ]
     },
     "execution_count": 77,
     "metadata": {},
     "output_type": "execute_result"
    }
   ],
   "source": [
    "# You can combined all the codes to one line\n",
    "\n",
    "sorted([(len(s), s) for s in states if ' ' not in s], reverse=True)[:3]"
   ]
  },
  {
   "cell_type": "markdown",
   "metadata": {},
   "source": [
    "### Q3.2 Which states start and end with the same letter, for example, Alaska starts and ends with 'a'?"
   ]
  },
  {
   "cell_type": "code",
   "execution_count": 78,
   "metadata": {},
   "outputs": [
    {
     "name": "stdout",
     "output_type": "stream",
     "text": [
      "['Alabama', 'Alaska', 'Arizona', 'Ohio']\n"
     ]
    }
   ],
   "source": [
    "# the for loop verion\n",
    "new_list = []\n",
    "for x in states:\n",
    "    if x[0].lower() == x[-1]:     # make sure the first letter is in lower-case\n",
    "        new_list.append(x)\n",
    "\n",
    "# List comprehension         \n",
    "\n",
    "new_list = [x for x in states if x[0].lower() == x[-1]]\n",
    "\n",
    "print (new_list)"
   ]
  },
  {
   "cell_type": "markdown",
   "metadata": {},
   "source": [
    "### Q3.3 Which alphabetic letter is not present in any of the state names? Yep, there's only one."
   ]
  },
  {
   "cell_type": "code",
   "execution_count": 79,
   "metadata": {},
   "outputs": [
    {
     "name": "stdout",
     "output_type": "stream",
     "text": [
      "The letter q is not in any state name!\n"
     ]
    }
   ],
   "source": [
    "# This one is a bit tricky using list comprehension.\n",
    "\n",
    "alphabet = 'abcdefghijklmnopqrstuwvyxz'\n",
    "\n",
    "for x in alphabet:\n",
    "    # for each letter, find the list of states that contain it\n",
    "    s_list = [s for s in states if x in s.lower()]\n",
    "    # if the s_list is empty, then bingo!\n",
    "    if len(s_list) == 0:\n",
    "        print ('The letter', x, 'is not in any state name!')"
   ]
  },
  {
   "cell_type": "code",
   "execution_count": 80,
   "metadata": {},
   "outputs": [
    {
     "name": "stdout",
     "output_type": "stream",
     "text": [
      "Alphabetic letters not present in state names: ['q']\n"
     ]
    }
   ],
   "source": [
    "# A clever solution\n",
    "\n",
    "import string\n",
    "\n",
    "all_letters = set(''.join(states).lower())  # collect all alphabet letters in a set\n",
    "letters = set(string.ascii_lowercase) - all_letters  # find the missing one\n",
    "\n",
    "print(\"Alphabetic letters not present in state names:\", sorted(letters))"
   ]
  },
  {
   "cell_type": "markdown",
   "metadata": {},
   "source": [
    "### Q3.4 Which state names have no character repetition? For example, Florida has 7 distinct letters and no repetition."
   ]
  },
  {
   "cell_type": "code",
   "execution_count": 81,
   "metadata": {},
   "outputs": [
    {
     "name": "stdout",
     "output_type": "stream",
     "text": [
      "7 5\n",
      "7 7\n"
     ]
    }
   ],
   "source": [
    "# You will count the number of letters and the number of distinct letters in a state name.\n",
    "# If those two numbers are the same, then that's what you want.\n",
    "# The data type \"set\" is ideal for this purpose\n",
    "\n",
    "print (len('Alabama'), len(set('Alabama')) )\n",
    "print (len('Florida'), len(set('Florida')) )"
   ]
  },
  {
   "cell_type": "code",
   "execution_count": 82,
   "metadata": {},
   "outputs": [
    {
     "data": {
      "text/plain": [
       "['Florida',\n",
       " 'Idaho',\n",
       " 'Iowa',\n",
       " 'Maine',\n",
       " 'New York',\n",
       " 'Texas',\n",
       " 'Utah',\n",
       " 'Vermont',\n",
       " 'Wyoming']"
      ]
     },
     "execution_count": 82,
     "metadata": {},
     "output_type": "execute_result"
    }
   ],
   "source": [
    "[s for s in states if len(s.lower()) == len(set(s.lower()))]"
   ]
  },
  {
   "cell_type": "markdown",
   "metadata": {},
   "source": [
    "### Q3.5: Which state names do not have the letter 'a' at all?"
   ]
  },
  {
   "cell_type": "code",
   "execution_count": 83,
   "metadata": {},
   "outputs": [
    {
     "name": "stdout",
     "output_type": "stream",
     "text": [
      "['Connecticut', 'Illinois', 'Kentucky', 'Mississippi', 'Missouri', 'New Jersey', 'New Mexico', 'New York', 'Ohio', 'Oregon', 'Tennessee', 'Vermont', 'Wisconsin', 'Wyoming']\n"
     ]
    }
   ],
   "source": [
    "new_list = [x for x in states if 'a' not in x.lower()]\n",
    "\n",
    "print (new_list)"
   ]
  },
  {
   "cell_type": "markdown",
   "metadata": {},
   "source": [
    "<h3> Q4: List Operations (20 points) </h3>\n",
    "\n",
    "You will first generate a list of 10 random integers from 1 to 1000 by using the Python random module. Save the list (let's call it A) and write a short snippet for each of the following task:\n",
    "\n",
    "1. Pick and sort first the odd numbers then the even numbers in ascending order and print the final list, e.g. [1 3 51 4 16 32]\n",
    "2. Extract only the items that are less than 250.\n",
    "3. Create a new list where each item y is the square of the correpsonding item in A.\n",
    "4. Extract the items that are NOT divisible by 3 and NOT divisible by 7"
   ]
  },
  {
   "cell_type": "code",
   "execution_count": 84,
   "metadata": {},
   "outputs": [],
   "source": [
    "import random\n",
    "\n",
    "# Note: you can use random.randint() to generate the random integers"
   ]
  },
  {
   "cell_type": "code",
   "execution_count": 85,
   "metadata": {},
   "outputs": [
    {
     "name": "stdout",
     "output_type": "stream",
     "text": [
      "The random numbers = [138, 583, 868, 822, 783, 65, 262, 121, 508, 780]\n",
      "The reordered list is : [65, 121, 583, 783, 138, 262, 508, 780, 822, 868]\n"
     ]
    }
   ],
   "source": [
    "#Q4_1\n",
    "A = []\n",
    "random.seed(1)     # optional: fix the random seed so the results are repeatable\n",
    "\n",
    "# create a list of 10 random rumbers from 1 to 1000\n",
    "for i in range(10):\n",
    "    A.append(random.randint(1,1000))\n",
    "    \n",
    "print ('The random numbers =', A)\n",
    "\n",
    "# Sort the odd numbers using list comprehension\n",
    "A_1 = [x for x in A if x%2]\n",
    "A_1.sort()\n",
    "\n",
    "# Sort the even numbers\n",
    "A_2 = [x for x in A if not x%2]\n",
    "A_2.sort()\n",
    "\n",
    "# Add A_1 and A_2\n",
    "AA = A_1 + A_2\n",
    "\n",
    "print(\"The reordered list is :\", AA)"
   ]
  },
  {
   "cell_type": "code",
   "execution_count": 86,
   "metadata": {},
   "outputs": [
    {
     "name": "stdout",
     "output_type": "stream",
     "text": [
      "The items < 250 = [65, 121, 138]\n"
     ]
    }
   ],
   "source": [
    "#Q4_2\n",
    "# Many ways to do this. Here are two examples.\n",
    "\n",
    "a = list(filter(lambda x: x < 250, AA))\n",
    "a = [x for x in AA if x < 250]\n",
    "\n",
    "print ('The items < 250 =', a)"
   ]
  },
  {
   "cell_type": "code",
   "execution_count": 87,
   "metadata": {},
   "outputs": [
    {
     "name": "stdout",
     "output_type": "stream",
     "text": [
      "Squaring each item = [4225, 14641, 339889, 613089, 19044, 68644, 258064, 608400, 675684, 753424]\n"
     ]
    }
   ],
   "source": [
    "#Q4_3\n",
    "\n",
    "# Again, here are two examples.\n",
    "\n",
    "b = list(map(lambda x: x*x, AA))\n",
    "b = [x**2 for x in AA]\n",
    "\n",
    "print ('Squaring each item =', b)"
   ]
  },
  {
   "cell_type": "code",
   "execution_count": 88,
   "metadata": {},
   "outputs": [
    {
     "name": "stdout",
     "output_type": "stream",
     "text": [
      "Numbers not divisible by 3 and 7 = [65, 121, 583, 262, 508]\n"
     ]
    }
   ],
   "source": [
    "#Q4_4\n",
    "\n",
    "c = [x for x in AA if x%3 and x%7]\n",
    "\n",
    "print ('Numbers not divisible by 3 and 7 =', c)"
   ]
  },
  {
   "cell_type": "markdown",
   "metadata": {},
   "source": [
    "### Q5: Order of Planets (15 Points)\n",
    "\n",
    "In the solar system, the planets, in order of their distances from the Sun (closest to farthest), are Mercury, Venus, Earth, Mars, Jupiter, Saturn, Uranus, and Neptune. Given an incomplete and out-of-order list, please use list methods to make it right."
   ]
  },
  {
   "cell_type": "code",
   "execution_count": 89,
   "metadata": {},
   "outputs": [],
   "source": [
    "planets = ['venus', 'mercury', 'mars', 'jupiter', 'earth']"
   ]
  },
  {
   "cell_type": "markdown",
   "metadata": {},
   "source": [
    "### Define the correct list of planet order"
   ]
  },
  {
   "cell_type": "code",
   "execution_count": 90,
   "metadata": {},
   "outputs": [],
   "source": [
    "new_planets = ['mercury', 'venus', 'earth', 'mars', 'jupiter', 'saturn', 'uranus', 'neptune']"
   ]
  },
  {
   "cell_type": "code",
   "execution_count": 91,
   "metadata": {},
   "outputs": [
    {
     "data": {
      "text/plain": [
       "['venus', 'mercury', 'mars', 'jupiter', 'earth', 'uranus', 'saturn', 'neptune']"
      ]
     },
     "execution_count": 91,
     "metadata": {},
     "output_type": "execute_result"
    }
   ],
   "source": [
    "## Add items that are not in new_planets to the list\n",
    "\n",
    "## Find the difference between the lists then append the difference\n",
    "\n",
    "diff = list(set(new_planets) - set(planets))\n",
    "\n",
    "for x in diff:\n",
    "    planets.append(x)\n",
    "\n",
    "planets"
   ]
  },
  {
   "cell_type": "code",
   "execution_count": 92,
   "metadata": {},
   "outputs": [
    {
     "data": {
      "text/plain": [
       "['mercury', 'venus', 'earth', 'mars', 'jupiter', 'saturn', 'uranus', 'neptune']"
      ]
     },
     "execution_count": 92,
     "metadata": {},
     "output_type": "execute_result"
    }
   ],
   "source": [
    "## Sort the list according to the order of the new list\n",
    "planets.sort(key=cor_planets.index)\n",
    "\n",
    "planets"
   ]
  }
 ],
 "metadata": {
  "kernelspec": {
   "display_name": "Python 3 (ipykernel)",
   "language": "python",
   "name": "python3"
  },
  "language_info": {
   "codemirror_mode": {
    "name": "ipython",
    "version": 3
   },
   "file_extension": ".py",
   "mimetype": "text/x-python",
   "name": "python",
   "nbconvert_exporter": "python",
   "pygments_lexer": "ipython3",
   "version": "3.11.5"
  }
 },
 "nbformat": 4,
 "nbformat_minor": 2
}
